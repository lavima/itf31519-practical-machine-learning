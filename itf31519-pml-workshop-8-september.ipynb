{
 "cells": [
  {
   "cell_type": "code",
   "execution_count": 1,
   "id": "ec16ae76",
   "metadata": {
    "_cell_guid": "b1076dfc-b9ad-4769-8c92-a6c4dae69d19",
    "_uuid": "8f2839f25d086af736a60e9eeb907d3b93b6e0e5",
    "execution": {
     "iopub.execute_input": "2023-09-11T13:18:16.726721Z",
     "iopub.status.busy": "2023-09-11T13:18:16.726245Z",
     "iopub.status.idle": "2023-09-11T13:18:17.182913Z",
     "shell.execute_reply": "2023-09-11T13:18:17.180993Z"
    },
    "papermill": {
     "duration": 0.472084,
     "end_time": "2023-09-11T13:18:17.185617",
     "exception": false,
     "start_time": "2023-09-11T13:18:16.713533",
     "status": "completed"
    },
    "tags": []
   },
   "outputs": [
    {
     "name": "stdout",
     "output_type": "stream",
     "text": [
      "/kaggle/input/heart-disease-cleveland-uci/heart_cleveland_upload.csv\n"
     ]
    }
   ],
   "source": [
    "# This Python 3 environment comes with many helpful analytics libraries installed\n",
    "# It is defined by the kaggle/python Docker image: https://github.com/kaggle/docker-python\n",
    "# For example, here's several helpful packages to load\n",
    "\n",
    "import numpy as np # linear algebra\n",
    "import pandas as pd # data processing, CSV file I/O (e.g. pd.read_csv)\n",
    "\n",
    "# Input data files are available in the read-only \"../input/\" directory\n",
    "# For example, running this (by clicking run or pressing Shift+Enter) will list all files under the input directory\n",
    "\n",
    "import os\n",
    "for dirname, _, filenames in os.walk('/kaggle/input'):\n",
    "    for filename in filenames:\n",
    "        print(os.path.join(dirname, filename))\n",
    "\n",
    "# You can write up to 20GB to the current directory (/kaggle/working/) that gets preserved as output when you create a version using \"Save & Run All\" \n",
    "# You can also write temporary files to /kaggle/temp/, but they won't be saved outside of the current session"
   ]
  },
  {
   "cell_type": "markdown",
   "id": "19853a14",
   "metadata": {
    "papermill": {
     "duration": 0.010945,
     "end_time": "2023-09-11T13:18:17.207656",
     "exception": false,
     "start_time": "2023-09-11T13:18:17.196711",
     "status": "completed"
    },
    "tags": []
   },
   "source": [
    "Load the dataset and separate the target (ground-truth/label) column from the features (attributes/variables)"
   ]
  },
  {
   "cell_type": "code",
   "execution_count": 2,
   "id": "f41015e9",
   "metadata": {
    "execution": {
     "iopub.execute_input": "2023-09-11T13:18:17.230981Z",
     "iopub.status.busy": "2023-09-11T13:18:17.229731Z",
     "iopub.status.idle": "2023-09-11T13:18:17.283622Z",
     "shell.execute_reply": "2023-09-11T13:18:17.282297Z"
    },
    "papermill": {
     "duration": 0.068481,
     "end_time": "2023-09-11T13:18:17.286444",
     "exception": false,
     "start_time": "2023-09-11T13:18:17.217963",
     "status": "completed"
    },
    "tags": []
   },
   "outputs": [
    {
     "data": {
      "text/html": [
       "<div>\n",
       "<style scoped>\n",
       "    .dataframe tbody tr th:only-of-type {\n",
       "        vertical-align: middle;\n",
       "    }\n",
       "\n",
       "    .dataframe tbody tr th {\n",
       "        vertical-align: top;\n",
       "    }\n",
       "\n",
       "    .dataframe thead th {\n",
       "        text-align: right;\n",
       "    }\n",
       "</style>\n",
       "<table border=\"1\" class=\"dataframe\">\n",
       "  <thead>\n",
       "    <tr style=\"text-align: right;\">\n",
       "      <th></th>\n",
       "      <th>age</th>\n",
       "      <th>sex</th>\n",
       "      <th>cp</th>\n",
       "      <th>trestbps</th>\n",
       "      <th>chol</th>\n",
       "      <th>fbs</th>\n",
       "      <th>restecg</th>\n",
       "      <th>thalach</th>\n",
       "      <th>exang</th>\n",
       "      <th>oldpeak</th>\n",
       "      <th>slope</th>\n",
       "      <th>ca</th>\n",
       "      <th>thal</th>\n",
       "    </tr>\n",
       "  </thead>\n",
       "  <tbody>\n",
       "    <tr>\n",
       "      <th>0</th>\n",
       "      <td>69</td>\n",
       "      <td>1</td>\n",
       "      <td>0</td>\n",
       "      <td>160</td>\n",
       "      <td>234</td>\n",
       "      <td>1</td>\n",
       "      <td>2</td>\n",
       "      <td>131</td>\n",
       "      <td>0</td>\n",
       "      <td>0.1</td>\n",
       "      <td>1</td>\n",
       "      <td>1</td>\n",
       "      <td>0</td>\n",
       "    </tr>\n",
       "    <tr>\n",
       "      <th>1</th>\n",
       "      <td>69</td>\n",
       "      <td>0</td>\n",
       "      <td>0</td>\n",
       "      <td>140</td>\n",
       "      <td>239</td>\n",
       "      <td>0</td>\n",
       "      <td>0</td>\n",
       "      <td>151</td>\n",
       "      <td>0</td>\n",
       "      <td>1.8</td>\n",
       "      <td>0</td>\n",
       "      <td>2</td>\n",
       "      <td>0</td>\n",
       "    </tr>\n",
       "    <tr>\n",
       "      <th>2</th>\n",
       "      <td>66</td>\n",
       "      <td>0</td>\n",
       "      <td>0</td>\n",
       "      <td>150</td>\n",
       "      <td>226</td>\n",
       "      <td>0</td>\n",
       "      <td>0</td>\n",
       "      <td>114</td>\n",
       "      <td>0</td>\n",
       "      <td>2.6</td>\n",
       "      <td>2</td>\n",
       "      <td>0</td>\n",
       "      <td>0</td>\n",
       "    </tr>\n",
       "    <tr>\n",
       "      <th>3</th>\n",
       "      <td>65</td>\n",
       "      <td>1</td>\n",
       "      <td>0</td>\n",
       "      <td>138</td>\n",
       "      <td>282</td>\n",
       "      <td>1</td>\n",
       "      <td>2</td>\n",
       "      <td>174</td>\n",
       "      <td>0</td>\n",
       "      <td>1.4</td>\n",
       "      <td>1</td>\n",
       "      <td>1</td>\n",
       "      <td>0</td>\n",
       "    </tr>\n",
       "    <tr>\n",
       "      <th>4</th>\n",
       "      <td>64</td>\n",
       "      <td>1</td>\n",
       "      <td>0</td>\n",
       "      <td>110</td>\n",
       "      <td>211</td>\n",
       "      <td>0</td>\n",
       "      <td>2</td>\n",
       "      <td>144</td>\n",
       "      <td>1</td>\n",
       "      <td>1.8</td>\n",
       "      <td>1</td>\n",
       "      <td>0</td>\n",
       "      <td>0</td>\n",
       "    </tr>\n",
       "  </tbody>\n",
       "</table>\n",
       "</div>"
      ],
      "text/plain": [
       "   age  sex  cp  trestbps  chol  fbs  restecg  thalach  exang  oldpeak  slope  \\\n",
       "0   69    1   0       160   234    1        2      131      0      0.1      1   \n",
       "1   69    0   0       140   239    0        0      151      0      1.8      0   \n",
       "2   66    0   0       150   226    0        0      114      0      2.6      2   \n",
       "3   65    1   0       138   282    1        2      174      0      1.4      1   \n",
       "4   64    1   0       110   211    0        2      144      1      1.8      1   \n",
       "\n",
       "   ca  thal  \n",
       "0   1     0  \n",
       "1   2     0  \n",
       "2   0     0  \n",
       "3   1     0  \n",
       "4   0     0  "
      ]
     },
     "execution_count": 2,
     "metadata": {},
     "output_type": "execute_result"
    }
   ],
   "source": [
    "# Load dataset. No need to specify column names since it is part of the data\n",
    "dataset = pd.read_csv('/kaggle/input/heart-disease-cleveland-uci/heart_cleveland_upload.csv')\n",
    "# Select all the features by dropping the target column\n",
    "features = dataset.drop('condition', axis=1)\n",
    "features.head()"
   ]
  },
  {
   "cell_type": "code",
   "execution_count": 3,
   "id": "130827c1",
   "metadata": {
    "execution": {
     "iopub.execute_input": "2023-09-11T13:18:17.309740Z",
     "iopub.status.busy": "2023-09-11T13:18:17.309325Z",
     "iopub.status.idle": "2023-09-11T13:18:17.320180Z",
     "shell.execute_reply": "2023-09-11T13:18:17.319131Z"
    },
    "papermill": {
     "duration": 0.025411,
     "end_time": "2023-09-11T13:18:17.322591",
     "exception": false,
     "start_time": "2023-09-11T13:18:17.297180",
     "status": "completed"
    },
    "tags": []
   },
   "outputs": [
    {
     "data": {
      "text/html": [
       "<div>\n",
       "<style scoped>\n",
       "    .dataframe tbody tr th:only-of-type {\n",
       "        vertical-align: middle;\n",
       "    }\n",
       "\n",
       "    .dataframe tbody tr th {\n",
       "        vertical-align: top;\n",
       "    }\n",
       "\n",
       "    .dataframe thead th {\n",
       "        text-align: right;\n",
       "    }\n",
       "</style>\n",
       "<table border=\"1\" class=\"dataframe\">\n",
       "  <thead>\n",
       "    <tr style=\"text-align: right;\">\n",
       "      <th></th>\n",
       "      <th>condition</th>\n",
       "    </tr>\n",
       "  </thead>\n",
       "  <tbody>\n",
       "    <tr>\n",
       "      <th>0</th>\n",
       "      <td>0</td>\n",
       "    </tr>\n",
       "    <tr>\n",
       "      <th>1</th>\n",
       "      <td>0</td>\n",
       "    </tr>\n",
       "    <tr>\n",
       "      <th>2</th>\n",
       "      <td>0</td>\n",
       "    </tr>\n",
       "    <tr>\n",
       "      <th>3</th>\n",
       "      <td>1</td>\n",
       "    </tr>\n",
       "    <tr>\n",
       "      <th>4</th>\n",
       "      <td>0</td>\n",
       "    </tr>\n",
       "  </tbody>\n",
       "</table>\n",
       "</div>"
      ],
      "text/plain": [
       "   condition\n",
       "0          0\n",
       "1          0\n",
       "2          0\n",
       "3          1\n",
       "4          0"
      ]
     },
     "execution_count": 3,
     "metadata": {},
     "output_type": "execute_result"
    }
   ],
   "source": [
    "# Select the target column by name\n",
    "targets = dataset['condition']\n",
    "# Select the target column by dropping the feature column names\n",
    "targets = dataset.drop(features.columns, axis=1)\n",
    "targets.head()"
   ]
  },
  {
   "cell_type": "markdown",
   "id": "a4f4c7a4",
   "metadata": {
    "papermill": {
     "duration": 0.010453,
     "end_time": "2023-09-11T13:18:17.343749",
     "exception": false,
     "start_time": "2023-09-11T13:18:17.333296",
     "status": "completed"
    },
    "tags": []
   },
   "source": [
    "What are the features and the features types?\n"
   ]
  },
  {
   "cell_type": "code",
   "execution_count": 4,
   "id": "856b7c75",
   "metadata": {
    "execution": {
     "iopub.execute_input": "2023-09-11T13:18:17.368130Z",
     "iopub.status.busy": "2023-09-11T13:18:17.367441Z",
     "iopub.status.idle": "2023-09-11T13:18:17.396189Z",
     "shell.execute_reply": "2023-09-11T13:18:17.394572Z"
    },
    "papermill": {
     "duration": 0.044422,
     "end_time": "2023-09-11T13:18:17.398739",
     "exception": false,
     "start_time": "2023-09-11T13:18:17.354317",
     "status": "completed"
    },
    "tags": []
   },
   "outputs": [
    {
     "name": "stdout",
     "output_type": "stream",
     "text": [
      "<class 'pandas.core.frame.DataFrame'>\n",
      "RangeIndex: 297 entries, 0 to 296\n",
      "Data columns (total 13 columns):\n",
      " #   Column    Non-Null Count  Dtype  \n",
      "---  ------    --------------  -----  \n",
      " 0   age       297 non-null    int64  \n",
      " 1   sex       297 non-null    int64  \n",
      " 2   cp        297 non-null    int64  \n",
      " 3   trestbps  297 non-null    int64  \n",
      " 4   chol      297 non-null    int64  \n",
      " 5   fbs       297 non-null    int64  \n",
      " 6   restecg   297 non-null    int64  \n",
      " 7   thalach   297 non-null    int64  \n",
      " 8   exang     297 non-null    int64  \n",
      " 9   oldpeak   297 non-null    float64\n",
      " 10  slope     297 non-null    int64  \n",
      " 11  ca        297 non-null    int64  \n",
      " 12  thal      297 non-null    int64  \n",
      "dtypes: float64(1), int64(12)\n",
      "memory usage: 30.3 KB\n"
     ]
    }
   ],
   "source": [
    "# Show all names and type info of the columns (can also be used to count the number of missing values)\n",
    "features.info()"
   ]
  },
  {
   "cell_type": "markdown",
   "id": "c99c0499",
   "metadata": {
    "papermill": {
     "duration": 0.010521,
     "end_time": "2023-09-11T13:18:17.420373",
     "exception": false,
     "start_time": "2023-09-11T13:18:17.409852",
     "status": "completed"
    },
    "tags": []
   },
   "source": [
    "Show statistics for all the columns using both text and visual plots and discuss what you see. You should use at least two different types of relevant visual plotting techniques. Things to consider are:\n",
    "how is the data distributed?\n",
    "are there any outliers? "
   ]
  },
  {
   "cell_type": "code",
   "execution_count": 5,
   "id": "7cc63855",
   "metadata": {
    "execution": {
     "iopub.execute_input": "2023-09-11T13:18:17.445741Z",
     "iopub.status.busy": "2023-09-11T13:18:17.444575Z",
     "iopub.status.idle": "2023-09-11T13:18:17.501164Z",
     "shell.execute_reply": "2023-09-11T13:18:17.499320Z"
    },
    "papermill": {
     "duration": 0.072577,
     "end_time": "2023-09-11T13:18:17.504255",
     "exception": false,
     "start_time": "2023-09-11T13:18:17.431678",
     "status": "completed"
    },
    "tags": []
   },
   "outputs": [
    {
     "data": {
      "text/html": [
       "<div>\n",
       "<style scoped>\n",
       "    .dataframe tbody tr th:only-of-type {\n",
       "        vertical-align: middle;\n",
       "    }\n",
       "\n",
       "    .dataframe tbody tr th {\n",
       "        vertical-align: top;\n",
       "    }\n",
       "\n",
       "    .dataframe thead th {\n",
       "        text-align: right;\n",
       "    }\n",
       "</style>\n",
       "<table border=\"1\" class=\"dataframe\">\n",
       "  <thead>\n",
       "    <tr style=\"text-align: right;\">\n",
       "      <th></th>\n",
       "      <th>age</th>\n",
       "      <th>sex</th>\n",
       "      <th>cp</th>\n",
       "      <th>trestbps</th>\n",
       "      <th>chol</th>\n",
       "      <th>fbs</th>\n",
       "      <th>restecg</th>\n",
       "      <th>thalach</th>\n",
       "      <th>exang</th>\n",
       "      <th>oldpeak</th>\n",
       "      <th>slope</th>\n",
       "      <th>ca</th>\n",
       "      <th>thal</th>\n",
       "    </tr>\n",
       "  </thead>\n",
       "  <tbody>\n",
       "    <tr>\n",
       "      <th>count</th>\n",
       "      <td>297.000000</td>\n",
       "      <td>297.000000</td>\n",
       "      <td>297.000000</td>\n",
       "      <td>297.000000</td>\n",
       "      <td>297.000000</td>\n",
       "      <td>297.000000</td>\n",
       "      <td>297.000000</td>\n",
       "      <td>297.000000</td>\n",
       "      <td>297.000000</td>\n",
       "      <td>297.000000</td>\n",
       "      <td>297.000000</td>\n",
       "      <td>297.000000</td>\n",
       "      <td>297.000000</td>\n",
       "    </tr>\n",
       "    <tr>\n",
       "      <th>mean</th>\n",
       "      <td>54.542088</td>\n",
       "      <td>0.676768</td>\n",
       "      <td>2.158249</td>\n",
       "      <td>131.693603</td>\n",
       "      <td>247.350168</td>\n",
       "      <td>0.144781</td>\n",
       "      <td>0.996633</td>\n",
       "      <td>149.599327</td>\n",
       "      <td>0.326599</td>\n",
       "      <td>1.055556</td>\n",
       "      <td>0.602694</td>\n",
       "      <td>0.676768</td>\n",
       "      <td>0.835017</td>\n",
       "    </tr>\n",
       "    <tr>\n",
       "      <th>std</th>\n",
       "      <td>9.049736</td>\n",
       "      <td>0.468500</td>\n",
       "      <td>0.964859</td>\n",
       "      <td>17.762806</td>\n",
       "      <td>51.997583</td>\n",
       "      <td>0.352474</td>\n",
       "      <td>0.994914</td>\n",
       "      <td>22.941562</td>\n",
       "      <td>0.469761</td>\n",
       "      <td>1.166123</td>\n",
       "      <td>0.618187</td>\n",
       "      <td>0.938965</td>\n",
       "      <td>0.956690</td>\n",
       "    </tr>\n",
       "    <tr>\n",
       "      <th>min</th>\n",
       "      <td>29.000000</td>\n",
       "      <td>0.000000</td>\n",
       "      <td>0.000000</td>\n",
       "      <td>94.000000</td>\n",
       "      <td>126.000000</td>\n",
       "      <td>0.000000</td>\n",
       "      <td>0.000000</td>\n",
       "      <td>71.000000</td>\n",
       "      <td>0.000000</td>\n",
       "      <td>0.000000</td>\n",
       "      <td>0.000000</td>\n",
       "      <td>0.000000</td>\n",
       "      <td>0.000000</td>\n",
       "    </tr>\n",
       "    <tr>\n",
       "      <th>25%</th>\n",
       "      <td>48.000000</td>\n",
       "      <td>0.000000</td>\n",
       "      <td>2.000000</td>\n",
       "      <td>120.000000</td>\n",
       "      <td>211.000000</td>\n",
       "      <td>0.000000</td>\n",
       "      <td>0.000000</td>\n",
       "      <td>133.000000</td>\n",
       "      <td>0.000000</td>\n",
       "      <td>0.000000</td>\n",
       "      <td>0.000000</td>\n",
       "      <td>0.000000</td>\n",
       "      <td>0.000000</td>\n",
       "    </tr>\n",
       "    <tr>\n",
       "      <th>50%</th>\n",
       "      <td>56.000000</td>\n",
       "      <td>1.000000</td>\n",
       "      <td>2.000000</td>\n",
       "      <td>130.000000</td>\n",
       "      <td>243.000000</td>\n",
       "      <td>0.000000</td>\n",
       "      <td>1.000000</td>\n",
       "      <td>153.000000</td>\n",
       "      <td>0.000000</td>\n",
       "      <td>0.800000</td>\n",
       "      <td>1.000000</td>\n",
       "      <td>0.000000</td>\n",
       "      <td>0.000000</td>\n",
       "    </tr>\n",
       "    <tr>\n",
       "      <th>75%</th>\n",
       "      <td>61.000000</td>\n",
       "      <td>1.000000</td>\n",
       "      <td>3.000000</td>\n",
       "      <td>140.000000</td>\n",
       "      <td>276.000000</td>\n",
       "      <td>0.000000</td>\n",
       "      <td>2.000000</td>\n",
       "      <td>166.000000</td>\n",
       "      <td>1.000000</td>\n",
       "      <td>1.600000</td>\n",
       "      <td>1.000000</td>\n",
       "      <td>1.000000</td>\n",
       "      <td>2.000000</td>\n",
       "    </tr>\n",
       "    <tr>\n",
       "      <th>max</th>\n",
       "      <td>77.000000</td>\n",
       "      <td>1.000000</td>\n",
       "      <td>3.000000</td>\n",
       "      <td>200.000000</td>\n",
       "      <td>564.000000</td>\n",
       "      <td>1.000000</td>\n",
       "      <td>2.000000</td>\n",
       "      <td>202.000000</td>\n",
       "      <td>1.000000</td>\n",
       "      <td>6.200000</td>\n",
       "      <td>2.000000</td>\n",
       "      <td>3.000000</td>\n",
       "      <td>2.000000</td>\n",
       "    </tr>\n",
       "  </tbody>\n",
       "</table>\n",
       "</div>"
      ],
      "text/plain": [
       "              age         sex          cp    trestbps        chol         fbs  \\\n",
       "count  297.000000  297.000000  297.000000  297.000000  297.000000  297.000000   \n",
       "mean    54.542088    0.676768    2.158249  131.693603  247.350168    0.144781   \n",
       "std      9.049736    0.468500    0.964859   17.762806   51.997583    0.352474   \n",
       "min     29.000000    0.000000    0.000000   94.000000  126.000000    0.000000   \n",
       "25%     48.000000    0.000000    2.000000  120.000000  211.000000    0.000000   \n",
       "50%     56.000000    1.000000    2.000000  130.000000  243.000000    0.000000   \n",
       "75%     61.000000    1.000000    3.000000  140.000000  276.000000    0.000000   \n",
       "max     77.000000    1.000000    3.000000  200.000000  564.000000    1.000000   \n",
       "\n",
       "          restecg     thalach       exang     oldpeak       slope          ca  \\\n",
       "count  297.000000  297.000000  297.000000  297.000000  297.000000  297.000000   \n",
       "mean     0.996633  149.599327    0.326599    1.055556    0.602694    0.676768   \n",
       "std      0.994914   22.941562    0.469761    1.166123    0.618187    0.938965   \n",
       "min      0.000000   71.000000    0.000000    0.000000    0.000000    0.000000   \n",
       "25%      0.000000  133.000000    0.000000    0.000000    0.000000    0.000000   \n",
       "50%      1.000000  153.000000    0.000000    0.800000    1.000000    0.000000   \n",
       "75%      2.000000  166.000000    1.000000    1.600000    1.000000    1.000000   \n",
       "max      2.000000  202.000000    1.000000    6.200000    2.000000    3.000000   \n",
       "\n",
       "             thal  \n",
       "count  297.000000  \n",
       "mean     0.835017  \n",
       "std      0.956690  \n",
       "min      0.000000  \n",
       "25%      0.000000  \n",
       "50%      0.000000  \n",
       "75%      2.000000  \n",
       "max      2.000000  "
      ]
     },
     "execution_count": 5,
     "metadata": {},
     "output_type": "execute_result"
    }
   ],
   "source": [
    "# Beging the distribution and outlier investigation by printing simple statistics\n",
    "features.describe()"
   ]
  },
  {
   "cell_type": "code",
   "execution_count": 6,
   "id": "a9cacc52",
   "metadata": {
    "execution": {
     "iopub.execute_input": "2023-09-11T13:18:17.529787Z",
     "iopub.status.busy": "2023-09-11T13:18:17.529043Z",
     "iopub.status.idle": "2023-09-11T13:18:17.563641Z",
     "shell.execute_reply": "2023-09-11T13:18:17.562109Z"
    },
    "papermill": {
     "duration": 0.050846,
     "end_time": "2023-09-11T13:18:17.566736",
     "exception": false,
     "start_time": "2023-09-11T13:18:17.515890",
     "status": "completed"
    },
    "tags": []
   },
   "outputs": [
    {
     "name": "stdout",
     "output_type": "stream",
     "text": [
      "<class 'pandas.core.frame.DataFrame'>\n",
      "RangeIndex: 297 entries, 0 to 296\n",
      "Data columns (total 13 columns):\n",
      " #   Column    Non-Null Count  Dtype   \n",
      "---  ------    --------------  -----   \n",
      " 0   age       297 non-null    int64   \n",
      " 1   sex       297 non-null    category\n",
      " 2   cp        297 non-null    category\n",
      " 3   trestbps  297 non-null    int64   \n",
      " 4   chol      297 non-null    int64   \n",
      " 5   fbs       297 non-null    category\n",
      " 6   restecg   297 non-null    category\n",
      " 7   thalach   297 non-null    int64   \n",
      " 8   exang     297 non-null    category\n",
      " 9   oldpeak   297 non-null    float64 \n",
      " 10  slope     297 non-null    category\n",
      " 11  ca        297 non-null    int64   \n",
      " 12  thal      297 non-null    category\n",
      "dtypes: category(7), float64(1), int64(5)\n",
      "memory usage: 17.0 KB\n"
     ]
    }
   ],
   "source": [
    "# Based on the statistics and data documentation, we convert categorical (classes) types into category type\n",
    "# Individually\n",
    "#features['sex'] = features['sex'].astype('category')\n",
    "#features['cp'] = features['cp'].astype('category')\n",
    "# All at once\n",
    "features[['sex', 'cp', 'fbs', 'restecg', 'slope', 'thal', 'exang']] = features[['sex', 'cp', 'fbs', 'restecg', 'slope', 'thal', 'exang']].astype('category')\n",
    "\n",
    "# We'll do the same with the combined dataset, which we'll need later\n",
    "dataset[['sex', 'cp', 'fbs', 'restecg', 'slope', 'thal', 'exang', 'condition']] = dataset[['sex', 'cp', 'fbs', 'restecg', 'slope', 'thal', 'exang','condition']].astype('category')\n",
    "\n",
    "# Show type information\n",
    "features.info()"
   ]
  },
  {
   "cell_type": "code",
   "execution_count": 7,
   "id": "21499e64",
   "metadata": {
    "execution": {
     "iopub.execute_input": "2023-09-11T13:18:17.594271Z",
     "iopub.status.busy": "2023-09-11T13:18:17.593089Z",
     "iopub.status.idle": "2023-09-11T13:18:18.917698Z",
     "shell.execute_reply": "2023-09-11T13:18:18.916418Z"
    },
    "papermill": {
     "duration": 1.340439,
     "end_time": "2023-09-11T13:18:18.920667",
     "exception": false,
     "start_time": "2023-09-11T13:18:17.580228",
     "status": "completed"
    },
    "tags": []
   },
   "outputs": [
    {
     "data": {
      "text/plain": [
       "array([[<Axes: title={'center': 'age'}>,\n",
       "        <Axes: title={'center': 'trestbps'}>],\n",
       "       [<Axes: title={'center': 'chol'}>,\n",
       "        <Axes: title={'center': 'thalach'}>],\n",
       "       [<Axes: title={'center': 'oldpeak'}>,\n",
       "        <Axes: title={'center': 'ca'}>]], dtype=object)"
      ]
     },
     "execution_count": 7,
     "metadata": {},
     "output_type": "execute_result"
    },
    {
     "data": {
      "image/png": "[encoded data removed]",
      "text/plain": [
       "<Figure size 640x480 with 6 Axes>"
      ]
     },
     "metadata": {},
     "output_type": "display_data"
    }
   ],
   "source": [
    "# First relevant plotting technique is histogram (could also use kde). Can be used both to investigate distributions \n",
    "# outliers\n",
    "features.hist()"
   ]
  },
  {
   "cell_type": "code",
   "execution_count": 8,
   "id": "36050ea1",
   "metadata": {
    "execution": {
     "iopub.execute_input": "2023-09-11T13:18:18.947619Z",
     "iopub.status.busy": "2023-09-11T13:18:18.947049Z",
     "iopub.status.idle": "2023-09-11T13:18:19.282522Z",
     "shell.execute_reply": "2023-09-11T13:18:19.280835Z"
    },
    "papermill": {
     "duration": 0.352176,
     "end_time": "2023-09-11T13:18:19.285533",
     "exception": false,
     "start_time": "2023-09-11T13:18:18.933357",
     "status": "completed"
    },
    "tags": []
   },
   "outputs": [
    {
     "data": {
      "text/plain": [
       "<Axes: >"
      ]
     },
     "execution_count": 8,
     "metadata": {},
     "output_type": "execute_result"
    },
    {
     "data": {
      "image/png": "[encoded data removed]",
      "text/plain": [
       "<Figure size 640x480 with 1 Axes>"
      ]
     },
     "metadata": {},
     "output_type": "display_data"
    }
   ],
   "source": [
    "# Second technique is boxplot. More suited for outlier investigations, but also for distributions\n",
    "features.boxplot()"
   ]
  },
  {
   "cell_type": "code",
   "execution_count": 9,
   "id": "b0497cb0",
   "metadata": {
    "execution": {
     "iopub.execute_input": "2023-09-11T13:18:19.314157Z",
     "iopub.status.busy": "2023-09-11T13:18:19.313742Z",
     "iopub.status.idle": "2023-09-11T13:18:20.150748Z",
     "shell.execute_reply": "2023-09-11T13:18:20.149466Z"
    },
    "papermill": {
     "duration": 0.853993,
     "end_time": "2023-09-11T13:18:20.153506",
     "exception": false,
     "start_time": "2023-09-11T13:18:19.299513",
     "status": "completed"
    },
    "tags": []
   },
   "outputs": [
    {
     "data": {
      "text/plain": [
       "<Axes: >"
      ]
     },
     "execution_count": 9,
     "metadata": {},
     "output_type": "execute_result"
    },
    {
     "data": {
      "image/png": "[encoded data removed]",
      "text/plain": [
       "<Figure size 1000x200 with 6 Axes>"
      ]
     },
     "metadata": {},
     "output_type": "display_data"
    }
   ],
   "source": [
    "# To fix the problem of scaling on the Y axis, we plot the features individually\n",
    "import matplotlib.pyplot as plt\n",
    "\n",
    "figure, axs = plt.subplots(1, 6, figsize=(10,2))\n",
    "\n",
    "features['age'].plot.box(ax=axs[0])\n",
    "features['trestbps'].plot.box(ax=axs[1])\n",
    "features['chol'].plot.box(ax=axs[2])\n",
    "features['thalach'].plot.box(ax=axs[3])\n",
    "features['oldpeak'].plot.box(ax=axs[4])\n",
    "features['ca'].plot.box(ax=axs[5])"
   ]
  },
  {
   "cell_type": "markdown",
   "id": "01a43943",
   "metadata": {
    "papermill": {
     "duration": 0.013098,
     "end_time": "2023-09-11T13:18:20.180091",
     "exception": false,
     "start_time": "2023-09-11T13:18:20.166993",
     "status": "completed"
    },
    "tags": []
   },
   "source": [
    "Are there any empty values? Count the number in each column. "
   ]
  },
  {
   "cell_type": "code",
   "execution_count": 10,
   "id": "c60cb609",
   "metadata": {
    "execution": {
     "iopub.execute_input": "2023-09-11T13:18:20.209131Z",
     "iopub.status.busy": "2023-09-11T13:18:20.208696Z",
     "iopub.status.idle": "2023-09-11T13:18:20.225178Z",
     "shell.execute_reply": "2023-09-11T13:18:20.223637Z"
    },
    "papermill": {
     "duration": 0.035427,
     "end_time": "2023-09-11T13:18:20.228898",
     "exception": false,
     "start_time": "2023-09-11T13:18:20.193471",
     "status": "completed"
    },
    "tags": []
   },
   "outputs": [
    {
     "name": "stdout",
     "output_type": "stream",
     "text": [
      "<class 'pandas.core.frame.DataFrame'>\n",
      "RangeIndex: 297 entries, 0 to 296\n",
      "Data columns (total 13 columns):\n",
      " #   Column    Non-Null Count  Dtype   \n",
      "---  ------    --------------  -----   \n",
      " 0   age       297 non-null    int64   \n",
      " 1   sex       297 non-null    category\n",
      " 2   cp        297 non-null    category\n",
      " 3   trestbps  297 non-null    int64   \n",
      " 4   chol      297 non-null    int64   \n",
      " 5   fbs       297 non-null    category\n",
      " 6   restecg   297 non-null    category\n",
      " 7   thalach   297 non-null    int64   \n",
      " 8   exang     297 non-null    category\n",
      " 9   oldpeak   297 non-null    float64 \n",
      " 10  slope     297 non-null    category\n",
      " 11  ca        297 non-null    int64   \n",
      " 12  thal      297 non-null    category\n",
      "dtypes: category(7), float64(1), int64(5)\n",
      "memory usage: 17.0 KB\n"
     ]
    }
   ],
   "source": [
    "# Count the number of missing values\n",
    "features.isna().sum()\n",
    "# Show non-null information for all features\n",
    "features.info()"
   ]
  },
  {
   "cell_type": "markdown",
   "id": "decbc2cf",
   "metadata": {
    "papermill": {
     "duration": 0.013348,
     "end_time": "2023-09-11T13:18:20.256219",
     "exception": false,
     "start_time": "2023-09-11T13:18:20.242871",
     "status": "completed"
    },
    "tags": []
   },
   "source": [
    "How do the features correlate? Discuss all significant findings"
   ]
  },
  {
   "cell_type": "code",
   "execution_count": 11,
   "id": "b49a36f3",
   "metadata": {
    "execution": {
     "iopub.execute_input": "2023-09-11T13:18:20.285195Z",
     "iopub.status.busy": "2023-09-11T13:18:20.284786Z",
     "iopub.status.idle": "2023-09-11T13:18:20.408765Z",
     "shell.execute_reply": "2023-09-11T13:18:20.407356Z"
    },
    "papermill": {
     "duration": 0.141814,
     "end_time": "2023-09-11T13:18:20.411543",
     "exception": false,
     "start_time": "2023-09-11T13:18:20.269729",
     "status": "completed"
    },
    "tags": []
   },
   "outputs": [
    {
     "data": {
      "text/html": [
       "<style type=\"text/css\">\n",
       "#T_33843_row0_col0, #T_33843_row1_col1, #T_33843_row2_col2, #T_33843_row3_col3, #T_33843_row4_col4, #T_33843_row5_col5, #T_33843_row6_col6, #T_33843_row7_col7, #T_33843_row8_col8, #T_33843_row9_col9, #T_33843_row10_col10, #T_33843_row11_col11, #T_33843_row12_col12 {\n",
       "  background-color: #b40426;\n",
       "  color: #f1f1f1;\n",
       "}\n",
       "#T_33843_row0_col1, #T_33843_row1_col0 {\n",
       "  background-color: #81a4fb;\n",
       "  color: #f1f1f1;\n",
       "}\n",
       "#T_33843_row0_col2, #T_33843_row2_col0, #T_33843_row10_col11, #T_33843_row11_col10 {\n",
       "  background-color: #b3cdfb;\n",
       "  color: #000000;\n",
       "}\n",
       "#T_33843_row0_col3, #T_33843_row3_col0, #T_33843_row8_col9, #T_33843_row9_col8 {\n",
       "  background-color: #dadce0;\n",
       "  color: #000000;\n",
       "}\n",
       "#T_33843_row0_col4, #T_33843_row2_col9, #T_33843_row4_col0, #T_33843_row9_col2 {\n",
       "  background-color: #c9d7f0;\n",
       "  color: #000000;\n",
       "}\n",
       "#T_33843_row0_col5, #T_33843_row3_col4, #T_33843_row3_col12, #T_33843_row4_col3, #T_33843_row5_col0, #T_33843_row6_col11, #T_33843_row11_col6, #T_33843_row12_col3 {\n",
       "  background-color: #b9d0f9;\n",
       "  color: #000000;\n",
       "}\n",
       "#T_33843_row0_col6, #T_33843_row3_col6, #T_33843_row6_col0, #T_33843_row6_col3, #T_33843_row8_col11, #T_33843_row11_col8 {\n",
       "  background-color: #bcd2f7;\n",
       "  color: #000000;\n",
       "}\n",
       "#T_33843_row0_col7, #T_33843_row7_col0, #T_33843_row7_col10, #T_33843_row10_col7 {\n",
       "  background-color: #3b4cc0;\n",
       "  color: #f1f1f1;\n",
       "}\n",
       "#T_33843_row0_col8, #T_33843_row3_col11, #T_33843_row8_col0, #T_33843_row11_col3 {\n",
       "  background-color: #b1cbfc;\n",
       "  color: #000000;\n",
       "}\n",
       "#T_33843_row0_col9, #T_33843_row9_col0 {\n",
       "  background-color: #c7d7f0;\n",
       "  color: #000000;\n",
       "}\n",
       "#T_33843_row0_col10, #T_33843_row10_col0 {\n",
       "  background-color: #bfd3f6;\n",
       "  color: #000000;\n",
       "}\n",
       "#T_33843_row0_col11, #T_33843_row11_col0 {\n",
       "  background-color: #e7d7ce;\n",
       "  color: #000000;\n",
       "}\n",
       "#T_33843_row0_col12, #T_33843_row3_col10, #T_33843_row10_col3, #T_33843_row12_col0 {\n",
       "  background-color: #b6cefa;\n",
       "  color: #000000;\n",
       "}\n",
       "#T_33843_row1_col2, #T_33843_row2_col1, #T_33843_row4_col5, #T_33843_row5_col4, #T_33843_row6_col12, #T_33843_row12_col6 {\n",
       "  background-color: #9bbcff;\n",
       "  color: #000000;\n",
       "}\n",
       "#T_33843_row1_col3, #T_33843_row3_col1 {\n",
       "  background-color: #88abfd;\n",
       "  color: #000000;\n",
       "}\n",
       "#T_33843_row1_col4, #T_33843_row4_col1 {\n",
       "  background-color: #6788ee;\n",
       "  color: #f1f1f1;\n",
       "}\n",
       "#T_33843_row1_col5, #T_33843_row4_col9, #T_33843_row5_col1, #T_33843_row9_col4 {\n",
       "  background-color: #a2c1ff;\n",
       "  color: #000000;\n",
       "}\n",
       "#T_33843_row1_col6, #T_33843_row1_col10, #T_33843_row6_col1, #T_33843_row10_col1 {\n",
       "  background-color: #a1c0ff;\n",
       "  color: #000000;\n",
       "}\n",
       "#T_33843_row1_col7, #T_33843_row2_col5, #T_33843_row5_col2, #T_33843_row7_col1 {\n",
       "  background-color: #89acfd;\n",
       "  color: #000000;\n",
       "}\n",
       "#T_33843_row1_col8, #T_33843_row8_col1 {\n",
       "  background-color: #bbd1f8;\n",
       "  color: #000000;\n",
       "}\n",
       "#T_33843_row1_col9, #T_33843_row9_col1 {\n",
       "  background-color: #b2ccfb;\n",
       "  color: #000000;\n",
       "}\n",
       "#T_33843_row1_col11, #T_33843_row11_col1 {\n",
       "  background-color: #afcafc;\n",
       "  color: #000000;\n",
       "}\n",
       "#T_33843_row1_col12, #T_33843_row12_col1 {\n",
       "  background-color: #e9d5cb;\n",
       "  color: #000000;\n",
       "}\n",
       "#T_33843_row2_col3, #T_33843_row3_col2 {\n",
       "  background-color: #8fb1fe;\n",
       "  color: #000000;\n",
       "}\n",
       "#T_33843_row2_col4, #T_33843_row4_col2, #T_33843_row5_col6, #T_33843_row6_col5 {\n",
       "  background-color: #aac7fd;\n",
       "  color: #000000;\n",
       "}\n",
       "#T_33843_row2_col6, #T_33843_row3_col8, #T_33843_row6_col2, #T_33843_row8_col3 {\n",
       "  background-color: #a9c6fd;\n",
       "  color: #000000;\n",
       "}\n",
       "#T_33843_row2_col7, #T_33843_row7_col2 {\n",
       "  background-color: #465ecf;\n",
       "  color: #f1f1f1;\n",
       "}\n",
       "#T_33843_row2_col8, #T_33843_row8_col2 {\n",
       "  background-color: #ead5c9;\n",
       "  color: #000000;\n",
       "}\n",
       "#T_33843_row2_col10, #T_33843_row5_col11, #T_33843_row10_col2, #T_33843_row11_col5 {\n",
       "  background-color: #bed2f6;\n",
       "  color: #000000;\n",
       "}\n",
       "#T_33843_row2_col11, #T_33843_row11_col2 {\n",
       "  background-color: #cfdaea;\n",
       "  color: #000000;\n",
       "}\n",
       "#T_33843_row2_col12, #T_33843_row12_col2 {\n",
       "  background-color: #d6dce4;\n",
       "  color: #000000;\n",
       "}\n",
       "#T_33843_row3_col5, #T_33843_row5_col3 {\n",
       "  background-color: #c4d5f3;\n",
       "  color: #000000;\n",
       "}\n",
       "#T_33843_row3_col7, #T_33843_row7_col3 {\n",
       "  background-color: #8caffe;\n",
       "  color: #000000;\n",
       "}\n",
       "#T_33843_row3_col9, #T_33843_row9_col3 {\n",
       "  background-color: #c6d6f1;\n",
       "  color: #000000;\n",
       "}\n",
       "#T_33843_row4_col6, #T_33843_row6_col4 {\n",
       "  background-color: #c0d4f5;\n",
       "  color: #000000;\n",
       "}\n",
       "#T_33843_row4_col7, #T_33843_row5_col8, #T_33843_row7_col4, #T_33843_row8_col5 {\n",
       "  background-color: #98b9ff;\n",
       "  color: #000000;\n",
       "}\n",
       "#T_33843_row4_col8, #T_33843_row8_col4 {\n",
       "  background-color: #a7c5fe;\n",
       "  color: #000000;\n",
       "}\n",
       "#T_33843_row4_col10, #T_33843_row5_col7, #T_33843_row7_col5, #T_33843_row10_col4 {\n",
       "  background-color: #96b7ff;\n",
       "  color: #000000;\n",
       "}\n",
       "#T_33843_row4_col11, #T_33843_row6_col9, #T_33843_row9_col6, #T_33843_row11_col4 {\n",
       "  background-color: #b5cdfa;\n",
       "  color: #000000;\n",
       "}\n",
       "#T_33843_row4_col12, #T_33843_row12_col4 {\n",
       "  background-color: #9ebeff;\n",
       "  color: #000000;\n",
       "}\n",
       "#T_33843_row5_col9, #T_33843_row9_col5 {\n",
       "  background-color: #9abbff;\n",
       "  color: #000000;\n",
       "}\n",
       "#T_33843_row5_col10, #T_33843_row5_col12, #T_33843_row10_col5, #T_33843_row12_col5 {\n",
       "  background-color: #a5c3fe;\n",
       "  color: #000000;\n",
       "}\n",
       "#T_33843_row6_col7, #T_33843_row7_col6 {\n",
       "  background-color: #86a9fc;\n",
       "  color: #f1f1f1;\n",
       "}\n",
       "#T_33843_row6_col8, #T_33843_row8_col6 {\n",
       "  background-color: #adc9fd;\n",
       "  color: #000000;\n",
       "}\n",
       "#T_33843_row6_col10, #T_33843_row10_col6 {\n",
       "  background-color: #bad0f8;\n",
       "  color: #000000;\n",
       "}\n",
       "#T_33843_row7_col8, #T_33843_row8_col7 {\n",
       "  background-color: #3c4ec2;\n",
       "  color: #f1f1f1;\n",
       "}\n",
       "#T_33843_row7_col9, #T_33843_row9_col7 {\n",
       "  background-color: #445acc;\n",
       "  color: #f1f1f1;\n",
       "}\n",
       "#T_33843_row7_col11, #T_33843_row11_col7 {\n",
       "  background-color: #5673e0;\n",
       "  color: #f1f1f1;\n",
       "}\n",
       "#T_33843_row7_col12, #T_33843_row12_col7 {\n",
       "  background-color: #5875e1;\n",
       "  color: #f1f1f1;\n",
       "}\n",
       "#T_33843_row8_col10, #T_33843_row10_col8, #T_33843_row11_col12, #T_33843_row12_col11 {\n",
       "  background-color: #d3dbe7;\n",
       "  color: #000000;\n",
       "}\n",
       "#T_33843_row8_col12, #T_33843_row12_col8 {\n",
       "  background-color: #e0dbd8;\n",
       "  color: #000000;\n",
       "}\n",
       "#T_33843_row9_col10, #T_33843_row10_col9 {\n",
       "  background-color: #f7ad90;\n",
       "  color: #000000;\n",
       "}\n",
       "#T_33843_row9_col11, #T_33843_row11_col9 {\n",
       "  background-color: #dbdcde;\n",
       "  color: #000000;\n",
       "}\n",
       "#T_33843_row9_col12, #T_33843_row12_col9 {\n",
       "  background-color: #e3d9d3;\n",
       "  color: #000000;\n",
       "}\n",
       "#T_33843_row10_col12, #T_33843_row12_col10 {\n",
       "  background-color: #d5dbe5;\n",
       "  color: #000000;\n",
       "}\n",
       "</style>\n",
       "<table id=\"T_33843\">\n",
       "  <thead>\n",
       "    <tr>\n",
       "      <th class=\"blank level0\" >&nbsp;</th>\n",
       "      <th id=\"T_33843_level0_col0\" class=\"col_heading level0 col0\" >age</th>\n",
       "      <th id=\"T_33843_level0_col1\" class=\"col_heading level0 col1\" >sex</th>\n",
       "      <th id=\"T_33843_level0_col2\" class=\"col_heading level0 col2\" >cp</th>\n",
       "      <th id=\"T_33843_level0_col3\" class=\"col_heading level0 col3\" >trestbps</th>\n",
       "      <th id=\"T_33843_level0_col4\" class=\"col_heading level0 col4\" >chol</th>\n",
       "      <th id=\"T_33843_level0_col5\" class=\"col_heading level0 col5\" >fbs</th>\n",
       "      <th id=\"T_33843_level0_col6\" class=\"col_heading level0 col6\" >restecg</th>\n",
       "      <th id=\"T_33843_level0_col7\" class=\"col_heading level0 col7\" >thalach</th>\n",
       "      <th id=\"T_33843_level0_col8\" class=\"col_heading level0 col8\" >exang</th>\n",
       "      <th id=\"T_33843_level0_col9\" class=\"col_heading level0 col9\" >oldpeak</th>\n",
       "      <th id=\"T_33843_level0_col10\" class=\"col_heading level0 col10\" >slope</th>\n",
       "      <th id=\"T_33843_level0_col11\" class=\"col_heading level0 col11\" >ca</th>\n",
       "      <th id=\"T_33843_level0_col12\" class=\"col_heading level0 col12\" >thal</th>\n",
       "    </tr>\n",
       "  </thead>\n",
       "  <tbody>\n",
       "    <tr>\n",
       "      <th id=\"T_33843_level0_row0\" class=\"row_heading level0 row0\" >age</th>\n",
       "      <td id=\"T_33843_row0_col0\" class=\"data row0 col0\" >1.000000</td>\n",
       "      <td id=\"T_33843_row0_col1\" class=\"data row0 col1\" >-0.092399</td>\n",
       "      <td id=\"T_33843_row0_col2\" class=\"data row0 col2\" >0.110471</td>\n",
       "      <td id=\"T_33843_row0_col3\" class=\"data row0 col3\" >0.290476</td>\n",
       "      <td id=\"T_33843_row0_col4\" class=\"data row0 col4\" >0.202644</td>\n",
       "      <td id=\"T_33843_row0_col5\" class=\"data row0 col5\" >0.132062</td>\n",
       "      <td id=\"T_33843_row0_col6\" class=\"data row0 col6\" >0.149917</td>\n",
       "      <td id=\"T_33843_row0_col7\" class=\"data row0 col7\" >-0.394563</td>\n",
       "      <td id=\"T_33843_row0_col8\" class=\"data row0 col8\" >0.096489</td>\n",
       "      <td id=\"T_33843_row0_col9\" class=\"data row0 col9\" >0.197123</td>\n",
       "      <td id=\"T_33843_row0_col10\" class=\"data row0 col10\" >0.159405</td>\n",
       "      <td id=\"T_33843_row0_col11\" class=\"data row0 col11\" >0.362210</td>\n",
       "      <td id=\"T_33843_row0_col12\" class=\"data row0 col12\" >0.120795</td>\n",
       "    </tr>\n",
       "    <tr>\n",
       "      <th id=\"T_33843_level0_row1\" class=\"row_heading level0 row1\" >sex</th>\n",
       "      <td id=\"T_33843_row1_col0\" class=\"data row1 col0\" >-0.092399</td>\n",
       "      <td id=\"T_33843_row1_col1\" class=\"data row1 col1\" >1.000000</td>\n",
       "      <td id=\"T_33843_row1_col2\" class=\"data row1 col2\" >0.008908</td>\n",
       "      <td id=\"T_33843_row1_col3\" class=\"data row1 col3\" >-0.066340</td>\n",
       "      <td id=\"T_33843_row1_col4\" class=\"data row1 col4\" >-0.198089</td>\n",
       "      <td id=\"T_33843_row1_col5\" class=\"data row1 col5\" >0.038850</td>\n",
       "      <td id=\"T_33843_row1_col6\" class=\"data row1 col6\" >0.033897</td>\n",
       "      <td id=\"T_33843_row1_col7\" class=\"data row1 col7\" >-0.060496</td>\n",
       "      <td id=\"T_33843_row1_col8\" class=\"data row1 col8\" >0.143581</td>\n",
       "      <td id=\"T_33843_row1_col9\" class=\"data row1 col9\" >0.106567</td>\n",
       "      <td id=\"T_33843_row1_col10\" class=\"data row1 col10\" >0.033345</td>\n",
       "      <td id=\"T_33843_row1_col11\" class=\"data row1 col11\" >0.091925</td>\n",
       "      <td id=\"T_33843_row1_col12\" class=\"data row1 col12\" >0.370556</td>\n",
       "    </tr>\n",
       "    <tr>\n",
       "      <th id=\"T_33843_level0_row2\" class=\"row_heading level0 row2\" >cp</th>\n",
       "      <td id=\"T_33843_row2_col0\" class=\"data row2 col0\" >0.110471</td>\n",
       "      <td id=\"T_33843_row2_col1\" class=\"data row2 col1\" >0.008908</td>\n",
       "      <td id=\"T_33843_row2_col2\" class=\"data row2 col2\" >1.000000</td>\n",
       "      <td id=\"T_33843_row2_col3\" class=\"data row2 col3\" >-0.036980</td>\n",
       "      <td id=\"T_33843_row2_col4\" class=\"data row2 col4\" >0.072088</td>\n",
       "      <td id=\"T_33843_row2_col5\" class=\"data row2 col5\" >-0.057663</td>\n",
       "      <td id=\"T_33843_row2_col6\" class=\"data row2 col6\" >0.063905</td>\n",
       "      <td id=\"T_33843_row2_col7\" class=\"data row2 col7\" >-0.339308</td>\n",
       "      <td id=\"T_33843_row2_col8\" class=\"data row2 col8\" >0.377525</td>\n",
       "      <td id=\"T_33843_row2_col9\" class=\"data row2 col9\" >0.203244</td>\n",
       "      <td id=\"T_33843_row2_col10\" class=\"data row2 col10\" >0.151079</td>\n",
       "      <td id=\"T_33843_row2_col11\" class=\"data row2 col11\" >0.235644</td>\n",
       "      <td id=\"T_33843_row2_col12\" class=\"data row2 col12\" >0.266275</td>\n",
       "    </tr>\n",
       "    <tr>\n",
       "      <th id=\"T_33843_level0_row3\" class=\"row_heading level0 row3\" >trestbps</th>\n",
       "      <td id=\"T_33843_row3_col0\" class=\"data row3 col0\" >0.290476</td>\n",
       "      <td id=\"T_33843_row3_col1\" class=\"data row3 col1\" >-0.066340</td>\n",
       "      <td id=\"T_33843_row3_col2\" class=\"data row3 col2\" >-0.036980</td>\n",
       "      <td id=\"T_33843_row3_col3\" class=\"data row3 col3\" >1.000000</td>\n",
       "      <td id=\"T_33843_row3_col4\" class=\"data row3 col4\" >0.131536</td>\n",
       "      <td id=\"T_33843_row3_col5\" class=\"data row3 col5\" >0.180860</td>\n",
       "      <td id=\"T_33843_row3_col6\" class=\"data row3 col6\" >0.149242</td>\n",
       "      <td id=\"T_33843_row3_col7\" class=\"data row3 col7\" >-0.049108</td>\n",
       "      <td id=\"T_33843_row3_col8\" class=\"data row3 col8\" >0.066691</td>\n",
       "      <td id=\"T_33843_row3_col9\" class=\"data row3 col9\" >0.191243</td>\n",
       "      <td id=\"T_33843_row3_col10\" class=\"data row3 col10\" >0.121172</td>\n",
       "      <td id=\"T_33843_row3_col11\" class=\"data row3 col11\" >0.097954</td>\n",
       "      <td id=\"T_33843_row3_col12\" class=\"data row3 col12\" >0.130612</td>\n",
       "    </tr>\n",
       "    <tr>\n",
       "      <th id=\"T_33843_level0_row4\" class=\"row_heading level0 row4\" >chol</th>\n",
       "      <td id=\"T_33843_row4_col0\" class=\"data row4 col0\" >0.202644</td>\n",
       "      <td id=\"T_33843_row4_col1\" class=\"data row4 col1\" >-0.198089</td>\n",
       "      <td id=\"T_33843_row4_col2\" class=\"data row4 col2\" >0.072088</td>\n",
       "      <td id=\"T_33843_row4_col3\" class=\"data row4 col3\" >0.131536</td>\n",
       "      <td id=\"T_33843_row4_col4\" class=\"data row4 col4\" >1.000000</td>\n",
       "      <td id=\"T_33843_row4_col5\" class=\"data row4 col5\" >0.012708</td>\n",
       "      <td id=\"T_33843_row4_col6\" class=\"data row4 col6\" >0.165046</td>\n",
       "      <td id=\"T_33843_row4_col7\" class=\"data row4 col7\" >-0.000075</td>\n",
       "      <td id=\"T_33843_row4_col8\" class=\"data row4 col8\" >0.059339</td>\n",
       "      <td id=\"T_33843_row4_col9\" class=\"data row4 col9\" >0.038596</td>\n",
       "      <td id=\"T_33843_row4_col10\" class=\"data row4 col10\" >-0.009215</td>\n",
       "      <td id=\"T_33843_row4_col11\" class=\"data row4 col11\" >0.115945</td>\n",
       "      <td id=\"T_33843_row4_col12\" class=\"data row4 col12\" >0.023441</td>\n",
       "    </tr>\n",
       "    <tr>\n",
       "      <th id=\"T_33843_level0_row5\" class=\"row_heading level0 row5\" >fbs</th>\n",
       "      <td id=\"T_33843_row5_col0\" class=\"data row5 col0\" >0.132062</td>\n",
       "      <td id=\"T_33843_row5_col1\" class=\"data row5 col1\" >0.038850</td>\n",
       "      <td id=\"T_33843_row5_col2\" class=\"data row5 col2\" >-0.057663</td>\n",
       "      <td id=\"T_33843_row5_col3\" class=\"data row5 col3\" >0.180860</td>\n",
       "      <td id=\"T_33843_row5_col4\" class=\"data row5 col4\" >0.012708</td>\n",
       "      <td id=\"T_33843_row5_col5\" class=\"data row5 col5\" >1.000000</td>\n",
       "      <td id=\"T_33843_row5_col6\" class=\"data row5 col6\" >0.068831</td>\n",
       "      <td id=\"T_33843_row5_col7\" class=\"data row5 col7\" >-0.007842</td>\n",
       "      <td id=\"T_33843_row5_col8\" class=\"data row5 col8\" >-0.000893</td>\n",
       "      <td id=\"T_33843_row5_col9\" class=\"data row5 col9\" >0.008311</td>\n",
       "      <td id=\"T_33843_row5_col10\" class=\"data row5 col10\" >0.047819</td>\n",
       "      <td id=\"T_33843_row5_col11\" class=\"data row5 col11\" >0.152086</td>\n",
       "      <td id=\"T_33843_row5_col12\" class=\"data row5 col12\" >0.051038</td>\n",
       "    </tr>\n",
       "    <tr>\n",
       "      <th id=\"T_33843_level0_row6\" class=\"row_heading level0 row6\" >restecg</th>\n",
       "      <td id=\"T_33843_row6_col0\" class=\"data row6 col0\" >0.149917</td>\n",
       "      <td id=\"T_33843_row6_col1\" class=\"data row6 col1\" >0.033897</td>\n",
       "      <td id=\"T_33843_row6_col2\" class=\"data row6 col2\" >0.063905</td>\n",
       "      <td id=\"T_33843_row6_col3\" class=\"data row6 col3\" >0.149242</td>\n",
       "      <td id=\"T_33843_row6_col4\" class=\"data row6 col4\" >0.165046</td>\n",
       "      <td id=\"T_33843_row6_col5\" class=\"data row6 col5\" >0.068831</td>\n",
       "      <td id=\"T_33843_row6_col6\" class=\"data row6 col6\" >1.000000</td>\n",
       "      <td id=\"T_33843_row6_col7\" class=\"data row6 col7\" >-0.072290</td>\n",
       "      <td id=\"T_33843_row6_col8\" class=\"data row6 col8\" >0.081874</td>\n",
       "      <td id=\"T_33843_row6_col9\" class=\"data row6 col9\" >0.113726</td>\n",
       "      <td id=\"T_33843_row6_col10\" class=\"data row6 col10\" >0.135141</td>\n",
       "      <td id=\"T_33843_row6_col11\" class=\"data row6 col11\" >0.129021</td>\n",
       "      <td id=\"T_33843_row6_col12\" class=\"data row6 col12\" >0.013612</td>\n",
       "    </tr>\n",
       "    <tr>\n",
       "      <th id=\"T_33843_level0_row7\" class=\"row_heading level0 row7\" >thalach</th>\n",
       "      <td id=\"T_33843_row7_col0\" class=\"data row7 col0\" >-0.394563</td>\n",
       "      <td id=\"T_33843_row7_col1\" class=\"data row7 col1\" >-0.060496</td>\n",
       "      <td id=\"T_33843_row7_col2\" class=\"data row7 col2\" >-0.339308</td>\n",
       "      <td id=\"T_33843_row7_col3\" class=\"data row7 col3\" >-0.049108</td>\n",
       "      <td id=\"T_33843_row7_col4\" class=\"data row7 col4\" >-0.000075</td>\n",
       "      <td id=\"T_33843_row7_col5\" class=\"data row7 col5\" >-0.007842</td>\n",
       "      <td id=\"T_33843_row7_col6\" class=\"data row7 col6\" >-0.072290</td>\n",
       "      <td id=\"T_33843_row7_col7\" class=\"data row7 col7\" >1.000000</td>\n",
       "      <td id=\"T_33843_row7_col8\" class=\"data row7 col8\" >-0.384368</td>\n",
       "      <td id=\"T_33843_row7_col9\" class=\"data row7 col9\" >-0.347640</td>\n",
       "      <td id=\"T_33843_row7_col10\" class=\"data row7 col10\" >-0.389307</td>\n",
       "      <td id=\"T_33843_row7_col11\" class=\"data row7 col11\" >-0.268727</td>\n",
       "      <td id=\"T_33843_row7_col12\" class=\"data row7 col12\" >-0.258386</td>\n",
       "    </tr>\n",
       "    <tr>\n",
       "      <th id=\"T_33843_level0_row8\" class=\"row_heading level0 row8\" >exang</th>\n",
       "      <td id=\"T_33843_row8_col0\" class=\"data row8 col0\" >0.096489</td>\n",
       "      <td id=\"T_33843_row8_col1\" class=\"data row8 col1\" >0.143581</td>\n",
       "      <td id=\"T_33843_row8_col2\" class=\"data row8 col2\" >0.377525</td>\n",
       "      <td id=\"T_33843_row8_col3\" class=\"data row8 col3\" >0.066691</td>\n",
       "      <td id=\"T_33843_row8_col4\" class=\"data row8 col4\" >0.059339</td>\n",
       "      <td id=\"T_33843_row8_col5\" class=\"data row8 col5\" >-0.000893</td>\n",
       "      <td id=\"T_33843_row8_col6\" class=\"data row8 col6\" >0.081874</td>\n",
       "      <td id=\"T_33843_row8_col7\" class=\"data row8 col7\" >-0.384368</td>\n",
       "      <td id=\"T_33843_row8_col8\" class=\"data row8 col8\" >1.000000</td>\n",
       "      <td id=\"T_33843_row8_col9\" class=\"data row8 col9\" >0.289310</td>\n",
       "      <td id=\"T_33843_row8_col10\" class=\"data row8 col10\" >0.250572</td>\n",
       "      <td id=\"T_33843_row8_col11\" class=\"data row8 col11\" >0.148232</td>\n",
       "      <td id=\"T_33843_row8_col12\" class=\"data row8 col12\" >0.323268</td>\n",
       "    </tr>\n",
       "    <tr>\n",
       "      <th id=\"T_33843_level0_row9\" class=\"row_heading level0 row9\" >oldpeak</th>\n",
       "      <td id=\"T_33843_row9_col0\" class=\"data row9 col0\" >0.197123</td>\n",
       "      <td id=\"T_33843_row9_col1\" class=\"data row9 col1\" >0.106567</td>\n",
       "      <td id=\"T_33843_row9_col2\" class=\"data row9 col2\" >0.203244</td>\n",
       "      <td id=\"T_33843_row9_col3\" class=\"data row9 col3\" >0.191243</td>\n",
       "      <td id=\"T_33843_row9_col4\" class=\"data row9 col4\" >0.038596</td>\n",
       "      <td id=\"T_33843_row9_col5\" class=\"data row9 col5\" >0.008311</td>\n",
       "      <td id=\"T_33843_row9_col6\" class=\"data row9 col6\" >0.113726</td>\n",
       "      <td id=\"T_33843_row9_col7\" class=\"data row9 col7\" >-0.347640</td>\n",
       "      <td id=\"T_33843_row9_col8\" class=\"data row9 col8\" >0.289310</td>\n",
       "      <td id=\"T_33843_row9_col9\" class=\"data row9 col9\" >1.000000</td>\n",
       "      <td id=\"T_33843_row9_col10\" class=\"data row9 col10\" >0.579037</td>\n",
       "      <td id=\"T_33843_row9_col11\" class=\"data row9 col11\" >0.294452</td>\n",
       "      <td id=\"T_33843_row9_col12\" class=\"data row9 col12\" >0.336809</td>\n",
       "    </tr>\n",
       "    <tr>\n",
       "      <th id=\"T_33843_level0_row10\" class=\"row_heading level0 row10\" >slope</th>\n",
       "      <td id=\"T_33843_row10_col0\" class=\"data row10 col0\" >0.159405</td>\n",
       "      <td id=\"T_33843_row10_col1\" class=\"data row10 col1\" >0.033345</td>\n",
       "      <td id=\"T_33843_row10_col2\" class=\"data row10 col2\" >0.151079</td>\n",
       "      <td id=\"T_33843_row10_col3\" class=\"data row10 col3\" >0.121172</td>\n",
       "      <td id=\"T_33843_row10_col4\" class=\"data row10 col4\" >-0.009215</td>\n",
       "      <td id=\"T_33843_row10_col5\" class=\"data row10 col5\" >0.047819</td>\n",
       "      <td id=\"T_33843_row10_col6\" class=\"data row10 col6\" >0.135141</td>\n",
       "      <td id=\"T_33843_row10_col7\" class=\"data row10 col7\" >-0.389307</td>\n",
       "      <td id=\"T_33843_row10_col8\" class=\"data row10 col8\" >0.250572</td>\n",
       "      <td id=\"T_33843_row10_col9\" class=\"data row10 col9\" >0.579037</td>\n",
       "      <td id=\"T_33843_row10_col10\" class=\"data row10 col10\" >1.000000</td>\n",
       "      <td id=\"T_33843_row10_col11\" class=\"data row10 col11\" >0.109761</td>\n",
       "      <td id=\"T_33843_row10_col12\" class=\"data row10 col12\" >0.260096</td>\n",
       "    </tr>\n",
       "    <tr>\n",
       "      <th id=\"T_33843_level0_row11\" class=\"row_heading level0 row11\" >ca</th>\n",
       "      <td id=\"T_33843_row11_col0\" class=\"data row11 col0\" >0.362210</td>\n",
       "      <td id=\"T_33843_row11_col1\" class=\"data row11 col1\" >0.091925</td>\n",
       "      <td id=\"T_33843_row11_col2\" class=\"data row11 col2\" >0.235644</td>\n",
       "      <td id=\"T_33843_row11_col3\" class=\"data row11 col3\" >0.097954</td>\n",
       "      <td id=\"T_33843_row11_col4\" class=\"data row11 col4\" >0.115945</td>\n",
       "      <td id=\"T_33843_row11_col5\" class=\"data row11 col5\" >0.152086</td>\n",
       "      <td id=\"T_33843_row11_col6\" class=\"data row11 col6\" >0.129021</td>\n",
       "      <td id=\"T_33843_row11_col7\" class=\"data row11 col7\" >-0.268727</td>\n",
       "      <td id=\"T_33843_row11_col8\" class=\"data row11 col8\" >0.148232</td>\n",
       "      <td id=\"T_33843_row11_col9\" class=\"data row11 col9\" >0.294452</td>\n",
       "      <td id=\"T_33843_row11_col10\" class=\"data row11 col10\" >0.109761</td>\n",
       "      <td id=\"T_33843_row11_col11\" class=\"data row11 col11\" >1.000000</td>\n",
       "      <td id=\"T_33843_row11_col12\" class=\"data row11 col12\" >0.248825</td>\n",
       "    </tr>\n",
       "    <tr>\n",
       "      <th id=\"T_33843_level0_row12\" class=\"row_heading level0 row12\" >thal</th>\n",
       "      <td id=\"T_33843_row12_col0\" class=\"data row12 col0\" >0.120795</td>\n",
       "      <td id=\"T_33843_row12_col1\" class=\"data row12 col1\" >0.370556</td>\n",
       "      <td id=\"T_33843_row12_col2\" class=\"data row12 col2\" >0.266275</td>\n",
       "      <td id=\"T_33843_row12_col3\" class=\"data row12 col3\" >0.130612</td>\n",
       "      <td id=\"T_33843_row12_col4\" class=\"data row12 col4\" >0.023441</td>\n",
       "      <td id=\"T_33843_row12_col5\" class=\"data row12 col5\" >0.051038</td>\n",
       "      <td id=\"T_33843_row12_col6\" class=\"data row12 col6\" >0.013612</td>\n",
       "      <td id=\"T_33843_row12_col7\" class=\"data row12 col7\" >-0.258386</td>\n",
       "      <td id=\"T_33843_row12_col8\" class=\"data row12 col8\" >0.323268</td>\n",
       "      <td id=\"T_33843_row12_col9\" class=\"data row12 col9\" >0.336809</td>\n",
       "      <td id=\"T_33843_row12_col10\" class=\"data row12 col10\" >0.260096</td>\n",
       "      <td id=\"T_33843_row12_col11\" class=\"data row12 col11\" >0.248825</td>\n",
       "      <td id=\"T_33843_row12_col12\" class=\"data row12 col12\" >1.000000</td>\n",
       "    </tr>\n",
       "  </tbody>\n",
       "</table>\n"
      ],
      "text/plain": [
       "<pandas.io.formats.style.Styler at 0x7cb2bc81c7f0>"
      ]
     },
     "execution_count": 11,
     "metadata": {},
     "output_type": "execute_result"
    }
   ],
   "source": [
    "# Show correlation matrix\n",
    "#features.corr()\n",
    "# Show the correlation matrix using colors. Can also be achieved through seaborn\n",
    "correlation = features.corr()\n",
    "correlation.style.background_gradient(cmap='coolwarm', axis=None)\n"
   ]
  },
  {
   "cell_type": "code",
   "execution_count": 12,
   "id": "0b93beb9",
   "metadata": {
    "execution": {
     "iopub.execute_input": "2023-09-11T13:18:20.442368Z",
     "iopub.status.busy": "2023-09-11T13:18:20.441801Z",
     "iopub.status.idle": "2023-09-11T13:18:21.814874Z",
     "shell.execute_reply": "2023-09-11T13:18:21.812271Z"
    },
    "papermill": {
     "duration": 1.391854,
     "end_time": "2023-09-11T13:18:21.817695",
     "exception": false,
     "start_time": "2023-09-11T13:18:20.425841",
     "status": "completed"
    },
    "tags": []
   },
   "outputs": [
    {
     "data": {
      "text/plain": [
       "<Axes: xlabel='slope', ylabel='thalach'>"
      ]
     },
     "execution_count": 12,
     "metadata": {},
     "output_type": "execute_result"
    },
    {
     "data": {
      "image/png": "[encoded data removed]",
      "text/plain": [
       "<Figure size 1000x600 with 6 Axes>"
      ]
     },
     "metadata": {},
     "output_type": "display_data"
    }
   ],
   "source": [
    "# Investigate further the most correlated features\n",
    "figure, axs = plt.subplots(2,3, figsize=(10,6))\n",
    "features.plot.scatter('age','ca',ax=axs[0][0])\n",
    "features.plot.scatter('sex','thal',ax=axs[0][1])\n",
    "features.plot.scatter('oldpeak','slope',ax=axs[0][2])\n",
    "features.plot.scatter('age','thalach',ax=axs[1][0])\n",
    "features.plot.scatter('exang','thalach',ax=axs[1][1])\n",
    "features.plot.scatter('slope','thalach',ax=axs[1][2])"
   ]
  },
  {
   "cell_type": "markdown",
   "id": "ddd37016",
   "metadata": {
    "papermill": {
     "duration": 0.01815,
     "end_time": "2023-09-11T13:18:21.852510",
     "exception": false,
     "start_time": "2023-09-11T13:18:21.834360",
     "status": "completed"
    },
    "tags": []
   },
   "source": [
    "What is the class distribution of the target? Find both the counts and the percentages. "
   ]
  },
  {
   "cell_type": "code",
   "execution_count": 13,
   "id": "e2730a80",
   "metadata": {
    "execution": {
     "iopub.execute_input": "2023-09-11T13:18:21.886789Z",
     "iopub.status.busy": "2023-09-11T13:18:21.886358Z",
     "iopub.status.idle": "2023-09-11T13:18:21.898817Z",
     "shell.execute_reply": "2023-09-11T13:18:21.897781Z"
    },
    "papermill": {
     "duration": 0.033335,
     "end_time": "2023-09-11T13:18:21.902975",
     "exception": false,
     "start_time": "2023-09-11T13:18:21.869640",
     "status": "completed"
    },
    "tags": []
   },
   "outputs": [
    {
     "data": {
      "text/plain": [
       "condition\n",
       "0            0.538721\n",
       "1            0.461279\n",
       "Name: count, dtype: float64"
      ]
     },
     "execution_count": 13,
     "metadata": {},
     "output_type": "execute_result"
    }
   ],
   "source": [
    "# Count the \n",
    "targets.value_counts()\n",
    "targets.value_counts()/len(targets)"
   ]
  },
  {
   "cell_type": "markdown",
   "id": "64d0d3fd",
   "metadata": {
    "papermill": {
     "duration": 0.015677,
     "end_time": "2023-09-11T13:18:21.933877",
     "exception": false,
     "start_time": "2023-09-11T13:18:21.918200",
     "status": "completed"
    },
    "tags": []
   },
   "source": [
    "Split the data into train/validation/test sets using sensible splits. The choice of sampling strategy and percentages of the splits must be explained/defended. What are the number of instances in each split?\n",
    "What is the distribution of the target in each split?"
   ]
  },
  {
   "cell_type": "code",
   "execution_count": 14,
   "id": "b5842377",
   "metadata": {
    "execution": {
     "iopub.execute_input": "2023-09-11T13:18:21.967168Z",
     "iopub.status.busy": "2023-09-11T13:18:21.966763Z",
     "iopub.status.idle": "2023-09-11T13:18:21.999960Z",
     "shell.execute_reply": "2023-09-11T13:18:21.998818Z"
    },
    "papermill": {
     "duration": 0.052819,
     "end_time": "2023-09-11T13:18:22.002778",
     "exception": false,
     "start_time": "2023-09-11T13:18:21.949959",
     "status": "completed"
    },
    "tags": []
   },
   "outputs": [
    {
     "name": "stdout",
     "output_type": "stream",
     "text": [
      "(148, 74, 75)\n",
      "condition\n",
      "0    0.540541\n",
      "1    0.459459\n",
      "Name: count, dtype: float64\n",
      "condition\n",
      "0    0.540541\n",
      "1    0.459459\n",
      "Name: count, dtype: float64\n",
      "condition\n",
      "0    0.533333\n",
      "1    0.466667\n",
      "Name: count, dtype: float64\n"
     ]
    }
   ],
   "source": [
    "# I started with a 60/20/20 split. Based on the investigation below I also tried 50/25/25 (the current setup). \n",
    "# This seems to give marginally better distribution in the features.  \n",
    "\n",
    "# We'll use stratified sampling, because we have a slight imbalance between the classes and a limited \n",
    "# amount of instances.\n",
    "train = dataset.groupby('condition', group_keys=False).apply(lambda x: x.sample(frac=0.5))\n",
    "val_test = dataset.drop(train.index)\n",
    "val = val_test.groupby('condition', group_keys=False).apply(lambda x: x.sample(frac=0.5))\n",
    "test = val_test.drop(val.index)\n",
    "\n",
    "# the number of instances in each partition\n",
    "print(f\"({len(train)}, {len(val)}, {len(test)})\")\n",
    "\n",
    "# The distribution of the target class (should be the same since we have used stratified sampling)\n",
    "print(f\"{train['condition'].value_counts()/len(train)}\")\n",
    "print(f\"{val['condition'].value_counts()/len(val)}\")\n",
    "print(f\"{test['condition'].value_counts()/len(test)}\")"
   ]
  },
  {
   "cell_type": "code",
   "execution_count": 15,
   "id": "aeb40a0c",
   "metadata": {
    "execution": {
     "iopub.execute_input": "2023-09-11T13:18:22.036222Z",
     "iopub.status.busy": "2023-09-11T13:18:22.035785Z",
     "iopub.status.idle": "2023-09-11T13:18:24.550035Z",
     "shell.execute_reply": "2023-09-11T13:18:24.548616Z"
    },
    "papermill": {
     "duration": 2.534354,
     "end_time": "2023-09-11T13:18:24.552748",
     "exception": false,
     "start_time": "2023-09-11T13:18:22.018394",
     "status": "completed"
    },
    "tags": []
   },
   "outputs": [
    {
     "data": {
      "text/plain": [
       "array([[<Axes: title={'center': 'age'}>,\n",
       "        <Axes: title={'center': 'trestbps'}>],\n",
       "       [<Axes: title={'center': 'chol'}>,\n",
       "        <Axes: title={'center': 'thalach'}>],\n",
       "       [<Axes: title={'center': 'oldpeak'}>,\n",
       "        <Axes: title={'center': 'ca'}>]], dtype=object)"
      ]
     },
     "execution_count": 15,
     "metadata": {},
     "output_type": "execute_result"
    },
    {
     "data": {
      "image/png": "[encoded data removed]",
      "text/plain": [
       "<Figure size 640x480 with 6 Axes>"
      ]
     },
     "metadata": {},
     "output_type": "display_data"
    },
    {
     "data": {
      "image/png": "[encoded data removed]",
      "text/plain": [
       "<Figure size 640x480 with 6 Axes>"
      ]
     },
     "metadata": {},
     "output_type": "display_data"
    }
   ],
   "source": [
    "# See if we have enough test data to be valid test (feature distribution comparison)\n",
    "test.hist()\n",
    "features.hist()"
   ]
  },
  {
   "cell_type": "markdown",
   "id": "36423b10",
   "metadata": {
    "papermill": {
     "duration": 0.01634,
     "end_time": "2023-09-11T13:18:24.585617",
     "exception": false,
     "start_time": "2023-09-11T13:18:24.569277",
     "status": "completed"
    },
    "tags": []
   },
   "source": [
    "Based on the findings suggest a processing setup that fits. Things to consider:\n",
    "How do we handle missing data (if any)?\n",
    "Should we normalize our data, and what strategy is best suited?\n",
    "In what way should we deal with our outliers (if any)?\n",
    "Are there any features that should be removed?"
   ]
  },
  {
   "cell_type": "code",
   "execution_count": 16,
   "id": "edb3d34a",
   "metadata": {
    "execution": {
     "iopub.execute_input": "2023-09-11T13:18:24.623605Z",
     "iopub.status.busy": "2023-09-11T13:18:24.623157Z",
     "iopub.status.idle": "2023-09-11T13:18:24.628915Z",
     "shell.execute_reply": "2023-09-11T13:18:24.627495Z"
    },
    "papermill": {
     "duration": 0.028915,
     "end_time": "2023-09-11T13:18:24.631175",
     "exception": false,
     "start_time": "2023-09-11T13:18:24.602260",
     "status": "completed"
    },
    "tags": []
   },
   "outputs": [],
   "source": [
    "# No missing data. \n",
    "# We should normalize the numeric features using mean normalization. Minmax could also work for the features (old peak and ca), but mean normalization should do the trick\n",
    "# The outliers should be left unchanged (we could remove instance/truncate values if we knew that the measurment was wrong)\n",
    "# All features are relatively independent, so no features should be removed/combined"
   ]
  },
  {
   "cell_type": "markdown",
   "id": "a2124e04",
   "metadata": {
    "papermill": {
     "duration": 0.016566,
     "end_time": "2023-09-11T13:18:24.664694",
     "exception": false,
     "start_time": "2023-09-11T13:18:24.648128",
     "status": "completed"
    },
    "tags": []
   },
   "source": [
    "Reduce the dimensionality (the number of features) to a suitable number of components based on your findings from the exploratory analysis above "
   ]
  },
  {
   "cell_type": "code",
   "execution_count": 17,
   "id": "cedf8d42",
   "metadata": {
    "execution": {
     "iopub.execute_input": "2023-09-11T13:18:24.700495Z",
     "iopub.status.busy": "2023-09-11T13:18:24.699155Z",
     "iopub.status.idle": "2023-09-11T13:18:26.313791Z",
     "shell.execute_reply": "2023-09-11T13:18:26.312447Z"
    },
    "papermill": {
     "duration": 1.635261,
     "end_time": "2023-09-11T13:18:26.316506",
     "exception": false,
     "start_time": "2023-09-11T13:18:24.681245",
     "status": "completed"
    },
    "tags": []
   },
   "outputs": [
    {
     "data": {
      "text/html": [
       "<div>\n",
       "<style scoped>\n",
       "    .dataframe tbody tr th:only-of-type {\n",
       "        vertical-align: middle;\n",
       "    }\n",
       "\n",
       "    .dataframe tbody tr th {\n",
       "        vertical-align: top;\n",
       "    }\n",
       "\n",
       "    .dataframe thead th {\n",
       "        text-align: right;\n",
       "    }\n",
       "</style>\n",
       "<table border=\"1\" class=\"dataframe\">\n",
       "  <thead>\n",
       "    <tr style=\"text-align: right;\">\n",
       "      <th></th>\n",
       "      <th>0</th>\n",
       "      <th>1</th>\n",
       "      <th>2</th>\n",
       "      <th>3</th>\n",
       "      <th>4</th>\n",
       "    </tr>\n",
       "  </thead>\n",
       "  <tbody>\n",
       "    <tr>\n",
       "      <th>0</th>\n",
       "      <td>1.436431</td>\n",
       "      <td>0.700022</td>\n",
       "      <td>-0.719723</td>\n",
       "      <td>-1.839104</td>\n",
       "      <td>0.242581</td>\n",
       "    </tr>\n",
       "    <tr>\n",
       "      <th>1</th>\n",
       "      <td>1.825824</td>\n",
       "      <td>0.050419</td>\n",
       "      <td>-0.012815</td>\n",
       "      <td>-0.297842</td>\n",
       "      <td>1.095435</td>\n",
       "    </tr>\n",
       "    <tr>\n",
       "      <th>2</th>\n",
       "      <td>1.835049</td>\n",
       "      <td>-0.527181</td>\n",
       "      <td>-1.275842</td>\n",
       "      <td>-0.519135</td>\n",
       "      <td>-1.350719</td>\n",
       "    </tr>\n",
       "    <tr>\n",
       "      <th>3</th>\n",
       "      <td>0.637725</td>\n",
       "      <td>1.134400</td>\n",
       "      <td>0.089965</td>\n",
       "      <td>0.106868</td>\n",
       "      <td>0.574203</td>\n",
       "    </tr>\n",
       "    <tr>\n",
       "      <th>4</th>\n",
       "      <td>0.089541</td>\n",
       "      <td>-1.105395</td>\n",
       "      <td>0.270327</td>\n",
       "      <td>-0.422054</td>\n",
       "      <td>-0.676243</td>\n",
       "    </tr>\n",
       "  </tbody>\n",
       "</table>\n",
       "</div>"
      ],
      "text/plain": [
       "          0         1         2         3         4\n",
       "0  1.436431  0.700022 -0.719723 -1.839104  0.242581\n",
       "1  1.825824  0.050419 -0.012815 -0.297842  1.095435\n",
       "2  1.835049 -0.527181 -1.275842 -0.519135 -1.350719\n",
       "3  0.637725  1.134400  0.089965  0.106868  0.574203\n",
       "4  0.089541 -1.105395  0.270327 -0.422054 -0.676243"
      ]
     },
     "execution_count": 17,
     "metadata": {},
     "output_type": "execute_result"
    }
   ],
   "source": [
    "# There is no need for PCA, but the following shows how this can be done to reduce the number of \n",
    "# numerical features by one\n",
    "\n",
    "num_features = features[['age','trestbps','chol','thalach','oldpeak','ca']]\n",
    "\n",
    "# Normalize\n",
    "num_features = (num_features-num_features.mean())/num_features.std()\n",
    "\n",
    "from sklearn.decomposition import PCA\n",
    "\n",
    "# Create Principle Component Analysis object, and fit and transform the features\n",
    "pca = PCA(5)\n",
    "reduced_features = pd.DataFrame(pca.fit_transform(num_features))\n",
    "\n",
    "reduced_features.head()\n"
   ]
  }
 ],
 "kernelspec": {
  "display_name": "Python 3",
  "language": "python",
  "name": "python3"
 },
 "language_info": {
  "codemirror_mode": {
   "name": "ipython",
   "version": 3
  },
  "file_extension": ".py",
  "mimetype": "text/x-python",
  "name": "python",
  "nbconvert_exporter": "python",
  "pygments_lexer": "ipython3",
  "version": "3.6.4"
 },
 "metadata": {
  "kernelspec": {
   "display_name": "Python 3",
   "language": "python",
   "name": "python3"
  },
  "language_info": {
   "codemirror_mode": {
    "name": "ipython",
    "version": 3
   },
   "file_extension": ".py",
   "mimetype": "text/x-python",
   "name": "python",
   "nbconvert_exporter": "python",
   "pygments_lexer": "ipython3",
   "version": "3.10.12"
  },
  "papermill": {
   "default_parameters": {},
   "duration": 14.225577,
   "end_time": "2023-09-11T13:18:27.156655",
   "environment_variables": {},
   "exception": null,
   "input_path": "__notebook__.ipynb",
   "output_path": "__notebook__.ipynb",
   "parameters": {},
   "start_time": "2023-09-11T13:18:12.931078",
   "version": "2.4.0"
  }
 },
 "nbformat": 4,
 "nbformat_minor": 5
}
