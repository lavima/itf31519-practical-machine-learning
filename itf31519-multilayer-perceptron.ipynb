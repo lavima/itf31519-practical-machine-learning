{
 "cells": [
  {
   "cell_type": "code",
   "execution_count": 1,
   "id": "45c0463a",
   "metadata": {
    "_cell_guid": "b1076dfc-b9ad-4769-8c92-a6c4dae69d19",
    "_uuid": "8f2839f25d086af736a60e9eeb907d3b93b6e0e5",
    "execution": {
     "iopub.execute_input": "2022-11-02T08:57:24.889416Z",
     "iopub.status.busy": "2022-11-02T08:57:24.888388Z",
     "iopub.status.idle": "2022-11-02T08:57:24.916416Z",
     "shell.execute_reply": "2022-11-02T08:57:24.914738Z"
    },
    "papermill": {
     "duration": 0.038895,
     "end_time": "2022-11-02T08:57:24.920007",
     "exception": false,
     "start_time": "2022-11-02T08:57:24.881112",
     "status": "completed"
    },
    "tags": []
   },
   "outputs": [
    {
     "name": "stdout",
     "output_type": "stream",
     "text": [
      "/kaggle/input/heart-failure-prediction/heart.csv\n"
     ]
    }
   ],
   "source": [
    "# This Python 3 environment comes with many helpful analytics libraries installed\n",
    "# It is defined by the kaggle/python Docker image: https://github.com/kaggle/docker-python\n",
    "# For example, here's several helpful packages to load\n",
    "\n",
    "import numpy as np # linear algebra\n",
    "import pandas as pd # data processing, CSV file I/O (e.g. pd.read_csv)\n",
    "\n",
    "# Input data files are available in the read-only \"../input/\" directory\n",
    "# For example, running this (by clicking run or pressing Shift+Enter) will list all files under the input directory\n",
    "\n",
    "import os\n",
    "for dirname, _, filenames in os.walk('/kaggle/input'):\n",
    "    for filename in filenames:\n",
    "        print(os.path.join(dirname, filename))\n",
    "\n",
    "# You can write up to 20GB to the current directory (/kaggle/working/) that gets preserved as output when you create a version using \"Save & Run All\" \n",
    "# You can also write temporary files to /kaggle/temp/, but they won't be saved outside of the current session"
   ]
  },
  {
   "cell_type": "code",
   "execution_count": 2,
   "id": "5c965b33",
   "metadata": {
    "execution": {
     "iopub.execute_input": "2022-11-02T08:57:24.930080Z",
     "iopub.status.busy": "2022-11-02T08:57:24.929270Z",
     "iopub.status.idle": "2022-11-02T08:57:25.003400Z",
     "shell.execute_reply": "2022-11-02T08:57:25.002153Z"
    },
    "papermill": {
     "duration": 0.082257,
     "end_time": "2022-11-02T08:57:25.006292",
     "exception": false,
     "start_time": "2022-11-02T08:57:24.924035",
     "status": "completed"
    },
    "tags": []
   },
   "outputs": [
    {
     "data": {
      "text/html": [
       "<div>\n",
       "<style scoped>\n",
       "    .dataframe tbody tr th:only-of-type {\n",
       "        vertical-align: middle;\n",
       "    }\n",
       "\n",
       "    .dataframe tbody tr th {\n",
       "        vertical-align: top;\n",
       "    }\n",
       "\n",
       "    .dataframe thead th {\n",
       "        text-align: right;\n",
       "    }\n",
       "</style>\n",
       "<table border=\"1\" class=\"dataframe\">\n",
       "  <thead>\n",
       "    <tr style=\"text-align: right;\">\n",
       "      <th></th>\n",
       "      <th>Age</th>\n",
       "      <th>Sex</th>\n",
       "      <th>ChestPainType</th>\n",
       "      <th>RestingBP</th>\n",
       "      <th>Cholesterol</th>\n",
       "      <th>FastingBS</th>\n",
       "      <th>RestingECG</th>\n",
       "      <th>MaxHR</th>\n",
       "      <th>ExerciseAngina</th>\n",
       "      <th>Oldpeak</th>\n",
       "      <th>ST_Slope</th>\n",
       "      <th>HeartDisease</th>\n",
       "    </tr>\n",
       "  </thead>\n",
       "  <tbody>\n",
       "    <tr>\n",
       "      <th>0</th>\n",
       "      <td>40</td>\n",
       "      <td>M</td>\n",
       "      <td>ATA</td>\n",
       "      <td>140</td>\n",
       "      <td>289</td>\n",
       "      <td>0</td>\n",
       "      <td>Normal</td>\n",
       "      <td>172</td>\n",
       "      <td>N</td>\n",
       "      <td>0.0</td>\n",
       "      <td>Up</td>\n",
       "      <td>0</td>\n",
       "    </tr>\n",
       "    <tr>\n",
       "      <th>1</th>\n",
       "      <td>49</td>\n",
       "      <td>F</td>\n",
       "      <td>NAP</td>\n",
       "      <td>160</td>\n",
       "      <td>180</td>\n",
       "      <td>0</td>\n",
       "      <td>Normal</td>\n",
       "      <td>156</td>\n",
       "      <td>N</td>\n",
       "      <td>1.0</td>\n",
       "      <td>Flat</td>\n",
       "      <td>1</td>\n",
       "    </tr>\n",
       "    <tr>\n",
       "      <th>2</th>\n",
       "      <td>37</td>\n",
       "      <td>M</td>\n",
       "      <td>ATA</td>\n",
       "      <td>130</td>\n",
       "      <td>283</td>\n",
       "      <td>0</td>\n",
       "      <td>ST</td>\n",
       "      <td>98</td>\n",
       "      <td>N</td>\n",
       "      <td>0.0</td>\n",
       "      <td>Up</td>\n",
       "      <td>0</td>\n",
       "    </tr>\n",
       "    <tr>\n",
       "      <th>3</th>\n",
       "      <td>48</td>\n",
       "      <td>F</td>\n",
       "      <td>ASY</td>\n",
       "      <td>138</td>\n",
       "      <td>214</td>\n",
       "      <td>0</td>\n",
       "      <td>Normal</td>\n",
       "      <td>108</td>\n",
       "      <td>Y</td>\n",
       "      <td>1.5</td>\n",
       "      <td>Flat</td>\n",
       "      <td>1</td>\n",
       "    </tr>\n",
       "    <tr>\n",
       "      <th>4</th>\n",
       "      <td>54</td>\n",
       "      <td>M</td>\n",
       "      <td>NAP</td>\n",
       "      <td>150</td>\n",
       "      <td>195</td>\n",
       "      <td>0</td>\n",
       "      <td>Normal</td>\n",
       "      <td>122</td>\n",
       "      <td>N</td>\n",
       "      <td>0.0</td>\n",
       "      <td>Up</td>\n",
       "      <td>0</td>\n",
       "    </tr>\n",
       "  </tbody>\n",
       "</table>\n",
       "</div>"
      ],
      "text/plain": [
       "   Age Sex ChestPainType  RestingBP  Cholesterol  FastingBS RestingECG  MaxHR  \\\n",
       "0   40   M           ATA        140          289          0     Normal    172   \n",
       "1   49   F           NAP        160          180          0     Normal    156   \n",
       "2   37   M           ATA        130          283          0         ST     98   \n",
       "3   48   F           ASY        138          214          0     Normal    108   \n",
       "4   54   M           NAP        150          195          0     Normal    122   \n",
       "\n",
       "  ExerciseAngina  Oldpeak ST_Slope  HeartDisease  \n",
       "0              N      0.0       Up             0  \n",
       "1              N      1.0     Flat             1  \n",
       "2              N      0.0       Up             0  \n",
       "3              Y      1.5     Flat             1  \n",
       "4              N      0.0       Up             0  "
      ]
     },
     "execution_count": 2,
     "metadata": {},
     "output_type": "execute_result"
    }
   ],
   "source": [
    "dataset = pd.read_csv('/kaggle/input/heart-failure-prediction/heart.csv')\n",
    "dataset.head()"
   ]
  },
  {
   "cell_type": "code",
   "execution_count": 3,
   "id": "6fc9f3c4",
   "metadata": {
    "execution": {
     "iopub.execute_input": "2022-11-02T08:57:25.016489Z",
     "iopub.status.busy": "2022-11-02T08:57:25.016039Z",
     "iopub.status.idle": "2022-11-02T08:57:25.044503Z",
     "shell.execute_reply": "2022-11-02T08:57:25.042546Z"
    },
    "papermill": {
     "duration": 0.037611,
     "end_time": "2022-11-02T08:57:25.047959",
     "exception": false,
     "start_time": "2022-11-02T08:57:25.010348",
     "status": "completed"
    },
    "tags": []
   },
   "outputs": [
    {
     "data": {
      "text/html": [
       "<div>\n",
       "<style scoped>\n",
       "    .dataframe tbody tr th:only-of-type {\n",
       "        vertical-align: middle;\n",
       "    }\n",
       "\n",
       "    .dataframe tbody tr th {\n",
       "        vertical-align: top;\n",
       "    }\n",
       "\n",
       "    .dataframe thead th {\n",
       "        text-align: right;\n",
       "    }\n",
       "</style>\n",
       "<table border=\"1\" class=\"dataframe\">\n",
       "  <thead>\n",
       "    <tr style=\"text-align: right;\">\n",
       "      <th></th>\n",
       "      <th>0</th>\n",
       "      <th>1</th>\n",
       "    </tr>\n",
       "  </thead>\n",
       "  <tbody>\n",
       "    <tr>\n",
       "      <th>0</th>\n",
       "      <td>1</td>\n",
       "      <td>0</td>\n",
       "    </tr>\n",
       "    <tr>\n",
       "      <th>1</th>\n",
       "      <td>0</td>\n",
       "      <td>1</td>\n",
       "    </tr>\n",
       "    <tr>\n",
       "      <th>2</th>\n",
       "      <td>1</td>\n",
       "      <td>0</td>\n",
       "    </tr>\n",
       "    <tr>\n",
       "      <th>3</th>\n",
       "      <td>0</td>\n",
       "      <td>1</td>\n",
       "    </tr>\n",
       "    <tr>\n",
       "      <th>4</th>\n",
       "      <td>1</td>\n",
       "      <td>0</td>\n",
       "    </tr>\n",
       "  </tbody>\n",
       "</table>\n",
       "</div>"
      ],
      "text/plain": [
       "   0  1\n",
       "0  1  0\n",
       "1  0  1\n",
       "2  1  0\n",
       "3  0  1\n",
       "4  1  0"
      ]
     },
     "execution_count": 3,
     "metadata": {},
     "output_type": "execute_result"
    }
   ],
   "source": [
    "features = dataset.drop('HeartDisease',axis=1)\n",
    "targets = dataset['HeartDisease']\n",
    "\n",
    "targets_onehot = pd.get_dummies(targets)\n",
    "targets_onehot.head()"
   ]
  },
  {
   "cell_type": "code",
   "execution_count": 4,
   "id": "5d4f54ec",
   "metadata": {
    "execution": {
     "iopub.execute_input": "2022-11-02T08:57:25.058870Z",
     "iopub.status.busy": "2022-11-02T08:57:25.057948Z",
     "iopub.status.idle": "2022-11-02T08:57:25.067674Z",
     "shell.execute_reply": "2022-11-02T08:57:25.066675Z"
    },
    "papermill": {
     "duration": 0.017804,
     "end_time": "2022-11-02T08:57:25.070125",
     "exception": false,
     "start_time": "2022-11-02T08:57:25.052321",
     "status": "completed"
    },
    "tags": []
   },
   "outputs": [
    {
     "data": {
      "text/plain": [
       "1    508\n",
       "0    410\n",
       "Name: HeartDisease, dtype: int64"
      ]
     },
     "execution_count": 4,
     "metadata": {},
     "output_type": "execute_result"
    }
   ],
   "source": [
    "targets.value_counts()"
   ]
  },
  {
   "cell_type": "code",
   "execution_count": 5,
   "id": "687d87f1",
   "metadata": {
    "execution": {
     "iopub.execute_input": "2022-11-02T08:57:25.081317Z",
     "iopub.status.busy": "2022-11-02T08:57:25.080193Z",
     "iopub.status.idle": "2022-11-02T08:57:25.099295Z",
     "shell.execute_reply": "2022-11-02T08:57:25.097680Z"
    },
    "papermill": {
     "duration": 0.028124,
     "end_time": "2022-11-02T08:57:25.102537",
     "exception": false,
     "start_time": "2022-11-02T08:57:25.074413",
     "status": "completed"
    },
    "tags": []
   },
   "outputs": [
    {
     "data": {
      "text/plain": [
       "(918, 20)"
      ]
     },
     "execution_count": 5,
     "metadata": {},
     "output_type": "execute_result"
    }
   ],
   "source": [
    "features_onehot = pd.get_dummies(features)\n",
    "features_onehot.shape"
   ]
  },
  {
   "cell_type": "code",
   "execution_count": 6,
   "id": "b2fc1a66",
   "metadata": {
    "execution": {
     "iopub.execute_input": "2022-11-02T08:57:25.114124Z",
     "iopub.status.busy": "2022-11-02T08:57:25.113481Z",
     "iopub.status.idle": "2022-11-02T08:57:25.136602Z",
     "shell.execute_reply": "2022-11-02T08:57:25.134034Z"
    },
    "papermill": {
     "duration": 0.032312,
     "end_time": "2022-11-02T08:57:25.139732",
     "exception": false,
     "start_time": "2022-11-02T08:57:25.107420",
     "status": "completed"
    },
    "tags": []
   },
   "outputs": [
    {
     "name": "stdout",
     "output_type": "stream",
     "text": [
      "<class 'pandas.core.frame.DataFrame'>\n",
      "RangeIndex: 918 entries, 0 to 917\n",
      "Data columns (total 20 columns):\n",
      " #   Column             Non-Null Count  Dtype  \n",
      "---  ------             --------------  -----  \n",
      " 0   Age                918 non-null    float32\n",
      " 1   RestingBP          918 non-null    float32\n",
      " 2   Cholesterol        918 non-null    float32\n",
      " 3   FastingBS          918 non-null    float32\n",
      " 4   MaxHR              918 non-null    float32\n",
      " 5   Oldpeak            918 non-null    float32\n",
      " 6   Sex_F              918 non-null    float32\n",
      " 7   Sex_M              918 non-null    float32\n",
      " 8   ChestPainType_ASY  918 non-null    float32\n",
      " 9   ChestPainType_ATA  918 non-null    float32\n",
      " 10  ChestPainType_NAP  918 non-null    float32\n",
      " 11  ChestPainType_TA   918 non-null    float32\n",
      " 12  RestingECG_LVH     918 non-null    float32\n",
      " 13  RestingECG_Normal  918 non-null    float32\n",
      " 14  RestingECG_ST      918 non-null    float32\n",
      " 15  ExerciseAngina_N   918 non-null    float32\n",
      " 16  ExerciseAngina_Y   918 non-null    float32\n",
      " 17  ST_Slope_Down      918 non-null    float32\n",
      " 18  ST_Slope_Flat      918 non-null    float32\n",
      " 19  ST_Slope_Up        918 non-null    float32\n",
      "dtypes: float32(20)\n",
      "memory usage: 71.8 KB\n"
     ]
    }
   ],
   "source": [
    "features_onehot = features_onehot.astype('float32')\n",
    "targets_onehot = targets_onehot.astype('float32')\n",
    "features_onehot.info()"
   ]
  },
  {
   "cell_type": "code",
   "execution_count": 7,
   "id": "e2e99f73",
   "metadata": {
    "execution": {
     "iopub.execute_input": "2022-11-02T08:57:25.151276Z",
     "iopub.status.busy": "2022-11-02T08:57:25.150875Z",
     "iopub.status.idle": "2022-11-02T08:57:26.446788Z",
     "shell.execute_reply": "2022-11-02T08:57:26.445643Z"
    },
    "papermill": {
     "duration": 1.304797,
     "end_time": "2022-11-02T08:57:26.449423",
     "exception": false,
     "start_time": "2022-11-02T08:57:25.144626",
     "status": "completed"
    },
    "tags": []
   },
   "outputs": [],
   "source": [
    "from sklearn.model_selection import train_test_split\n",
    "\n",
    "train_features, test_features, train_targets, test_targets = train_test_split(features_onehot, targets_onehot, test_size=0.1, stratify=targets)"
   ]
  },
  {
   "cell_type": "code",
   "execution_count": 8,
   "id": "981f8879",
   "metadata": {
    "execution": {
     "iopub.execute_input": "2022-11-02T08:57:26.460863Z",
     "iopub.status.busy": "2022-11-02T08:57:26.460441Z",
     "iopub.status.idle": "2022-11-02T08:57:32.818834Z",
     "shell.execute_reply": "2022-11-02T08:57:32.815984Z"
    },
    "papermill": {
     "duration": 6.368181,
     "end_time": "2022-11-02T08:57:32.822184",
     "exception": false,
     "start_time": "2022-11-02T08:57:26.454003",
     "status": "completed"
    },
    "tags": []
   },
   "outputs": [
    {
     "name": "stderr",
     "output_type": "stream",
     "text": [
      "2022-11-02 08:57:32.791399: I tensorflow/core/common_runtime/process_util.cc:146] Creating new thread pool with default inter op setting: 2. Tune using inter_op_parallelism_threads for best performance.\n"
     ]
    },
    {
     "data": {
      "text/plain": [
       "(92, 2)"
      ]
     },
     "execution_count": 8,
     "metadata": {},
     "output_type": "execute_result"
    }
   ],
   "source": [
    "import tensorflow as tf\n",
    "\n",
    "train_features_tensor = tf.convert_to_tensor(train_features)\n",
    "train_targets_tensor = tf.convert_to_tensor(train_targets)\n",
    "test_features_tensor = tf.convert_to_tensor(test_features)\n",
    "test_targets_tensor = tf.convert_to_tensor(test_targets)\n",
    "\n",
    "test_targets.shape"
   ]
  },
  {
   "cell_type": "code",
   "execution_count": 9,
   "id": "fc3b714b",
   "metadata": {
    "execution": {
     "iopub.execute_input": "2022-11-02T08:57:32.835705Z",
     "iopub.status.busy": "2022-11-02T08:57:32.834853Z",
     "iopub.status.idle": "2022-11-02T08:57:34.416011Z",
     "shell.execute_reply": "2022-11-02T08:57:34.414613Z"
    },
    "papermill": {
     "duration": 1.591448,
     "end_time": "2022-11-02T08:57:34.419124",
     "exception": false,
     "start_time": "2022-11-02T08:57:32.827676",
     "status": "completed"
    },
    "tags": []
   },
   "outputs": [],
   "source": [
    "\n",
    "from tensorflow.keras.models import Sequential\n",
    "from tensorflow.keras.layers import Dense\n",
    "\n",
    "model = Sequential([Dense(20,activation='sigmoid'), Dense(12,activation='sigmoid'), Dense(2,activation=\"sigmoid\")])\n",
    "model.compile(optimizer='adam',loss='categorical_crossentropy',metrics=['accuracy'])"
   ]
  },
  {
   "cell_type": "code",
   "execution_count": 10,
   "id": "41f2a23d",
   "metadata": {
    "execution": {
     "iopub.execute_input": "2022-11-02T08:57:34.432145Z",
     "iopub.status.busy": "2022-11-02T08:57:34.431404Z",
     "iopub.status.idle": "2022-11-02T08:57:36.493496Z",
     "shell.execute_reply": "2022-11-02T08:57:36.492250Z"
    },
    "papermill": {
     "duration": 2.072089,
     "end_time": "2022-11-02T08:57:36.496003",
     "exception": false,
     "start_time": "2022-11-02T08:57:34.423914",
     "status": "completed"
    },
    "tags": []
   },
   "outputs": [
    {
     "name": "stderr",
     "output_type": "stream",
     "text": [
      "2022-11-02 08:57:34.555517: I tensorflow/compiler/mlir/mlir_graph_optimization_pass.cc:185] None of the MLIR Optimization Passes are enabled (registered 2)\n"
     ]
    },
    {
     "name": "stdout",
     "output_type": "stream",
     "text": [
      "Epoch 1/10\n",
      "35/35 [==============================] - 1s 2ms/step - loss: 0.6764 - accuracy: 0.5533\n",
      "Epoch 2/10\n",
      "35/35 [==============================] - 0s 3ms/step - loss: 0.6502 - accuracy: 0.5872\n",
      "Epoch 3/10\n",
      "35/35 [==============================] - 0s 3ms/step - loss: 0.6368 - accuracy: 0.6102\n",
      "Epoch 4/10\n",
      "35/35 [==============================] - 0s 2ms/step - loss: 0.6277 - accuracy: 0.6598\n",
      "Epoch 5/10\n",
      "35/35 [==============================] - 0s 2ms/step - loss: 0.6203 - accuracy: 0.6550\n",
      "Epoch 6/10\n",
      "35/35 [==============================] - 0s 3ms/step - loss: 0.6145 - accuracy: 0.6743\n",
      "Epoch 7/10\n",
      "35/35 [==============================] - 0s 2ms/step - loss: 0.6106 - accuracy: 0.6768\n",
      "Epoch 8/10\n",
      "35/35 [==============================] - 0s 2ms/step - loss: 0.6028 - accuracy: 0.6913\n",
      "Epoch 9/10\n",
      "35/35 [==============================] - 0s 2ms/step - loss: 0.5965 - accuracy: 0.7010\n",
      "Epoch 10/10\n",
      "35/35 [==============================] - 0s 2ms/step - loss: 0.5884 - accuracy: 0.7203\n"
     ]
    },
    {
     "data": {
      "text/plain": [
       "<keras.callbacks.History at 0x7ff26516f590>"
      ]
     },
     "execution_count": 10,
     "metadata": {},
     "output_type": "execute_result"
    }
   ],
   "source": [
    "model.fit(train_features, train_targets, epochs=10, batch_size=24)"
   ]
  },
  {
   "cell_type": "code",
   "execution_count": 11,
   "id": "f955444c",
   "metadata": {
    "execution": {
     "iopub.execute_input": "2022-11-02T08:57:36.511789Z",
     "iopub.status.busy": "2022-11-02T08:57:36.510675Z",
     "iopub.status.idle": "2022-11-02T08:57:36.786154Z",
     "shell.execute_reply": "2022-11-02T08:57:36.784740Z"
    },
    "papermill": {
     "duration": 0.286656,
     "end_time": "2022-11-02T08:57:36.789317",
     "exception": false,
     "start_time": "2022-11-02T08:57:36.502661",
     "status": "completed"
    },
    "tags": []
   },
   "outputs": [
    {
     "name": "stdout",
     "output_type": "stream",
     "text": [
      "3/3 [==============================] - 0s 3ms/step - loss: 0.6044 - accuracy: 0.6522\n"
     ]
    },
    {
     "data": {
      "text/plain": [
       "[0.6043584942817688, 0.6521739363670349]"
      ]
     },
     "execution_count": 11,
     "metadata": {},
     "output_type": "execute_result"
    }
   ],
   "source": [
    "model.evaluate(test_features, test_targets)"
   ]
  }
 ],
 "metadata": {
  "kernelspec": {
   "display_name": "Python 3",
   "language": "python",
   "name": "python3"
  },
  "language_info": {
   "codemirror_mode": {
    "name": "ipython",
    "version": 3
   },
   "file_extension": ".py",
   "mimetype": "text/x-python",
   "name": "python",
   "nbconvert_exporter": "python",
   "pygments_lexer": "ipython3",
   "version": "3.7.12"
  },
  "papermill": {
   "default_parameters": {},
   "duration": 25.341979,
   "end_time": "2022-11-02T08:57:39.802228",
   "environment_variables": {},
   "exception": null,
   "input_path": "__notebook__.ipynb",
   "output_path": "__notebook__.ipynb",
   "parameters": {},
   "start_time": "2022-11-02T08:57:14.460249",
   "version": "2.3.4"
  }
 },
 "nbformat": 4,
 "nbformat_minor": 5
}
