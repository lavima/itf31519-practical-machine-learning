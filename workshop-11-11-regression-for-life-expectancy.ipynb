{
 "cells": [
  {
   "cell_type": "code",
   "execution_count": 1,
   "id": "54482cc0",
   "metadata": {
    "_cell_guid": "b1076dfc-b9ad-4769-8c92-a6c4dae69d19",
    "_uuid": "8f2839f25d086af736a60e9eeb907d3b93b6e0e5",
    "execution": {
     "iopub.execute_input": "2022-11-11T08:59:01.386825Z",
     "iopub.status.busy": "2022-11-11T08:59:01.386464Z",
     "iopub.status.idle": "2022-11-11T08:59:01.408591Z",
     "shell.execute_reply": "2022-11-11T08:59:01.407569Z"
    },
    "papermill": {
     "duration": 0.030543,
     "end_time": "2022-11-11T08:59:01.411155",
     "exception": false,
     "start_time": "2022-11-11T08:59:01.380612",
     "status": "completed"
    },
    "tags": []
   },
   "outputs": [
    {
     "name": "stdout",
     "output_type": "stream",
     "text": [
      "/kaggle/input/life-expectancy-who/Life Expectancy Data.csv\n"
     ]
    }
   ],
   "source": [
    "# This Python 3 environment comes with many helpful analytics libraries installed\n",
    "# It is defined by the kaggle/python Docker image: https://github.com/kaggle/docker-python\n",
    "# For example, here's several helpful packages to load\n",
    "\n",
    "import numpy as np # linear algebra\n",
    "import pandas as pd # data processing, CSV file I/O (e.g. pd.read_csv)\n",
    "\n",
    "# Input data files are available in the read-only \"../input/\" directory\n",
    "# For example, running this (by clicking run or pressing Shift+Enter) will list all files under the input directory\n",
    "\n",
    "import os\n",
    "for dirname, _, filenames in os.walk('/kaggle/input'):\n",
    "    for filename in filenames:\n",
    "        print(os.path.join(dirname, filename))\n",
    "\n",
    "# You can write up to 20GB to the current directory (/kaggle/working/) that gets preserved as output when you create a version using \"Save & Run All\" \n",
    "# You can also write temporary files to /kaggle/temp/, but they won't be saved outside of the current session"
   ]
  },
  {
   "cell_type": "code",
   "execution_count": 2,
   "id": "7f6d9e31",
   "metadata": {
    "execution": {
     "iopub.execute_input": "2022-11-11T08:59:01.420513Z",
     "iopub.status.busy": "2022-11-11T08:59:01.420173Z",
     "iopub.status.idle": "2022-11-11T08:59:01.575266Z",
     "shell.execute_reply": "2022-11-11T08:59:01.574512Z"
    },
    "papermill": {
     "duration": 0.161797,
     "end_time": "2022-11-11T08:59:01.576975",
     "exception": false,
     "start_time": "2022-11-11T08:59:01.415178",
     "status": "completed"
    },
    "tags": []
   },
   "outputs": [
    {
     "data": {
      "text/plain": [
       "(2938, 22)"
      ]
     },
     "execution_count": 2,
     "metadata": {},
     "output_type": "execute_result"
    }
   ],
   "source": [
    "dataset = pd.read_csv('/kaggle/input/life-expectancy-who/Life Expectancy Data.csv')\n",
    "dataset.describe()\n",
    "dataset.shape"
   ]
  },
  {
   "cell_type": "code",
   "execution_count": 3,
   "id": "b70f2a99",
   "metadata": {
    "execution": {
     "iopub.execute_input": "2022-11-11T08:59:01.586762Z",
     "iopub.status.busy": "2022-11-11T08:59:01.586203Z",
     "iopub.status.idle": "2022-11-11T08:59:01.603659Z",
     "shell.execute_reply": "2022-11-11T08:59:01.602890Z"
    },
    "papermill": {
     "duration": 0.024357,
     "end_time": "2022-11-11T08:59:01.605367",
     "exception": false,
     "start_time": "2022-11-11T08:59:01.581010",
     "status": "completed"
    },
    "tags": []
   },
   "outputs": [
    {
     "name": "stdout",
     "output_type": "stream",
     "text": [
      "<class 'pandas.core.frame.DataFrame'>\n",
      "RangeIndex: 2938 entries, 0 to 2937\n",
      "Data columns (total 22 columns):\n",
      " #   Column                           Non-Null Count  Dtype  \n",
      "---  ------                           --------------  -----  \n",
      " 0   Country                          2938 non-null   object \n",
      " 1   Year                             2938 non-null   int64  \n",
      " 2   Status                           2938 non-null   object \n",
      " 3   Life expectancy                  2928 non-null   float64\n",
      " 4   Adult Mortality                  2928 non-null   float64\n",
      " 5   infant deaths                    2938 non-null   int64  \n",
      " 6   Alcohol                          2744 non-null   float64\n",
      " 7   percentage expenditure           2938 non-null   float64\n",
      " 8   Hepatitis B                      2385 non-null   float64\n",
      " 9   Measles                          2938 non-null   int64  \n",
      " 10   BMI                             2904 non-null   float64\n",
      " 11  under-five deaths                2938 non-null   int64  \n",
      " 12  Polio                            2919 non-null   float64\n",
      " 13  Total expenditure                2712 non-null   float64\n",
      " 14  Diphtheria                       2919 non-null   float64\n",
      " 15   HIV/AIDS                        2938 non-null   float64\n",
      " 16  GDP                              2490 non-null   float64\n",
      " 17  Population                       2286 non-null   float64\n",
      " 18   thinness  1-19 years            2904 non-null   float64\n",
      " 19   thinness 5-9 years              2904 non-null   float64\n",
      " 20  Income composition of resources  2771 non-null   float64\n",
      " 21  Schooling                        2775 non-null   float64\n",
      "dtypes: float64(16), int64(4), object(2)\n",
      "memory usage: 505.1+ KB\n"
     ]
    }
   ],
   "source": [
    "dataset.info()"
   ]
  },
  {
   "cell_type": "code",
   "execution_count": 4,
   "id": "a5d6ef1c",
   "metadata": {
    "execution": {
     "iopub.execute_input": "2022-11-11T08:59:01.616956Z",
     "iopub.status.busy": "2022-11-11T08:59:01.616586Z",
     "iopub.status.idle": "2022-11-11T08:59:01.622998Z",
     "shell.execute_reply": "2022-11-11T08:59:01.621737Z"
    },
    "papermill": {
     "duration": 0.01575,
     "end_time": "2022-11-11T08:59:01.626120",
     "exception": false,
     "start_time": "2022-11-11T08:59:01.610370",
     "status": "completed"
    },
    "tags": []
   },
   "outputs": [],
   "source": [
    "dataset.fillna(0.0, inplace=True)"
   ]
  },
  {
   "cell_type": "code",
   "execution_count": 5,
   "id": "3a6a57c3",
   "metadata": {
    "execution": {
     "iopub.execute_input": "2022-11-11T08:59:01.638460Z",
     "iopub.status.busy": "2022-11-11T08:59:01.638127Z",
     "iopub.status.idle": "2022-11-11T08:59:01.684795Z",
     "shell.execute_reply": "2022-11-11T08:59:01.683768Z"
    },
    "papermill": {
     "duration": 0.055111,
     "end_time": "2022-11-11T08:59:01.686742",
     "exception": false,
     "start_time": "2022-11-11T08:59:01.631631",
     "status": "completed"
    },
    "tags": []
   },
   "outputs": [
    {
     "data": {
      "text/html": [
       "<div>\n",
       "<style scoped>\n",
       "    .dataframe tbody tr th:only-of-type {\n",
       "        vertical-align: middle;\n",
       "    }\n",
       "\n",
       "    .dataframe tbody tr th {\n",
       "        vertical-align: top;\n",
       "    }\n",
       "\n",
       "    .dataframe thead th {\n",
       "        text-align: right;\n",
       "    }\n",
       "</style>\n",
       "<table border=\"1\" class=\"dataframe\">\n",
       "  <thead>\n",
       "    <tr style=\"text-align: right;\">\n",
       "      <th></th>\n",
       "      <th>Year</th>\n",
       "      <th>Adult Mortality</th>\n",
       "      <th>infant deaths</th>\n",
       "      <th>Alcohol</th>\n",
       "      <th>percentage expenditure</th>\n",
       "      <th>Hepatitis B</th>\n",
       "      <th>Measles</th>\n",
       "      <th>BMI</th>\n",
       "      <th>under-five deaths</th>\n",
       "      <th>Polio</th>\n",
       "      <th>...</th>\n",
       "      <th>Country_Uruguay</th>\n",
       "      <th>Country_Uzbekistan</th>\n",
       "      <th>Country_Vanuatu</th>\n",
       "      <th>Country_Venezuela (Bolivarian Republic of)</th>\n",
       "      <th>Country_Viet Nam</th>\n",
       "      <th>Country_Yemen</th>\n",
       "      <th>Country_Zambia</th>\n",
       "      <th>Country_Zimbabwe</th>\n",
       "      <th>Status_Developed</th>\n",
       "      <th>Status_Developing</th>\n",
       "    </tr>\n",
       "  </thead>\n",
       "  <tbody>\n",
       "    <tr>\n",
       "      <th>0</th>\n",
       "      <td>2015</td>\n",
       "      <td>263.0</td>\n",
       "      <td>62</td>\n",
       "      <td>0.01</td>\n",
       "      <td>71.279624</td>\n",
       "      <td>65.0</td>\n",
       "      <td>1154</td>\n",
       "      <td>19.1</td>\n",
       "      <td>83</td>\n",
       "      <td>6.0</td>\n",
       "      <td>...</td>\n",
       "      <td>0</td>\n",
       "      <td>0</td>\n",
       "      <td>0</td>\n",
       "      <td>0</td>\n",
       "      <td>0</td>\n",
       "      <td>0</td>\n",
       "      <td>0</td>\n",
       "      <td>0</td>\n",
       "      <td>0</td>\n",
       "      <td>1</td>\n",
       "    </tr>\n",
       "    <tr>\n",
       "      <th>1</th>\n",
       "      <td>2014</td>\n",
       "      <td>271.0</td>\n",
       "      <td>64</td>\n",
       "      <td>0.01</td>\n",
       "      <td>73.523582</td>\n",
       "      <td>62.0</td>\n",
       "      <td>492</td>\n",
       "      <td>18.6</td>\n",
       "      <td>86</td>\n",
       "      <td>58.0</td>\n",
       "      <td>...</td>\n",
       "      <td>0</td>\n",
       "      <td>0</td>\n",
       "      <td>0</td>\n",
       "      <td>0</td>\n",
       "      <td>0</td>\n",
       "      <td>0</td>\n",
       "      <td>0</td>\n",
       "      <td>0</td>\n",
       "      <td>0</td>\n",
       "      <td>1</td>\n",
       "    </tr>\n",
       "    <tr>\n",
       "      <th>2</th>\n",
       "      <td>2013</td>\n",
       "      <td>268.0</td>\n",
       "      <td>66</td>\n",
       "      <td>0.01</td>\n",
       "      <td>73.219243</td>\n",
       "      <td>64.0</td>\n",
       "      <td>430</td>\n",
       "      <td>18.1</td>\n",
       "      <td>89</td>\n",
       "      <td>62.0</td>\n",
       "      <td>...</td>\n",
       "      <td>0</td>\n",
       "      <td>0</td>\n",
       "      <td>0</td>\n",
       "      <td>0</td>\n",
       "      <td>0</td>\n",
       "      <td>0</td>\n",
       "      <td>0</td>\n",
       "      <td>0</td>\n",
       "      <td>0</td>\n",
       "      <td>1</td>\n",
       "    </tr>\n",
       "    <tr>\n",
       "      <th>3</th>\n",
       "      <td>2012</td>\n",
       "      <td>272.0</td>\n",
       "      <td>69</td>\n",
       "      <td>0.01</td>\n",
       "      <td>78.184215</td>\n",
       "      <td>67.0</td>\n",
       "      <td>2787</td>\n",
       "      <td>17.6</td>\n",
       "      <td>93</td>\n",
       "      <td>67.0</td>\n",
       "      <td>...</td>\n",
       "      <td>0</td>\n",
       "      <td>0</td>\n",
       "      <td>0</td>\n",
       "      <td>0</td>\n",
       "      <td>0</td>\n",
       "      <td>0</td>\n",
       "      <td>0</td>\n",
       "      <td>0</td>\n",
       "      <td>0</td>\n",
       "      <td>1</td>\n",
       "    </tr>\n",
       "    <tr>\n",
       "      <th>4</th>\n",
       "      <td>2011</td>\n",
       "      <td>275.0</td>\n",
       "      <td>71</td>\n",
       "      <td>0.01</td>\n",
       "      <td>7.097109</td>\n",
       "      <td>68.0</td>\n",
       "      <td>3013</td>\n",
       "      <td>17.2</td>\n",
       "      <td>97</td>\n",
       "      <td>68.0</td>\n",
       "      <td>...</td>\n",
       "      <td>0</td>\n",
       "      <td>0</td>\n",
       "      <td>0</td>\n",
       "      <td>0</td>\n",
       "      <td>0</td>\n",
       "      <td>0</td>\n",
       "      <td>0</td>\n",
       "      <td>0</td>\n",
       "      <td>0</td>\n",
       "      <td>1</td>\n",
       "    </tr>\n",
       "  </tbody>\n",
       "</table>\n",
       "<p>5 rows × 214 columns</p>\n",
       "</div>"
      ],
      "text/plain": [
       "   Year  Adult Mortality  infant deaths  Alcohol  percentage expenditure  \\\n",
       "0  2015            263.0             62     0.01               71.279624   \n",
       "1  2014            271.0             64     0.01               73.523582   \n",
       "2  2013            268.0             66     0.01               73.219243   \n",
       "3  2012            272.0             69     0.01               78.184215   \n",
       "4  2011            275.0             71     0.01                7.097109   \n",
       "\n",
       "   Hepatitis B  Measles    BMI   under-five deaths   Polio  ...  \\\n",
       "0         65.0      1154   19.1                  83    6.0  ...   \n",
       "1         62.0       492   18.6                  86   58.0  ...   \n",
       "2         64.0       430   18.1                  89   62.0  ...   \n",
       "3         67.0      2787   17.6                  93   67.0  ...   \n",
       "4         68.0      3013   17.2                  97   68.0  ...   \n",
       "\n",
       "   Country_Uruguay  Country_Uzbekistan  Country_Vanuatu  \\\n",
       "0                0                   0                0   \n",
       "1                0                   0                0   \n",
       "2                0                   0                0   \n",
       "3                0                   0                0   \n",
       "4                0                   0                0   \n",
       "\n",
       "   Country_Venezuela (Bolivarian Republic of)  Country_Viet Nam  \\\n",
       "0                                           0                 0   \n",
       "1                                           0                 0   \n",
       "2                                           0                 0   \n",
       "3                                           0                 0   \n",
       "4                                           0                 0   \n",
       "\n",
       "   Country_Yemen  Country_Zambia  Country_Zimbabwe  Status_Developed  \\\n",
       "0              0               0                 0                 0   \n",
       "1              0               0                 0                 0   \n",
       "2              0               0                 0                 0   \n",
       "3              0               0                 0                 0   \n",
       "4              0               0                 0                 0   \n",
       "\n",
       "   Status_Developing  \n",
       "0                  1  \n",
       "1                  1  \n",
       "2                  1  \n",
       "3                  1  \n",
       "4                  1  \n",
       "\n",
       "[5 rows x 214 columns]"
      ]
     },
     "execution_count": 5,
     "metadata": {},
     "output_type": "execute_result"
    }
   ],
   "source": [
    "dataset_encoded = pd.get_dummies(dataset)\n",
    "#dataset_encoded.head()\n",
    "#dataset_encoded.shape\n",
    "\n",
    "dataset_encoded.keys()\n",
    "features = dataset_encoded.drop('Life expectancy ', axis=1)\n",
    "targets = dataset_encoded['Life expectancy ']\n",
    "features.head()"
   ]
  },
  {
   "cell_type": "code",
   "execution_count": 6,
   "id": "43e70d24",
   "metadata": {
    "execution": {
     "iopub.execute_input": "2022-11-11T08:59:01.696412Z",
     "iopub.status.busy": "2022-11-11T08:59:01.696134Z",
     "iopub.status.idle": "2022-11-11T08:59:02.756577Z",
     "shell.execute_reply": "2022-11-11T08:59:02.755298Z"
    },
    "papermill": {
     "duration": 1.067587,
     "end_time": "2022-11-11T08:59:02.758643",
     "exception": false,
     "start_time": "2022-11-11T08:59:01.691056",
     "status": "completed"
    },
    "tags": []
   },
   "outputs": [],
   "source": [
    "from sklearn.model_selection import train_test_split\n",
    "features_train, features_test, targets_train, targets_test = train_test_split(features, targets, shuffle=True)\n"
   ]
  },
  {
   "cell_type": "code",
   "execution_count": 7,
   "id": "01244335",
   "metadata": {
    "execution": {
     "iopub.execute_input": "2022-11-11T08:59:02.769039Z",
     "iopub.status.busy": "2022-11-11T08:59:02.768122Z",
     "iopub.status.idle": "2022-11-11T08:59:02.905192Z",
     "shell.execute_reply": "2022-11-11T08:59:02.904036Z"
    },
    "papermill": {
     "duration": 0.146798,
     "end_time": "2022-11-11T08:59:02.909712",
     "exception": false,
     "start_time": "2022-11-11T08:59:02.762914",
     "status": "completed"
    },
    "tags": []
   },
   "outputs": [
    {
     "name": "stderr",
     "output_type": "stream",
     "text": [
      "/opt/conda/lib/python3.7/site-packages/sklearn/linear_model/_ridge.py:157: LinAlgWarning: Ill-conditioned matrix (rcond=1.82358e-19): result may not be accurate.\n",
      "  return linalg.solve(A, Xy, sym_pos=True, overwrite_a=True).T\n"
     ]
    },
    {
     "data": {
      "text/plain": [
       "Ridge()"
      ]
     },
     "execution_count": 7,
     "metadata": {},
     "output_type": "execute_result"
    }
   ],
   "source": [
    "from sklearn.linear_model import Ridge\n",
    "\n",
    "ridge = Ridge()\n",
    "ridge.fit(features_train, targets_train)"
   ]
  },
  {
   "cell_type": "code",
   "execution_count": 8,
   "id": "b58d5054",
   "metadata": {
    "execution": {
     "iopub.execute_input": "2022-11-11T08:59:02.929444Z",
     "iopub.status.busy": "2022-11-11T08:59:02.929098Z",
     "iopub.status.idle": "2022-11-11T08:59:02.957254Z",
     "shell.execute_reply": "2022-11-11T08:59:02.956203Z"
    },
    "papermill": {
     "duration": 0.043768,
     "end_time": "2022-11-11T08:59:02.959289",
     "exception": false,
     "start_time": "2022-11-11T08:59:02.915521",
     "status": "completed"
    },
    "tags": []
   },
   "outputs": [
    {
     "data": {
      "text/plain": [
       "(0.9338449273976692, 0.795420870752907)"
      ]
     },
     "execution_count": 8,
     "metadata": {},
     "output_type": "execute_result"
    }
   ],
   "source": [
    "(ridge.score(features_train, targets_train), ridge.score(features_test, targets_test))"
   ]
  },
  {
   "cell_type": "code",
   "execution_count": 9,
   "id": "d25a95c9",
   "metadata": {
    "execution": {
     "iopub.execute_input": "2022-11-11T08:59:02.972639Z",
     "iopub.status.busy": "2022-11-11T08:59:02.972026Z",
     "iopub.status.idle": "2022-11-11T08:59:03.087668Z",
     "shell.execute_reply": "2022-11-11T08:59:03.086025Z"
    },
    "papermill": {
     "duration": 0.124902,
     "end_time": "2022-11-11T08:59:03.090029",
     "exception": false,
     "start_time": "2022-11-11T08:59:02.965127",
     "status": "completed"
    },
    "tags": []
   },
   "outputs": [
    {
     "data": {
      "text/plain": [
       "(0.8836533337661728, 0.8564299719950629)"
      ]
     },
     "execution_count": 9,
     "metadata": {},
     "output_type": "execute_result"
    }
   ],
   "source": [
    "from sklearn.tree import DecisionTreeRegressor\n",
    "\n",
    "tree = DecisionTreeRegressor(max_depth=4)\n",
    "tree.fit(features_train, targets_train)\n",
    "(tree.score(features_train, targets_train), tree.score(features_test, targets_test))"
   ]
  },
  {
   "cell_type": "code",
   "execution_count": 10,
   "id": "038335bd",
   "metadata": {
    "execution": {
     "iopub.execute_input": "2022-11-11T08:59:03.104750Z",
     "iopub.status.busy": "2022-11-11T08:59:03.102686Z",
     "iopub.status.idle": "2022-11-11T08:59:04.395858Z",
     "shell.execute_reply": "2022-11-11T08:59:04.395275Z"
    },
    "papermill": {
     "duration": 1.302524,
     "end_time": "2022-11-11T08:59:04.397745",
     "exception": false,
     "start_time": "2022-11-11T08:59:03.095221",
     "status": "completed"
    },
    "tags": []
   },
   "outputs": [
    {
     "data": {
      "text/plain": [
       "[Text(0.3958333333333333, 0.9, 'X[12] <= 0.65\\nsquared_error = 105.889\\nsamples = 2203\\nvalue = 69.119'),\n",
       " Text(0.125, 0.7, 'X[1] <= 0.5\\nsquared_error = 57.162\\nsamples = 1621\\nvalue = 73.407'),\n",
       " Text(0.08333333333333333, 0.5, 'squared_error = 0.0\\nsamples = 7\\nvalue = 0.0'),\n",
       " Text(0.16666666666666666, 0.5, 'X[1] <= 160.0\\nsquared_error = 33.939\\nsamples = 1614\\nvalue = 73.725'),\n",
       " Text(0.08333333333333333, 0.3, 'X[17] <= 0.837\\nsquared_error = 19.868\\nsamples = 1122\\nvalue = 76.196'),\n",
       " Text(0.041666666666666664, 0.1, 'squared_error = 12.019\\nsamples = 827\\nvalue = 74.422'),\n",
       " Text(0.125, 0.1, 'squared_error = 8.291\\nsamples = 295\\nvalue = 81.172'),\n",
       " Text(0.25, 0.3, 'X[1] <= 230.0\\nsquared_error = 20.334\\nsamples = 492\\nvalue = 68.089'),\n",
       " Text(0.20833333333333334, 0.1, 'squared_error = 11.576\\nsamples = 373\\nvalue = 69.712'),\n",
       " Text(0.2916666666666667, 0.1, 'squared_error = 13.669\\nsamples = 119\\nvalue = 63.003'),\n",
       " Text(0.6666666666666666, 0.7, 'X[17] <= 0.527\\nsquared_error = 47.785\\nsamples = 582\\nvalue = 57.177'),\n",
       " Text(0.5, 0.5, 'X[12] <= 1.85\\nsquared_error = 32.228\\nsamples = 447\\nvalue = 55.187'),\n",
       " Text(0.4166666666666667, 0.3, 'X[2] <= 24.5\\nsquared_error = 23.765\\nsamples = 131\\nvalue = 59.718'),\n",
       " Text(0.375, 0.1, 'squared_error = 10.582\\nsamples = 72\\nvalue = 62.424'),\n",
       " Text(0.4583333333333333, 0.1, 'squared_error = 20.011\\nsamples = 59\\nvalue = 56.415'),\n",
       " Text(0.5833333333333334, 0.3, 'X[12] <= 11.95\\nsquared_error = 23.7\\nsamples = 316\\nvalue = 53.309'),\n",
       " Text(0.5416666666666666, 0.1, 'squared_error = 20.247\\nsamples = 260\\nvalue = 54.342'),\n",
       " Text(0.625, 0.1, 'squared_error = 11.79\\nsamples = 56\\nvalue = 48.514'),\n",
       " Text(0.8333333333333334, 0.5, 'X[12] <= 2.85\\nsquared_error = 42.782\\nsamples = 135\\nvalue = 63.765'),\n",
       " Text(0.75, 0.3, 'X[1] <= 214.5\\nsquared_error = 17.442\\nsamples = 70\\nvalue = 68.654'),\n",
       " Text(0.7083333333333334, 0.1, 'squared_error = 4.695\\nsamples = 42\\nvalue = 71.36'),\n",
       " Text(0.7916666666666666, 0.1, 'squared_error = 9.119\\nsamples = 28\\nvalue = 64.596'),\n",
       " Text(0.9166666666666666, 0.3, 'X[1] <= 331.0\\nsquared_error = 16.606\\nsamples = 65\\nvalue = 58.5'),\n",
       " Text(0.875, 0.1, 'squared_error = 4.003\\nsamples = 29\\nvalue = 61.852'),\n",
       " Text(0.9583333333333334, 0.1, 'squared_error = 10.419\\nsamples = 36\\nvalue = 55.8')]"
      ]
     },
     "execution_count": 10,
     "metadata": {},
     "output_type": "execute_result"
    },
    {
     "data": {
      "image/png": "[encoded data removed]",
      "text/plain": [
       "<Figure size 1440x1440 with 1 Axes>"
      ]
     },
     "metadata": {
      "needs_background": "light"
     },
     "output_type": "display_data"
    }
   ],
   "source": [
    "from sklearn.tree import plot_tree\n",
    "import matplotlib.pyplot as plt\n",
    "\n",
    "plt.figure(figsize=(20,20))\n",
    "plot_tree(tree)"
   ]
  },
  {
   "cell_type": "code",
   "execution_count": 11,
   "id": "0a2958b0",
   "metadata": {
    "execution": {
     "iopub.execute_input": "2022-11-11T08:59:04.410546Z",
     "iopub.status.busy": "2022-11-11T08:59:04.410246Z",
     "iopub.status.idle": "2022-11-11T08:59:07.563020Z",
     "shell.execute_reply": "2022-11-11T08:59:07.561721Z"
    },
    "papermill": {
     "duration": 3.161912,
     "end_time": "2022-11-11T08:59:07.565348",
     "exception": false,
     "start_time": "2022-11-11T08:59:04.403436",
     "status": "completed"
    },
    "tags": []
   },
   "outputs": [
    {
     "data": {
      "text/plain": [
       "(0.995866790248839, 0.9628308176992773)"
      ]
     },
     "execution_count": 11,
     "metadata": {},
     "output_type": "execute_result"
    }
   ],
   "source": [
    "from sklearn.ensemble import RandomForestRegressor\n",
    "\n",
    "forest = RandomForestRegressor(n_estimators=100)\n",
    "forest.fit(features_train, targets_train)\n",
    "(forest.score(features_train, targets_train), forest.score(features_test, targets_test))"
   ]
  },
  {
   "cell_type": "code",
   "execution_count": 12,
   "id": "19491332",
   "metadata": {
    "execution": {
     "iopub.execute_input": "2022-11-11T08:59:07.578494Z",
     "iopub.status.busy": "2022-11-11T08:59:07.578187Z",
     "iopub.status.idle": "2022-11-11T08:59:08.235180Z",
     "shell.execute_reply": "2022-11-11T08:59:08.234444Z"
    },
    "papermill": {
     "duration": 0.665917,
     "end_time": "2022-11-11T08:59:08.237134",
     "exception": false,
     "start_time": "2022-11-11T08:59:07.571217",
     "status": "completed"
    },
    "tags": []
   },
   "outputs": [
    {
     "data": {
      "text/plain": [
       "(-67324680.75334524, -211166257.03017733)"
      ]
     },
     "execution_count": 12,
     "metadata": {},
     "output_type": "execute_result"
    }
   ],
   "source": [
    "from sklearn.neural_network import MLPRegressor\n",
    "\n",
    "mlp = MLPRegressor()\n",
    "mlp.fit(features_train, targets_train)\n",
    "(mlp.score(features_train, targets_train), mlp.score(features_test, targets_test))"
   ]
  },
  {
   "cell_type": "code",
   "execution_count": 13,
   "id": "7f5a11c7",
   "metadata": {
    "execution": {
     "iopub.execute_input": "2022-11-11T08:59:08.255427Z",
     "iopub.status.busy": "2022-11-11T08:59:08.254299Z",
     "iopub.status.idle": "2022-11-11T08:59:08.260329Z",
     "shell.execute_reply": "2022-11-11T08:59:08.259628Z"
    },
    "papermill": {
     "duration": 0.019778,
     "end_time": "2022-11-11T08:59:08.264890",
     "exception": false,
     "start_time": "2022-11-11T08:59:08.245112",
     "status": "completed"
    },
    "tags": []
   },
   "outputs": [
    {
     "data": {
      "text/plain": [
       "(2203, 214)"
      ]
     },
     "execution_count": 13,
     "metadata": {},
     "output_type": "execute_result"
    }
   ],
   "source": [
    "features_train.shape"
   ]
  },
  {
   "cell_type": "code",
   "execution_count": 14,
   "id": "e6ff01b9",
   "metadata": {
    "execution": {
     "iopub.execute_input": "2022-11-11T08:59:08.282651Z",
     "iopub.status.busy": "2022-11-11T08:59:08.282333Z",
     "iopub.status.idle": "2022-11-11T08:59:14.812266Z",
     "shell.execute_reply": "2022-11-11T08:59:14.810470Z"
    },
    "papermill": {
     "duration": 6.541836,
     "end_time": "2022-11-11T08:59:14.814462",
     "exception": false,
     "start_time": "2022-11-11T08:59:08.272626",
     "status": "completed"
    },
    "tags": []
   },
   "outputs": [
    {
     "name": "stderr",
     "output_type": "stream",
     "text": [
      "2022-11-11 08:59:14.787676: I tensorflow/core/common_runtime/process_util.cc:146] Creating new thread pool with default inter op setting: 2. Tune using inter_op_parallelism_threads for best performance.\n"
     ]
    }
   ],
   "source": [
    "import tensorflow as tf\n",
    "from tensorflow.keras.models import Sequential\n",
    "\n",
    "features_train = (features_train - features_train.mean())/(features_train.std())\n",
    "features_test = (features_test - features_test.mean())/(features_test.std())\n",
    "\n",
    "features_train_tensor = tf.convert_to_tensor(features_train)\n",
    "features_test_tensor = tf.convert_to_tensor(features_test)\n",
    "targets_train_tensor = tf.convert_to_tensor(targets_train)\n",
    "targets_test_tensor = tf.convert_to_tensor(targets_test)\n",
    "\n",
    "\n"
   ]
  },
  {
   "cell_type": "code",
   "execution_count": 15,
   "id": "6dc3c04c",
   "metadata": {
    "execution": {
     "iopub.execute_input": "2022-11-11T08:59:14.828780Z",
     "iopub.status.busy": "2022-11-11T08:59:14.827842Z",
     "iopub.status.idle": "2022-11-11T08:59:22.344415Z",
     "shell.execute_reply": "2022-11-11T08:59:22.343132Z"
    },
    "papermill": {
     "duration": 7.525875,
     "end_time": "2022-11-11T08:59:22.346873",
     "exception": false,
     "start_time": "2022-11-11T08:59:14.820998",
     "status": "completed"
    },
    "tags": []
   },
   "outputs": [
    {
     "name": "stderr",
     "output_type": "stream",
     "text": [
      "2022-11-11 08:59:14.957281: I tensorflow/compiler/mlir/mlir_graph_optimization_pass.cc:185] None of the MLIR Optimization Passes are enabled (registered 2)\n"
     ]
    },
    {
     "name": "stdout",
     "output_type": "stream",
     "text": [
      "Epoch 1/10\n",
      "221/221 [==============================] - 1s 3ms/step - loss: nan - accuracy: 0.0032\n",
      "Epoch 2/10\n",
      "221/221 [==============================] - 1s 3ms/step - loss: nan - accuracy: 0.0032\n",
      "Epoch 3/10\n",
      "221/221 [==============================] - 1s 3ms/step - loss: nan - accuracy: 0.0032\n",
      "Epoch 4/10\n",
      "221/221 [==============================] - 1s 3ms/step - loss: nan - accuracy: 0.0032\n",
      "Epoch 5/10\n",
      "221/221 [==============================] - 1s 3ms/step - loss: nan - accuracy: 0.0032\n",
      "Epoch 6/10\n",
      "221/221 [==============================] - 1s 3ms/step - loss: nan - accuracy: 0.0032\n",
      "Epoch 7/10\n",
      "221/221 [==============================] - 1s 3ms/step - loss: nan - accuracy: 0.0032\n",
      "Epoch 8/10\n",
      "221/221 [==============================] - 1s 3ms/step - loss: nan - accuracy: 0.0032\n",
      "Epoch 9/10\n",
      "221/221 [==============================] - 1s 3ms/step - loss: nan - accuracy: 0.0032\n",
      "Epoch 10/10\n",
      "221/221 [==============================] - 1s 3ms/step - loss: nan - accuracy: 0.0032\n"
     ]
    },
    {
     "data": {
      "text/plain": [
       "<keras.callbacks.History at 0x7fcf0bfad350>"
      ]
     },
     "execution_count": 15,
     "metadata": {},
     "output_type": "execute_result"
    }
   ],
   "source": [
    "from tensorflow.keras.layers import Dense\n",
    "keras = Sequential([Dense(214, activation='sigmoid'),Dense(100, activation='sigmoid'), Dense(1, activation='sigmoid')])\n",
    "keras.compile(loss=tf.keras.losses.MeanSquaredError(), metrics=['accuracy'])\n",
    "keras.fit(x=features_train_tensor, y=targets_train_tensor, batch_size=10, epochs=10)"
   ]
  }
 ],
 "metadata": {
  "kernelspec": {
   "display_name": "Python 3",
   "language": "python",
   "name": "python3"
  },
  "language_info": {
   "codemirror_mode": {
    "name": "ipython",
    "version": 3
   },
   "file_extension": ".py",
   "mimetype": "text/x-python",
   "name": "python",
   "nbconvert_exporter": "python",
   "pygments_lexer": "ipython3",
   "version": "3.7.12"
  },
  "papermill": {
   "default_parameters": {},
   "duration": 32.022126,
   "end_time": "2022-11-11T08:59:25.941451",
   "environment_variables": {},
   "exception": null,
   "input_path": "__notebook__.ipynb",
   "output_path": "__notebook__.ipynb",
   "parameters": {},
   "start_time": "2022-11-11T08:58:53.919325",
   "version": "2.3.4"
  }
 },
 "nbformat": 4,
 "nbformat_minor": 5
}
