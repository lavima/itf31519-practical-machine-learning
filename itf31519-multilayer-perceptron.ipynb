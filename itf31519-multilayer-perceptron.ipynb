{
 "cells": [
  {
   "cell_type": "code",
   "execution_count": 1,
   "id": "d80f6314",
   "metadata": {
    "_cell_guid": "b1076dfc-b9ad-4769-8c92-a6c4dae69d19",
    "_uuid": "8f2839f25d086af736a60e9eeb907d3b93b6e0e5",
    "execution": {
     "iopub.execute_input": "2023-10-26T14:59:43.882231Z",
     "iopub.status.busy": "2023-10-26T14:59:43.881732Z",
     "iopub.status.idle": "2023-10-26T14:59:43.901738Z",
     "shell.execute_reply": "2023-10-26T14:59:43.900155Z"
    },
    "papermill": {
     "duration": 0.03124,
     "end_time": "2023-10-26T14:59:43.905055",
     "exception": false,
     "start_time": "2023-10-26T14:59:43.873815",
     "status": "completed"
    },
    "tags": []
   },
   "outputs": [
    {
     "name": "stdout",
     "output_type": "stream",
     "text": [
      "/kaggle/input/heart-failure-prediction/heart.csv\n"
     ]
    }
   ],
   "source": [
    "# This Python 3 environment comes with many helpful analytics libraries installed\n",
    "# It is defined by the kaggle/python Docker image: https://github.com/kaggle/docker-python\n",
    "# For example, here's several helpful packages to load\n",
    "\n",
    "import numpy as np # linear algebra\n",
    "import pandas as pd # data processing, CSV file I/O (e.g. pd.read_csv)\n",
    "\n",
    "# Input data files are available in the read-only \"../input/\" directory\n",
    "# For example, running this (by clicking run or pressing Shift+Enter) will list all files under the input directory\n",
    "\n",
    "import os\n",
    "for dirname, _, filenames in os.walk('/kaggle/input'):\n",
    "    for filename in filenames:\n",
    "        print(os.path.join(dirname, filename))\n",
    "\n",
    "# You can write up to 20GB to the current directory (/kaggle/working/) that gets preserved as output when you create a version using \"Save & Run All\" \n",
    "# You can also write temporary files to /kaggle/temp/, but they won't be saved outside of the current session"
   ]
  },
  {
   "cell_type": "code",
   "execution_count": 2,
   "id": "e39b345d",
   "metadata": {
    "execution": {
     "iopub.execute_input": "2023-10-26T14:59:43.917280Z",
     "iopub.status.busy": "2023-10-26T14:59:43.916798Z",
     "iopub.status.idle": "2023-10-26T14:59:43.971559Z",
     "shell.execute_reply": "2023-10-26T14:59:43.970182Z"
    },
    "papermill": {
     "duration": 0.064185,
     "end_time": "2023-10-26T14:59:43.974414",
     "exception": false,
     "start_time": "2023-10-26T14:59:43.910229",
     "status": "completed"
    },
    "tags": []
   },
   "outputs": [
    {
     "data": {
      "text/html": [
       "<div>\n",
       "<style scoped>\n",
       "    .dataframe tbody tr th:only-of-type {\n",
       "        vertical-align: middle;\n",
       "    }\n",
       "\n",
       "    .dataframe tbody tr th {\n",
       "        vertical-align: top;\n",
       "    }\n",
       "\n",
       "    .dataframe thead th {\n",
       "        text-align: right;\n",
       "    }\n",
       "</style>\n",
       "<table border=\"1\" class=\"dataframe\">\n",
       "  <thead>\n",
       "    <tr style=\"text-align: right;\">\n",
       "      <th></th>\n",
       "      <th>Age</th>\n",
       "      <th>Sex</th>\n",
       "      <th>ChestPainType</th>\n",
       "      <th>RestingBP</th>\n",
       "      <th>Cholesterol</th>\n",
       "      <th>FastingBS</th>\n",
       "      <th>RestingECG</th>\n",
       "      <th>MaxHR</th>\n",
       "      <th>ExerciseAngina</th>\n",
       "      <th>Oldpeak</th>\n",
       "      <th>ST_Slope</th>\n",
       "      <th>HeartDisease</th>\n",
       "    </tr>\n",
       "  </thead>\n",
       "  <tbody>\n",
       "    <tr>\n",
       "      <th>0</th>\n",
       "      <td>40</td>\n",
       "      <td>M</td>\n",
       "      <td>ATA</td>\n",
       "      <td>140</td>\n",
       "      <td>289</td>\n",
       "      <td>0</td>\n",
       "      <td>Normal</td>\n",
       "      <td>172</td>\n",
       "      <td>N</td>\n",
       "      <td>0.0</td>\n",
       "      <td>Up</td>\n",
       "      <td>0</td>\n",
       "    </tr>\n",
       "    <tr>\n",
       "      <th>1</th>\n",
       "      <td>49</td>\n",
       "      <td>F</td>\n",
       "      <td>NAP</td>\n",
       "      <td>160</td>\n",
       "      <td>180</td>\n",
       "      <td>0</td>\n",
       "      <td>Normal</td>\n",
       "      <td>156</td>\n",
       "      <td>N</td>\n",
       "      <td>1.0</td>\n",
       "      <td>Flat</td>\n",
       "      <td>1</td>\n",
       "    </tr>\n",
       "    <tr>\n",
       "      <th>2</th>\n",
       "      <td>37</td>\n",
       "      <td>M</td>\n",
       "      <td>ATA</td>\n",
       "      <td>130</td>\n",
       "      <td>283</td>\n",
       "      <td>0</td>\n",
       "      <td>ST</td>\n",
       "      <td>98</td>\n",
       "      <td>N</td>\n",
       "      <td>0.0</td>\n",
       "      <td>Up</td>\n",
       "      <td>0</td>\n",
       "    </tr>\n",
       "    <tr>\n",
       "      <th>3</th>\n",
       "      <td>48</td>\n",
       "      <td>F</td>\n",
       "      <td>ASY</td>\n",
       "      <td>138</td>\n",
       "      <td>214</td>\n",
       "      <td>0</td>\n",
       "      <td>Normal</td>\n",
       "      <td>108</td>\n",
       "      <td>Y</td>\n",
       "      <td>1.5</td>\n",
       "      <td>Flat</td>\n",
       "      <td>1</td>\n",
       "    </tr>\n",
       "    <tr>\n",
       "      <th>4</th>\n",
       "      <td>54</td>\n",
       "      <td>M</td>\n",
       "      <td>NAP</td>\n",
       "      <td>150</td>\n",
       "      <td>195</td>\n",
       "      <td>0</td>\n",
       "      <td>Normal</td>\n",
       "      <td>122</td>\n",
       "      <td>N</td>\n",
       "      <td>0.0</td>\n",
       "      <td>Up</td>\n",
       "      <td>0</td>\n",
       "    </tr>\n",
       "  </tbody>\n",
       "</table>\n",
       "</div>"
      ],
      "text/plain": [
       "   Age Sex ChestPainType  RestingBP  Cholesterol  FastingBS RestingECG  MaxHR  \\\n",
       "0   40   M           ATA        140          289          0     Normal    172   \n",
       "1   49   F           NAP        160          180          0     Normal    156   \n",
       "2   37   M           ATA        130          283          0         ST     98   \n",
       "3   48   F           ASY        138          214          0     Normal    108   \n",
       "4   54   M           NAP        150          195          0     Normal    122   \n",
       "\n",
       "  ExerciseAngina  Oldpeak ST_Slope  HeartDisease  \n",
       "0              N      0.0       Up             0  \n",
       "1              N      1.0     Flat             1  \n",
       "2              N      0.0       Up             0  \n",
       "3              Y      1.5     Flat             1  \n",
       "4              N      0.0       Up             0  "
      ]
     },
     "execution_count": 2,
     "metadata": {},
     "output_type": "execute_result"
    }
   ],
   "source": [
    "# Load our dataset\n",
    "dataset = pd.read_csv('/kaggle/input/heart-failure-prediction/heart.csv')\n",
    "dataset.head()"
   ]
  },
  {
   "cell_type": "code",
   "execution_count": 3,
   "id": "e9502cc8",
   "metadata": {
    "execution": {
     "iopub.execute_input": "2023-10-26T14:59:43.988035Z",
     "iopub.status.busy": "2023-10-26T14:59:43.986632Z",
     "iopub.status.idle": "2023-10-26T14:59:44.013948Z",
     "shell.execute_reply": "2023-10-26T14:59:44.012538Z"
    },
    "papermill": {
     "duration": 0.03732,
     "end_time": "2023-10-26T14:59:44.017022",
     "exception": false,
     "start_time": "2023-10-26T14:59:43.979702",
     "status": "completed"
    },
    "tags": []
   },
   "outputs": [
    {
     "data": {
      "text/html": [
       "<div>\n",
       "<style scoped>\n",
       "    .dataframe tbody tr th:only-of-type {\n",
       "        vertical-align: middle;\n",
       "    }\n",
       "\n",
       "    .dataframe tbody tr th {\n",
       "        vertical-align: top;\n",
       "    }\n",
       "\n",
       "    .dataframe thead th {\n",
       "        text-align: right;\n",
       "    }\n",
       "</style>\n",
       "<table border=\"1\" class=\"dataframe\">\n",
       "  <thead>\n",
       "    <tr style=\"text-align: right;\">\n",
       "      <th></th>\n",
       "      <th>0</th>\n",
       "      <th>1</th>\n",
       "    </tr>\n",
       "  </thead>\n",
       "  <tbody>\n",
       "    <tr>\n",
       "      <th>0</th>\n",
       "      <td>1</td>\n",
       "      <td>0</td>\n",
       "    </tr>\n",
       "    <tr>\n",
       "      <th>1</th>\n",
       "      <td>0</td>\n",
       "      <td>1</td>\n",
       "    </tr>\n",
       "    <tr>\n",
       "      <th>2</th>\n",
       "      <td>1</td>\n",
       "      <td>0</td>\n",
       "    </tr>\n",
       "    <tr>\n",
       "      <th>3</th>\n",
       "      <td>0</td>\n",
       "      <td>1</td>\n",
       "    </tr>\n",
       "    <tr>\n",
       "      <th>4</th>\n",
       "      <td>1</td>\n",
       "      <td>0</td>\n",
       "    </tr>\n",
       "  </tbody>\n",
       "</table>\n",
       "</div>"
      ],
      "text/plain": [
       "   0  1\n",
       "0  1  0\n",
       "1  0  1\n",
       "2  1  0\n",
       "3  0  1\n",
       "4  1  0"
      ]
     },
     "execution_count": 3,
     "metadata": {},
     "output_type": "execute_result"
    }
   ],
   "source": [
    "# Separate features from targets\n",
    "features = dataset.drop('HeartDisease',axis=1)\n",
    "targets = dataset['HeartDisease']\n",
    "\n",
    "# Encode our targets using one-hot encoding\n",
    "targets_onehot = pd.get_dummies(targets)\n",
    "targets_onehot.head()"
   ]
  },
  {
   "cell_type": "code",
   "execution_count": 4,
   "id": "45f1c722",
   "metadata": {
    "execution": {
     "iopub.execute_input": "2023-10-26T14:59:44.031406Z",
     "iopub.status.busy": "2023-10-26T14:59:44.029903Z",
     "iopub.status.idle": "2023-10-26T14:59:44.042847Z",
     "shell.execute_reply": "2023-10-26T14:59:44.041588Z"
    },
    "papermill": {
     "duration": 0.022927,
     "end_time": "2023-10-26T14:59:44.045766",
     "exception": false,
     "start_time": "2023-10-26T14:59:44.022839",
     "status": "completed"
    },
    "tags": []
   },
   "outputs": [
    {
     "data": {
      "text/plain": [
       "1    508\n",
       "0    410\n",
       "Name: HeartDisease, dtype: int64"
      ]
     },
     "execution_count": 4,
     "metadata": {},
     "output_type": "execute_result"
    }
   ],
   "source": [
    "targets.value_counts()"
   ]
  },
  {
   "cell_type": "code",
   "execution_count": 5,
   "id": "fd135a52",
   "metadata": {
    "execution": {
     "iopub.execute_input": "2023-10-26T14:59:44.059327Z",
     "iopub.status.busy": "2023-10-26T14:59:44.058871Z",
     "iopub.status.idle": "2023-10-26T14:59:44.076268Z",
     "shell.execute_reply": "2023-10-26T14:59:44.075028Z"
    },
    "papermill": {
     "duration": 0.027222,
     "end_time": "2023-10-26T14:59:44.078705",
     "exception": false,
     "start_time": "2023-10-26T14:59:44.051483",
     "status": "completed"
    },
    "tags": []
   },
   "outputs": [
    {
     "data": {
      "text/plain": [
       "(918, 20)"
      ]
     },
     "execution_count": 5,
     "metadata": {},
     "output_type": "execute_result"
    }
   ],
   "source": [
    "features_onehot = pd.get_dummies(features)\n",
    "features_onehot.shape"
   ]
  },
  {
   "cell_type": "code",
   "execution_count": 6,
   "id": "9f4ce78b",
   "metadata": {
    "execution": {
     "iopub.execute_input": "2023-10-26T14:59:44.093049Z",
     "iopub.status.busy": "2023-10-26T14:59:44.091949Z",
     "iopub.status.idle": "2023-10-26T14:59:44.115004Z",
     "shell.execute_reply": "2023-10-26T14:59:44.113286Z"
    },
    "papermill": {
     "duration": 0.033165,
     "end_time": "2023-10-26T14:59:44.117809",
     "exception": false,
     "start_time": "2023-10-26T14:59:44.084644",
     "status": "completed"
    },
    "tags": []
   },
   "outputs": [
    {
     "name": "stdout",
     "output_type": "stream",
     "text": [
      "<class 'pandas.core.frame.DataFrame'>\n",
      "RangeIndex: 918 entries, 0 to 917\n",
      "Data columns (total 20 columns):\n",
      " #   Column             Non-Null Count  Dtype  \n",
      "---  ------             --------------  -----  \n",
      " 0   Age                918 non-null    float32\n",
      " 1   RestingBP          918 non-null    float32\n",
      " 2   Cholesterol        918 non-null    float32\n",
      " 3   FastingBS          918 non-null    float32\n",
      " 4   MaxHR              918 non-null    float32\n",
      " 5   Oldpeak            918 non-null    float32\n",
      " 6   Sex_F              918 non-null    float32\n",
      " 7   Sex_M              918 non-null    float32\n",
      " 8   ChestPainType_ASY  918 non-null    float32\n",
      " 9   ChestPainType_ATA  918 non-null    float32\n",
      " 10  ChestPainType_NAP  918 non-null    float32\n",
      " 11  ChestPainType_TA   918 non-null    float32\n",
      " 12  RestingECG_LVH     918 non-null    float32\n",
      " 13  RestingECG_Normal  918 non-null    float32\n",
      " 14  RestingECG_ST      918 non-null    float32\n",
      " 15  ExerciseAngina_N   918 non-null    float32\n",
      " 16  ExerciseAngina_Y   918 non-null    float32\n",
      " 17  ST_Slope_Down      918 non-null    float32\n",
      " 18  ST_Slope_Flat      918 non-null    float32\n",
      " 19  ST_Slope_Up        918 non-null    float32\n",
      "dtypes: float32(20)\n",
      "memory usage: 71.8 KB\n"
     ]
    }
   ],
   "source": [
    "features_onehot = features_onehot.astype('float32')\n",
    "targets_onehot = targets_onehot.astype('float32')\n",
    "features_onehot.info()"
   ]
  },
  {
   "cell_type": "code",
   "execution_count": 7,
   "id": "de056909",
   "metadata": {
    "execution": {
     "iopub.execute_input": "2023-10-26T14:59:44.131913Z",
     "iopub.status.busy": "2023-10-26T14:59:44.131454Z",
     "iopub.status.idle": "2023-10-26T14:59:45.432603Z",
     "shell.execute_reply": "2023-10-26T14:59:45.431397Z"
    },
    "papermill": {
     "duration": 1.311844,
     "end_time": "2023-10-26T14:59:45.435752",
     "exception": false,
     "start_time": "2023-10-26T14:59:44.123908",
     "status": "completed"
    },
    "tags": []
   },
   "outputs": [],
   "source": [
    "from sklearn.model_selection import train_test_split\n",
    "\n",
    "train_features, test_features, train_targets, test_targets = train_test_split(features_onehot, targets_onehot, test_size=0.1, stratify=targets)"
   ]
  },
  {
   "cell_type": "code",
   "execution_count": 8,
   "id": "31d85817",
   "metadata": {
    "execution": {
     "iopub.execute_input": "2023-10-26T14:59:45.450643Z",
     "iopub.status.busy": "2023-10-26T14:59:45.449357Z",
     "iopub.status.idle": "2023-10-26T14:59:51.366171Z",
     "shell.execute_reply": "2023-10-26T14:59:51.364970Z"
    },
    "papermill": {
     "duration": 5.927621,
     "end_time": "2023-10-26T14:59:51.369421",
     "exception": false,
     "start_time": "2023-10-26T14:59:45.441800",
     "status": "completed"
    },
    "tags": []
   },
   "outputs": [
    {
     "data": {
      "text/plain": [
       "(92, 2)"
      ]
     },
     "execution_count": 8,
     "metadata": {},
     "output_type": "execute_result"
    }
   ],
   "source": [
    "import tensorflow as tf\n",
    "\n",
    "train_features_tensor = tf.convert_to_tensor(train_features)\n",
    "train_targets_tensor = tf.convert_to_tensor(train_targets)\n",
    "test_features_tensor = tf.convert_to_tensor(test_features)\n",
    "test_targets_tensor = tf.convert_to_tensor(test_targets)\n",
    "\n",
    "test_targets.shape"
   ]
  },
  {
   "cell_type": "code",
   "execution_count": 9,
   "id": "fe284f9c",
   "metadata": {
    "execution": {
     "iopub.execute_input": "2023-10-26T14:59:51.384922Z",
     "iopub.status.busy": "2023-10-26T14:59:51.383294Z",
     "iopub.status.idle": "2023-10-26T14:59:52.810535Z",
     "shell.execute_reply": "2023-10-26T14:59:52.809144Z"
    },
    "papermill": {
     "duration": 1.438321,
     "end_time": "2023-10-26T14:59:52.813778",
     "exception": false,
     "start_time": "2023-10-26T14:59:51.375457",
     "status": "completed"
    },
    "tags": []
   },
   "outputs": [],
   "source": [
    "\n",
    "from tensorflow.keras.models import Sequential\n",
    "from tensorflow.keras.layers import Dense\n",
    "\n",
    "model = Sequential([Dense(20,activation='sigmoid'), Dense(12,activation='sigmoid'), Dense(2,activation=\"sigmoid\")])\n",
    "model.compile(optimizer='adam',loss='categorical_crossentropy',metrics=['accuracy'])"
   ]
  },
  {
   "cell_type": "code",
   "execution_count": 10,
   "id": "678de25f",
   "metadata": {
    "execution": {
     "iopub.execute_input": "2023-10-26T14:59:52.828542Z",
     "iopub.status.busy": "2023-10-26T14:59:52.828035Z",
     "iopub.status.idle": "2023-10-26T14:59:54.402499Z",
     "shell.execute_reply": "2023-10-26T14:59:54.401440Z"
    },
    "papermill": {
     "duration": 1.585426,
     "end_time": "2023-10-26T14:59:54.405378",
     "exception": false,
     "start_time": "2023-10-26T14:59:52.819952",
     "status": "completed"
    },
    "tags": []
   },
   "outputs": [
    {
     "name": "stdout",
     "output_type": "stream",
     "text": [
      "Epoch 1/10\n",
      "35/35 [==============================] - 1s 2ms/step - loss: 0.6718 - accuracy: 0.5533\n",
      "Epoch 2/10\n",
      "35/35 [==============================] - 0s 2ms/step - loss: 0.6571 - accuracy: 0.5847\n",
      "Epoch 3/10\n",
      "35/35 [==============================] - 0s 2ms/step - loss: 0.6479 - accuracy: 0.5932\n",
      "Epoch 4/10\n",
      "35/35 [==============================] - 0s 2ms/step - loss: 0.6411 - accuracy: 0.6501\n",
      "Epoch 5/10\n",
      "35/35 [==============================] - 0s 2ms/step - loss: 0.6351 - accuracy: 0.6743\n",
      "Epoch 6/10\n",
      "35/35 [==============================] - 0s 2ms/step - loss: 0.6302 - accuracy: 0.6864\n",
      "Epoch 7/10\n",
      "35/35 [==============================] - 0s 2ms/step - loss: 0.6256 - accuracy: 0.6985\n",
      "Epoch 8/10\n",
      "35/35 [==============================] - 0s 2ms/step - loss: 0.6208 - accuracy: 0.6961\n",
      "Epoch 9/10\n",
      "35/35 [==============================] - 0s 2ms/step - loss: 0.6196 - accuracy: 0.7022\n",
      "Epoch 10/10\n",
      "35/35 [==============================] - 0s 2ms/step - loss: 0.6122 - accuracy: 0.7288\n"
     ]
    },
    {
     "data": {
      "text/plain": [
       "<keras.callbacks.History at 0x7eac47338490>"
      ]
     },
     "execution_count": 10,
     "metadata": {},
     "output_type": "execute_result"
    }
   ],
   "source": [
    "model.fit(train_features, train_targets, epochs=10, batch_size=24)"
   ]
  },
  {
   "cell_type": "code",
   "execution_count": 11,
   "id": "42c0a7f9",
   "metadata": {
    "execution": {
     "iopub.execute_input": "2023-10-26T14:59:54.426512Z",
     "iopub.status.busy": "2023-10-26T14:59:54.425308Z",
     "iopub.status.idle": "2023-10-26T14:59:54.729456Z",
     "shell.execute_reply": "2023-10-26T14:59:54.728291Z"
    },
    "papermill": {
     "duration": 0.317256,
     "end_time": "2023-10-26T14:59:54.731980",
     "exception": false,
     "start_time": "2023-10-26T14:59:54.414724",
     "status": "completed"
    },
    "tags": []
   },
   "outputs": [
    {
     "name": "stdout",
     "output_type": "stream",
     "text": [
      "3/3 [==============================] - 0s 3ms/step - loss: 0.5507 - accuracy: 0.7935\n"
     ]
    },
    {
     "data": {
      "text/plain": [
       "[0.5507282018661499, 0.79347825050354]"
      ]
     },
     "execution_count": 11,
     "metadata": {},
     "output_type": "execute_result"
    }
   ],
   "source": [
    "model.evaluate(test_features, test_targets)"
   ]
  }
 ],
 "metadata": {
  "kernelspec": {
   "display_name": "Python 3",
   "language": "python",
   "name": "python3"
  },
  "language_info": {
   "codemirror_mode": {
    "name": "ipython",
    "version": 3
   },
   "file_extension": ".py",
   "mimetype": "text/x-python",
   "name": "python",
   "nbconvert_exporter": "python",
   "pygments_lexer": "ipython3",
   "version": "3.7.12"
  },
  "papermill": {
   "default_parameters": {},
   "duration": 25.95168,
   "end_time": "2023-10-26T14:59:57.456922",
   "environment_variables": {},
   "exception": null,
   "input_path": "__notebook__.ipynb",
   "output_path": "__notebook__.ipynb",
   "parameters": {},
   "start_time": "2023-10-26T14:59:31.505242",
   "version": "2.3.4"
  }
 },
 "nbformat": 4,
 "nbformat_minor": 5
}
