{
 "cells": [
  {
   "cell_type": "code",
   "execution_count": 1,
   "id": "f260da70",
   "metadata": {
    "_cell_guid": "b1076dfc-b9ad-4769-8c92-a6c4dae69d19",
    "_uuid": "8f2839f25d086af736a60e9eeb907d3b93b6e0e5",
    "execution": {
     "iopub.execute_input": "2022-11-14T18:54:04.326421Z",
     "iopub.status.busy": "2022-11-14T18:54:04.325953Z",
     "iopub.status.idle": "2022-11-14T18:54:04.349035Z",
     "shell.execute_reply": "2022-11-14T18:54:04.347923Z"
    },
    "papermill": {
     "duration": 0.033389,
     "end_time": "2022-11-14T18:54:04.351850",
     "exception": false,
     "start_time": "2022-11-14T18:54:04.318461",
     "status": "completed"
    },
    "tags": []
   },
   "outputs": [
    {
     "name": "stdout",
     "output_type": "stream",
     "text": [
      "/kaggle/input/life-expectancy-who/Life Expectancy Data.csv\n"
     ]
    }
   ],
   "source": [
    "# This Python 3 environment comes with many helpful analytics libraries installed\n",
    "# It is defined by the kaggle/python Docker image: https://github.com/kaggle/docker-python\n",
    "# For example, here's several helpful packages to load\n",
    "\n",
    "import numpy as np # linear algebra\n",
    "import pandas as pd # data processing, CSV file I/O (e.g. pd.read_csv)\n",
    "\n",
    "# Input data files are available in the read-only \"../input/\" directory\n",
    "# For example, running this (by clicking run or pressing Shift+Enter) will list all files under the input directory\n",
    "\n",
    "import os\n",
    "for dirname, _, filenames in os.walk('/kaggle/input'):\n",
    "    for filename in filenames:\n",
    "        print(os.path.join(dirname, filename))\n",
    "\n",
    "# You can write up to 20GB to the current directory (/kaggle/working/) that gets preserved as output when you create a version using \"Save & Run All\" \n",
    "# You can also write temporary files to /kaggle/temp/, but they won't be saved outside of the current session"
   ]
  },
  {
   "cell_type": "code",
   "execution_count": 2,
   "id": "e3c1d760",
   "metadata": {
    "execution": {
     "iopub.execute_input": "2022-11-14T18:54:04.362527Z",
     "iopub.status.busy": "2022-11-14T18:54:04.362133Z",
     "iopub.status.idle": "2022-11-14T18:54:04.459182Z",
     "shell.execute_reply": "2022-11-14T18:54:04.457878Z"
    },
    "papermill": {
     "duration": 0.105135,
     "end_time": "2022-11-14T18:54:04.461633",
     "exception": false,
     "start_time": "2022-11-14T18:54:04.356498",
     "status": "completed"
    },
    "tags": []
   },
   "outputs": [
    {
     "data": {
      "text/plain": [
       "(2938, 22)"
      ]
     },
     "execution_count": 2,
     "metadata": {},
     "output_type": "execute_result"
    }
   ],
   "source": [
    "# Load our dataset\n",
    "dataset = pd.read_csv('/kaggle/input/life-expectancy-who/Life Expectancy Data.csv')\n",
    "# Show a simple statistical description\n",
    "dataset.describe()\n",
    "# Show the number of rows and columns/features\n",
    "dataset.shape"
   ]
  },
  {
   "cell_type": "code",
   "execution_count": 3,
   "id": "c4c81b13",
   "metadata": {
    "execution": {
     "iopub.execute_input": "2022-11-14T18:54:04.472054Z",
     "iopub.status.busy": "2022-11-14T18:54:04.471677Z",
     "iopub.status.idle": "2022-11-14T18:54:04.490062Z",
     "shell.execute_reply": "2022-11-14T18:54:04.488363Z"
    },
    "papermill": {
     "duration": 0.026069,
     "end_time": "2022-11-14T18:54:04.492369",
     "exception": false,
     "start_time": "2022-11-14T18:54:04.466300",
     "status": "completed"
    },
    "tags": []
   },
   "outputs": [
    {
     "name": "stdout",
     "output_type": "stream",
     "text": [
      "<class 'pandas.core.frame.DataFrame'>\n",
      "RangeIndex: 2938 entries, 0 to 2937\n",
      "Data columns (total 22 columns):\n",
      " #   Column                           Non-Null Count  Dtype  \n",
      "---  ------                           --------------  -----  \n",
      " 0   Country                          2938 non-null   object \n",
      " 1   Year                             2938 non-null   int64  \n",
      " 2   Status                           2938 non-null   object \n",
      " 3   Life expectancy                  2928 non-null   float64\n",
      " 4   Adult Mortality                  2928 non-null   float64\n",
      " 5   infant deaths                    2938 non-null   int64  \n",
      " 6   Alcohol                          2744 non-null   float64\n",
      " 7   percentage expenditure           2938 non-null   float64\n",
      " 8   Hepatitis B                      2385 non-null   float64\n",
      " 9   Measles                          2938 non-null   int64  \n",
      " 10   BMI                             2904 non-null   float64\n",
      " 11  under-five deaths                2938 non-null   int64  \n",
      " 12  Polio                            2919 non-null   float64\n",
      " 13  Total expenditure                2712 non-null   float64\n",
      " 14  Diphtheria                       2919 non-null   float64\n",
      " 15   HIV/AIDS                        2938 non-null   float64\n",
      " 16  GDP                              2490 non-null   float64\n",
      " 17  Population                       2286 non-null   float64\n",
      " 18   thinness  1-19 years            2904 non-null   float64\n",
      " 19   thinness 5-9 years              2904 non-null   float64\n",
      " 20  Income composition of resources  2771 non-null   float64\n",
      " 21  Schooling                        2775 non-null   float64\n",
      "dtypes: float64(16), int64(4), object(2)\n",
      "memory usage: 505.1+ KB\n"
     ]
    }
   ],
   "source": [
    "# Show the low-level type description of the frame\n",
    "dataset.info()"
   ]
  },
  {
   "cell_type": "code",
   "execution_count": 4,
   "id": "0a1d3e51",
   "metadata": {
    "execution": {
     "iopub.execute_input": "2022-11-14T18:54:04.503721Z",
     "iopub.status.busy": "2022-11-14T18:54:04.502738Z",
     "iopub.status.idle": "2022-11-14T18:54:04.511868Z",
     "shell.execute_reply": "2022-11-14T18:54:04.510802Z"
    },
    "papermill": {
     "duration": 0.017019,
     "end_time": "2022-11-14T18:54:04.514139",
     "exception": false,
     "start_time": "2022-11-14T18:54:04.497120",
     "status": "completed"
    },
    "tags": []
   },
   "outputs": [
    {
     "data": {
      "text/plain": [
       "Country                              0\n",
       "Year                                 0\n",
       "Status                               0\n",
       "Life expectancy                     10\n",
       "Adult Mortality                     10\n",
       "infant deaths                        0\n",
       "Alcohol                            194\n",
       "percentage expenditure               0\n",
       "Hepatitis B                        553\n",
       "Measles                              0\n",
       " BMI                                34\n",
       "under-five deaths                    0\n",
       "Polio                               19\n",
       "Total expenditure                  226\n",
       "Diphtheria                          19\n",
       " HIV/AIDS                            0\n",
       "GDP                                448\n",
       "Population                         652\n",
       " thinness  1-19 years               34\n",
       " thinness 5-9 years                 34\n",
       "Income composition of resources    167\n",
       "Schooling                          163\n",
       "dtype: int64"
      ]
     },
     "execution_count": 4,
     "metadata": {},
     "output_type": "execute_result"
    }
   ],
   "source": [
    "# Show the number of NaN\n",
    "dataset.isna().sum()"
   ]
  },
  {
   "cell_type": "code",
   "execution_count": 5,
   "id": "ce3983ed",
   "metadata": {
    "execution": {
     "iopub.execute_input": "2022-11-14T18:54:04.525488Z",
     "iopub.status.busy": "2022-11-14T18:54:04.525068Z",
     "iopub.status.idle": "2022-11-14T18:54:04.537612Z",
     "shell.execute_reply": "2022-11-14T18:54:04.536489Z"
    },
    "papermill": {
     "duration": 0.021279,
     "end_time": "2022-11-14T18:54:04.540231",
     "exception": false,
     "start_time": "2022-11-14T18:54:04.518952",
     "status": "completed"
    },
    "tags": []
   },
   "outputs": [
    {
     "data": {
      "text/plain": [
       "(1649, 22)"
      ]
     },
     "execution_count": 5,
     "metadata": {},
     "output_type": "execute_result"
    }
   ],
   "source": [
    "# This is the code we used in the workshop, but the check above to see the\n",
    "# number of NaNs show that this isn't a viable approach\n",
    "#dataset.fillna(0.0, inplace=True)\n",
    "\n",
    "# Drop all rows with NaNs\n",
    "dataset.dropna(axis=0, inplace=True)\n",
    "\n",
    "# Show the new number of rows after removing all NaNs\n",
    "dataset.shape"
   ]
  },
  {
   "cell_type": "code",
   "execution_count": 6,
   "id": "d26cd0f0",
   "metadata": {
    "execution": {
     "iopub.execute_input": "2022-11-14T18:54:04.552528Z",
     "iopub.status.busy": "2022-11-14T18:54:04.551472Z",
     "iopub.status.idle": "2022-11-14T18:54:04.605164Z",
     "shell.execute_reply": "2022-11-14T18:54:04.603948Z"
    },
    "papermill": {
     "duration": 0.062395,
     "end_time": "2022-11-14T18:54:04.607634",
     "exception": false,
     "start_time": "2022-11-14T18:54:04.545239",
     "status": "completed"
    },
    "tags": []
   },
   "outputs": [
    {
     "data": {
      "text/html": [
       "<div>\n",
       "<style scoped>\n",
       "    .dataframe tbody tr th:only-of-type {\n",
       "        vertical-align: middle;\n",
       "    }\n",
       "\n",
       "    .dataframe tbody tr th {\n",
       "        vertical-align: top;\n",
       "    }\n",
       "\n",
       "    .dataframe thead th {\n",
       "        text-align: right;\n",
       "    }\n",
       "</style>\n",
       "<table border=\"1\" class=\"dataframe\">\n",
       "  <thead>\n",
       "    <tr style=\"text-align: right;\">\n",
       "      <th></th>\n",
       "      <th>Year</th>\n",
       "      <th>Adult Mortality</th>\n",
       "      <th>infant deaths</th>\n",
       "      <th>Alcohol</th>\n",
       "      <th>percentage expenditure</th>\n",
       "      <th>Hepatitis B</th>\n",
       "      <th>Measles</th>\n",
       "      <th>BMI</th>\n",
       "      <th>under-five deaths</th>\n",
       "      <th>Polio</th>\n",
       "      <th>...</th>\n",
       "      <th>Country_Turkmenistan</th>\n",
       "      <th>Country_Uganda</th>\n",
       "      <th>Country_Ukraine</th>\n",
       "      <th>Country_Uruguay</th>\n",
       "      <th>Country_Uzbekistan</th>\n",
       "      <th>Country_Vanuatu</th>\n",
       "      <th>Country_Zambia</th>\n",
       "      <th>Country_Zimbabwe</th>\n",
       "      <th>Status_Developed</th>\n",
       "      <th>Status_Developing</th>\n",
       "    </tr>\n",
       "  </thead>\n",
       "  <tbody>\n",
       "    <tr>\n",
       "      <th>0</th>\n",
       "      <td>2015</td>\n",
       "      <td>263.0</td>\n",
       "      <td>62</td>\n",
       "      <td>0.01</td>\n",
       "      <td>71.279624</td>\n",
       "      <td>65.0</td>\n",
       "      <td>1154</td>\n",
       "      <td>19.1</td>\n",
       "      <td>83</td>\n",
       "      <td>6.0</td>\n",
       "      <td>...</td>\n",
       "      <td>0</td>\n",
       "      <td>0</td>\n",
       "      <td>0</td>\n",
       "      <td>0</td>\n",
       "      <td>0</td>\n",
       "      <td>0</td>\n",
       "      <td>0</td>\n",
       "      <td>0</td>\n",
       "      <td>0</td>\n",
       "      <td>1</td>\n",
       "    </tr>\n",
       "    <tr>\n",
       "      <th>1</th>\n",
       "      <td>2014</td>\n",
       "      <td>271.0</td>\n",
       "      <td>64</td>\n",
       "      <td>0.01</td>\n",
       "      <td>73.523582</td>\n",
       "      <td>62.0</td>\n",
       "      <td>492</td>\n",
       "      <td>18.6</td>\n",
       "      <td>86</td>\n",
       "      <td>58.0</td>\n",
       "      <td>...</td>\n",
       "      <td>0</td>\n",
       "      <td>0</td>\n",
       "      <td>0</td>\n",
       "      <td>0</td>\n",
       "      <td>0</td>\n",
       "      <td>0</td>\n",
       "      <td>0</td>\n",
       "      <td>0</td>\n",
       "      <td>0</td>\n",
       "      <td>1</td>\n",
       "    </tr>\n",
       "    <tr>\n",
       "      <th>2</th>\n",
       "      <td>2013</td>\n",
       "      <td>268.0</td>\n",
       "      <td>66</td>\n",
       "      <td>0.01</td>\n",
       "      <td>73.219243</td>\n",
       "      <td>64.0</td>\n",
       "      <td>430</td>\n",
       "      <td>18.1</td>\n",
       "      <td>89</td>\n",
       "      <td>62.0</td>\n",
       "      <td>...</td>\n",
       "      <td>0</td>\n",
       "      <td>0</td>\n",
       "      <td>0</td>\n",
       "      <td>0</td>\n",
       "      <td>0</td>\n",
       "      <td>0</td>\n",
       "      <td>0</td>\n",
       "      <td>0</td>\n",
       "      <td>0</td>\n",
       "      <td>1</td>\n",
       "    </tr>\n",
       "    <tr>\n",
       "      <th>3</th>\n",
       "      <td>2012</td>\n",
       "      <td>272.0</td>\n",
       "      <td>69</td>\n",
       "      <td>0.01</td>\n",
       "      <td>78.184215</td>\n",
       "      <td>67.0</td>\n",
       "      <td>2787</td>\n",
       "      <td>17.6</td>\n",
       "      <td>93</td>\n",
       "      <td>67.0</td>\n",
       "      <td>...</td>\n",
       "      <td>0</td>\n",
       "      <td>0</td>\n",
       "      <td>0</td>\n",
       "      <td>0</td>\n",
       "      <td>0</td>\n",
       "      <td>0</td>\n",
       "      <td>0</td>\n",
       "      <td>0</td>\n",
       "      <td>0</td>\n",
       "      <td>1</td>\n",
       "    </tr>\n",
       "    <tr>\n",
       "      <th>4</th>\n",
       "      <td>2011</td>\n",
       "      <td>275.0</td>\n",
       "      <td>71</td>\n",
       "      <td>0.01</td>\n",
       "      <td>7.097109</td>\n",
       "      <td>68.0</td>\n",
       "      <td>3013</td>\n",
       "      <td>17.2</td>\n",
       "      <td>97</td>\n",
       "      <td>68.0</td>\n",
       "      <td>...</td>\n",
       "      <td>0</td>\n",
       "      <td>0</td>\n",
       "      <td>0</td>\n",
       "      <td>0</td>\n",
       "      <td>0</td>\n",
       "      <td>0</td>\n",
       "      <td>0</td>\n",
       "      <td>0</td>\n",
       "      <td>0</td>\n",
       "      <td>1</td>\n",
       "    </tr>\n",
       "  </tbody>\n",
       "</table>\n",
       "<p>5 rows × 154 columns</p>\n",
       "</div>"
      ],
      "text/plain": [
       "   Year  Adult Mortality  infant deaths  Alcohol  percentage expenditure  \\\n",
       "0  2015            263.0             62     0.01               71.279624   \n",
       "1  2014            271.0             64     0.01               73.523582   \n",
       "2  2013            268.0             66     0.01               73.219243   \n",
       "3  2012            272.0             69     0.01               78.184215   \n",
       "4  2011            275.0             71     0.01                7.097109   \n",
       "\n",
       "   Hepatitis B  Measles    BMI   under-five deaths   Polio  ...  \\\n",
       "0         65.0      1154   19.1                  83    6.0  ...   \n",
       "1         62.0       492   18.6                  86   58.0  ...   \n",
       "2         64.0       430   18.1                  89   62.0  ...   \n",
       "3         67.0      2787   17.6                  93   67.0  ...   \n",
       "4         68.0      3013   17.2                  97   68.0  ...   \n",
       "\n",
       "   Country_Turkmenistan  Country_Uganda  Country_Ukraine  Country_Uruguay  \\\n",
       "0                     0               0                0                0   \n",
       "1                     0               0                0                0   \n",
       "2                     0               0                0                0   \n",
       "3                     0               0                0                0   \n",
       "4                     0               0                0                0   \n",
       "\n",
       "   Country_Uzbekistan  Country_Vanuatu  Country_Zambia  Country_Zimbabwe  \\\n",
       "0                   0                0               0                 0   \n",
       "1                   0                0               0                 0   \n",
       "2                   0                0               0                 0   \n",
       "3                   0                0               0                 0   \n",
       "4                   0                0               0                 0   \n",
       "\n",
       "   Status_Developed  Status_Developing  \n",
       "0                 0                  1  \n",
       "1                 0                  1  \n",
       "2                 0                  1  \n",
       "3                 0                  1  \n",
       "4                 0                  1  \n",
       "\n",
       "[5 rows x 154 columns]"
      ]
     },
     "execution_count": 6,
     "metadata": {},
     "output_type": "execute_result"
    }
   ],
   "source": [
    "# Encode the entire dataset (all features with object type) using one-hot encoding\n",
    "dataset_encoded = pd.get_dummies(dataset)\n",
    "\n",
    "# Show the keys of the encoded dataset. Note that the target feature has an extra space at the end\n",
    "dataset_encoded.keys()\n",
    "\n",
    "# Separate features from target\n",
    "features = dataset_encoded.drop('Life expectancy ', axis=1)\n",
    "targets = dataset_encoded['Life expectancy ']\n",
    "\n",
    "# Show the first features (encoded)\n",
    "features.head()"
   ]
  },
  {
   "cell_type": "code",
   "execution_count": 7,
   "id": "e39eb1e5",
   "metadata": {
    "execution": {
     "iopub.execute_input": "2022-11-14T18:54:04.620113Z",
     "iopub.status.busy": "2022-11-14T18:54:04.619124Z",
     "iopub.status.idle": "2022-11-14T18:54:05.654489Z",
     "shell.execute_reply": "2022-11-14T18:54:05.653496Z"
    },
    "papermill": {
     "duration": 1.044593,
     "end_time": "2022-11-14T18:54:05.657436",
     "exception": false,
     "start_time": "2022-11-14T18:54:04.612843",
     "status": "completed"
    },
    "tags": []
   },
   "outputs": [],
   "source": [
    "from sklearn.model_selection import train_test_split\n",
    "\n",
    "# Split the data into train and test (0.75/0.25 train/test). Shuffle the data\n",
    "features_train, features_test, targets_train, targets_test = train_test_split(features, targets, shuffle=True)"
   ]
  },
  {
   "cell_type": "code",
   "execution_count": 8,
   "id": "8837bce0",
   "metadata": {
    "execution": {
     "iopub.execute_input": "2022-11-14T18:54:05.669890Z",
     "iopub.status.busy": "2022-11-14T18:54:05.669460Z",
     "iopub.status.idle": "2022-11-14T18:54:05.787200Z",
     "shell.execute_reply": "2022-11-14T18:54:05.785512Z"
    },
    "papermill": {
     "duration": 0.129005,
     "end_time": "2022-11-14T18:54:05.791876",
     "exception": false,
     "start_time": "2022-11-14T18:54:05.662871",
     "status": "completed"
    },
    "tags": []
   },
   "outputs": [
    {
     "name": "stderr",
     "output_type": "stream",
     "text": [
      "/opt/conda/lib/python3.7/site-packages/sklearn/linear_model/_ridge.py:157: LinAlgWarning: Ill-conditioned matrix (rcond=9.61576e-20): result may not be accurate.\n",
      "  return linalg.solve(A, Xy, sym_pos=True, overwrite_a=True).T\n"
     ]
    },
    {
     "data": {
      "text/plain": [
       "Ridge()"
      ]
     },
     "execution_count": 8,
     "metadata": {},
     "output_type": "execute_result"
    }
   ],
   "source": [
    "from sklearn.linear_model import Ridge\n",
    "\n",
    "# Create a ridge regressor with default parameters and fit it to our data\n",
    "ridge = Ridge()\n",
    "ridge.fit(features_train, targets_train)"
   ]
  },
  {
   "cell_type": "code",
   "execution_count": 9,
   "id": "10f3ec03",
   "metadata": {
    "execution": {
     "iopub.execute_input": "2022-11-14T18:54:05.821135Z",
     "iopub.status.busy": "2022-11-14T18:54:05.820415Z",
     "iopub.status.idle": "2022-11-14T18:54:05.855537Z",
     "shell.execute_reply": "2022-11-14T18:54:05.853975Z"
    },
    "papermill": {
     "duration": 0.054977,
     "end_time": "2022-11-14T18:54:05.860507",
     "exception": false,
     "start_time": "2022-11-14T18:54:05.805530",
     "status": "completed"
    },
    "tags": []
   },
   "outputs": [
    {
     "data": {
      "text/plain": [
       "(0.9583720353814892, 0.9529836668223086)"
      ]
     },
     "execution_count": 9,
     "metadata": {},
     "output_type": "execute_result"
    }
   ],
   "source": [
    "# Show the R Squared score for both train and test data. Measures how much\n",
    "# of the variation in the dependent variable (the target) is explained by the\n",
    "# model (1.0 is the best score, but it can be negative if the mean of the dependent\n",
    "# variable better explains the variable than the model)\n",
    "(ridge.score(features_train, targets_train), ridge.score(features_test, targets_test))"
   ]
  },
  {
   "cell_type": "code",
   "execution_count": 10,
   "id": "160a04f8",
   "metadata": {
    "execution": {
     "iopub.execute_input": "2022-11-14T18:54:05.890599Z",
     "iopub.status.busy": "2022-11-14T18:54:05.889906Z",
     "iopub.status.idle": "2022-11-14T18:54:06.003370Z",
     "shell.execute_reply": "2022-11-14T18:54:06.001683Z"
    },
    "papermill": {
     "duration": 0.130994,
     "end_time": "2022-11-14T18:54:06.005718",
     "exception": false,
     "start_time": "2022-11-14T18:54:05.874724",
     "status": "completed"
    },
    "tags": []
   },
   "outputs": [
    {
     "data": {
      "text/plain": [
       "(0.8996662619410406, 0.8691801403594737)"
      ]
     },
     "execution_count": 10,
     "metadata": {},
     "output_type": "execute_result"
    }
   ],
   "source": [
    "from sklearn.tree import DecisionTreeRegressor\n",
    "\n",
    "# Create a decision tree regressor with max depth of 4 and fit it \n",
    "# to our data\n",
    "tree = DecisionTreeRegressor(max_depth=4)\n",
    "tree.fit(features_train, targets_train)\n",
    "\n",
    "# Show the R Squared (Coefficient of determination) on both train and test data\n",
    "(tree.score(features_train, targets_train), tree.score(features_test, targets_test))"
   ]
  },
  {
   "cell_type": "code",
   "execution_count": 11,
   "id": "de55887b",
   "metadata": {
    "execution": {
     "iopub.execute_input": "2022-11-14T18:54:06.019040Z",
     "iopub.status.busy": "2022-11-14T18:54:06.018174Z",
     "iopub.status.idle": "2022-11-14T18:54:07.865980Z",
     "shell.execute_reply": "2022-11-14T18:54:07.865132Z"
    },
    "papermill": {
     "duration": 1.858008,
     "end_time": "2022-11-14T18:54:07.869448",
     "exception": false,
     "start_time": "2022-11-14T18:54:06.011440",
     "status": "completed"
    },
    "tags": []
   },
   "outputs": [
    {
     "data": {
      "text/plain": [
       "[Text(0.5, 0.9, 'X[17] <= 0.544\\nsquared_error = 76.208\\nsamples = 1236\\nvalue = 69.328'),\n",
       " Text(0.25, 0.7, 'X[12] <= 1.65\\nsquared_error = 43.143\\nsamples = 345\\nvalue = 59.048'),\n",
       " Text(0.125, 0.5, 'X[1] <= 250.0\\nsquared_error = 18.482\\nsamples = 185\\nvalue = 63.323'),\n",
       " Text(0.0625, 0.3, 'X[18] <= 11.25\\nsquared_error = 10.137\\nsamples = 121\\nvalue = 65.345'),\n",
       " Text(0.03125, 0.1, 'squared_error = 7.305\\nsamples = 110\\nvalue = 64.849'),\n",
       " Text(0.09375, 0.1, 'squared_error = 11.354\\nsamples = 11\\nvalue = 70.309'),\n",
       " Text(0.1875, 0.3, 'X[10] <= 10.245\\nsquared_error = 11.911\\nsamples = 64\\nvalue = 59.5'),\n",
       " Text(0.15625, 0.1, 'squared_error = 6.678\\nsamples = 61\\nvalue = 60.021'),\n",
       " Text(0.21875, 0.1, 'squared_error = 0.427\\nsamples = 3\\nvalue = 48.9'),\n",
       " Text(0.375, 0.5, 'X[12] <= 16.25\\nsquared_error = 26.09\\nsamples = 160\\nvalue = 54.105'),\n",
       " Text(0.3125, 0.3, 'X[1] <= 351.0\\nsquared_error = 14.89\\nsamples = 128\\nvalue = 55.904'),\n",
       " Text(0.28125, 0.1, 'squared_error = 12.631\\nsamples = 69\\nvalue = 57.758'),\n",
       " Text(0.34375, 0.1, 'squared_error = 8.811\\nsamples = 59\\nvalue = 53.736'),\n",
       " Text(0.4375, 0.3, 'X[12] <= 22.0\\nsquared_error = 6.168\\nsamples = 32\\nvalue = 46.909'),\n",
       " Text(0.40625, 0.1, 'squared_error = 2.806\\nsamples = 6\\nvalue = 50.333'),\n",
       " Text(0.46875, 0.1, 'squared_error = 3.614\\nsamples = 26\\nvalue = 46.119'),\n",
       " Text(0.75, 0.7, 'X[17] <= 0.796\\nsquared_error = 32.254\\nsamples = 891\\nvalue = 73.308'),\n",
       " Text(0.625, 0.5, 'X[1] <= 216.5\\nsquared_error = 20.966\\nsamples = 691\\nvalue = 71.369'),\n",
       " Text(0.5625, 0.3, 'X[17] <= 0.699\\nsquared_error = 9.823\\nsamples = 572\\nvalue = 72.731'),\n",
       " Text(0.53125, 0.1, 'squared_error = 10.816\\nsamples = 289\\nvalue = 71.366'),\n",
       " Text(0.59375, 0.1, 'squared_error = 4.965\\nsamples = 283\\nvalue = 74.124'),\n",
       " Text(0.6875, 0.3, 'X[1] <= 382.0\\nsquared_error = 22.775\\nsamples = 119\\nvalue = 64.824'),\n",
       " Text(0.65625, 0.1, 'squared_error = 6.639\\nsamples = 103\\nvalue = 66.381'),\n",
       " Text(0.71875, 0.1, 'squared_error = 10.571\\nsamples = 16\\nvalue = 54.8'),\n",
       " Text(0.875, 0.5, 'X[15] <= 1.85\\nsquared_error = 13.394\\nsamples = 200\\nvalue = 80.006'),\n",
       " Text(0.8125, 0.3, 'X[17] <= 0.856\\nsquared_error = 8.452\\nsamples = 166\\nvalue = 81.104'),\n",
       " Text(0.78125, 0.1, 'squared_error = 6.997\\nsamples = 69\\nvalue = 79.671'),\n",
       " Text(0.84375, 0.1, 'squared_error = 6.989\\nsamples = 97\\nvalue = 82.123'),\n",
       " Text(0.9375, 0.3, 'X[3] <= 13.0\\nsquared_error = 2.955\\nsamples = 34\\nvalue = 74.65'),\n",
       " Text(0.90625, 0.1, 'squared_error = 2.249\\nsamples = 24\\nvalue = 75.292'),\n",
       " Text(0.96875, 0.1, 'squared_error = 1.289\\nsamples = 10\\nvalue = 73.11')]"
      ]
     },
     "execution_count": 11,
     "metadata": {},
     "output_type": "execute_result"
    },
    {
     "data": {
      "image/png": "[encoded data removed]",
      "text/plain": [
       "<Figure size 1440x1440 with 1 Axes>"
      ]
     },
     "metadata": {
      "needs_background": "light"
     },
     "output_type": "display_data"
    }
   ],
   "source": [
    "from sklearn.tree import plot_tree\n",
    "import matplotlib.pyplot as plt\n",
    "\n",
    "# Show the decision tree\n",
    "plt.figure(figsize=(20,20))\n",
    "plot_tree(tree)"
   ]
  },
  {
   "cell_type": "code",
   "execution_count": 12,
   "id": "74fde3b1",
   "metadata": {
    "execution": {
     "iopub.execute_input": "2022-11-14T18:54:07.886208Z",
     "iopub.status.busy": "2022-11-14T18:54:07.885092Z",
     "iopub.status.idle": "2022-11-14T18:54:09.682912Z",
     "shell.execute_reply": "2022-11-14T18:54:09.681829Z"
    },
    "papermill": {
     "duration": 1.808681,
     "end_time": "2022-11-14T18:54:09.685205",
     "exception": false,
     "start_time": "2022-11-14T18:54:07.876524",
     "status": "completed"
    },
    "tags": []
   },
   "outputs": [
    {
     "data": {
      "text/plain": [
       "(0.9937351613111537, 0.9582630392877349)"
      ]
     },
     "execution_count": 12,
     "metadata": {},
     "output_type": "execute_result"
    }
   ],
   "source": [
    "from sklearn.ensemble import RandomForestRegressor\n",
    "\n",
    "# Create a random forest regressor with 100 trees and fit it to our data\n",
    "forest = RandomForestRegressor(n_estimators=100)\n",
    "forest.fit(features_train, targets_train)\n",
    "\n",
    "# Show the R Squared (Coefficient of determination) on both train and test data\n",
    "(forest.score(features_train, targets_train), forest.score(features_test, targets_test))"
   ]
  },
  {
   "cell_type": "code",
   "execution_count": 13,
   "id": "81451a92",
   "metadata": {
    "execution": {
     "iopub.execute_input": "2022-11-14T18:54:09.700583Z",
     "iopub.status.busy": "2022-11-14T18:54:09.700197Z",
     "iopub.status.idle": "2022-11-14T18:54:13.039378Z",
     "shell.execute_reply": "2022-11-14T18:54:13.037539Z"
    },
    "papermill": {
     "duration": 3.355015,
     "end_time": "2022-11-14T18:54:13.047273",
     "exception": false,
     "start_time": "2022-11-14T18:54:09.692258",
     "status": "completed"
    },
    "tags": []
   },
   "outputs": [
    {
     "name": "stderr",
     "output_type": "stream",
     "text": [
      "/opt/conda/lib/python3.7/site-packages/sklearn/neural_network/_multilayer_perceptron.py:696: ConvergenceWarning: Stochastic Optimizer: Maximum iterations (200) reached and the optimization hasn't converged yet.\n",
      "  ConvergenceWarning,\n"
     ]
    },
    {
     "data": {
      "text/plain": [
       "(0.9502836755106898, 0.920410774110845)"
      ]
     },
     "execution_count": 13,
     "metadata": {},
     "output_type": "execute_result"
    }
   ],
   "source": [
    "from sklearn.neural_network import MLPRegressor\n",
    "from sklearn.preprocessing import StandardScaler\n",
    "from sklearn.pipeline import make_pipeline\n",
    "\n",
    "# Create a pipeline with mean scaling and a Multilayer Perceptron with default\n",
    "# parameters. The normalization is essential for the regressor to work\n",
    "mlp = make_pipeline(StandardScaler(),MLPRegressor())\n",
    "mlp.fit(features_train, targets_train)\n",
    "\n",
    "# Show the R Squared (Coefficient of determination) on both train and test data\n",
    "(mlp.score(features_train, targets_train), mlp.score(features_test, targets_test))"
   ]
  },
  {
   "cell_type": "code",
   "execution_count": 14,
   "id": "3764961f",
   "metadata": {
    "execution": {
     "iopub.execute_input": "2022-11-14T18:54:13.085270Z",
     "iopub.status.busy": "2022-11-14T18:54:13.084525Z",
     "iopub.status.idle": "2022-11-14T18:54:13.102409Z",
     "shell.execute_reply": "2022-11-14T18:54:13.100863Z"
    },
    "papermill": {
     "duration": 0.042522,
     "end_time": "2022-11-14T18:54:13.107530",
     "exception": false,
     "start_time": "2022-11-14T18:54:13.065008",
     "status": "completed"
    },
    "tags": []
   },
   "outputs": [
    {
     "data": {
      "text/plain": [
       "(1236, 154)"
      ]
     },
     "execution_count": 14,
     "metadata": {},
     "output_type": "execute_result"
    }
   ],
   "source": [
    "# Show the number of rows and columns of our features to use\n",
    "# when creating our Keras NN\n",
    "features_train.shape"
   ]
  },
  {
   "cell_type": "code",
   "execution_count": 15,
   "id": "8e3497a5",
   "metadata": {
    "execution": {
     "iopub.execute_input": "2022-11-14T18:54:13.147193Z",
     "iopub.status.busy": "2022-11-14T18:54:13.146453Z",
     "iopub.status.idle": "2022-11-14T18:54:23.270777Z",
     "shell.execute_reply": "2022-11-14T18:54:23.269570Z"
    },
    "papermill": {
     "duration": 10.146127,
     "end_time": "2022-11-14T18:54:23.273101",
     "exception": false,
     "start_time": "2022-11-14T18:54:13.126974",
     "status": "completed"
    },
    "tags": []
   },
   "outputs": [
    {
     "name": "stderr",
     "output_type": "stream",
     "text": [
      "2022-11-14 18:54:19.169716: I tensorflow/core/common_runtime/process_util.cc:146] Creating new thread pool with default inter op setting: 2. Tune using inter_op_parallelism_threads for best performance.\n",
      "2022-11-14 18:54:19.284241: I tensorflow/compiler/mlir/mlir_graph_optimization_pass.cc:185] None of the MLIR Optimization Passes are enabled (registered 2)\n"
     ]
    },
    {
     "name": "stdout",
     "output_type": "stream",
     "text": [
      "Epoch 1/20\n",
      "39/39 [==============================] - 1s 2ms/step - loss: 2675.5625 - coeff_determination: -36.5063\n",
      "Epoch 2/20\n",
      "39/39 [==============================] - 0s 2ms/step - loss: 181.1484 - coeff_determination: -1.7723\n",
      "Epoch 3/20\n",
      "39/39 [==============================] - 0s 2ms/step - loss: 12.4187 - coeff_determination: 0.8181\n",
      "Epoch 4/20\n",
      "39/39 [==============================] - 0s 2ms/step - loss: 6.9561 - coeff_determination: 0.8986\n",
      "Epoch 5/20\n",
      "39/39 [==============================] - 0s 2ms/step - loss: 5.7511 - coeff_determination: 0.9141\n",
      "Epoch 6/20\n",
      "39/39 [==============================] - 0s 2ms/step - loss: 5.2128 - coeff_determination: 0.9278\n",
      "Epoch 7/20\n",
      "39/39 [==============================] - 0s 2ms/step - loss: 4.8901 - coeff_determination: 0.9282\n",
      "Epoch 8/20\n",
      "39/39 [==============================] - 0s 2ms/step - loss: 4.6226 - coeff_determination: 0.9330\n",
      "Epoch 9/20\n",
      "39/39 [==============================] - 0s 2ms/step - loss: 4.3386 - coeff_determination: 0.9379\n",
      "Epoch 10/20\n",
      "39/39 [==============================] - 0s 2ms/step - loss: 4.3703 - coeff_determination: 0.9360\n",
      "Epoch 11/20\n",
      "39/39 [==============================] - 0s 2ms/step - loss: 4.1506 - coeff_determination: 0.9399\n",
      "Epoch 12/20\n",
      "39/39 [==============================] - 0s 2ms/step - loss: 4.3434 - coeff_determination: 0.9373\n",
      "Epoch 13/20\n",
      "39/39 [==============================] - 0s 2ms/step - loss: 4.0025 - coeff_determination: 0.9405\n",
      "Epoch 14/20\n",
      "39/39 [==============================] - 0s 2ms/step - loss: 3.8462 - coeff_determination: 0.9461\n",
      "Epoch 15/20\n",
      "39/39 [==============================] - 0s 2ms/step - loss: 3.8312 - coeff_determination: 0.9459\n",
      "Epoch 16/20\n",
      "39/39 [==============================] - 0s 2ms/step - loss: 4.4252 - coeff_determination: 0.9314\n",
      "Epoch 17/20\n",
      "39/39 [==============================] - 0s 2ms/step - loss: 3.5299 - coeff_determination: 0.9481\n",
      "Epoch 18/20\n",
      "39/39 [==============================] - 0s 2ms/step - loss: 3.6910 - coeff_determination: 0.9459\n",
      "Epoch 19/20\n",
      "39/39 [==============================] - 0s 2ms/step - loss: 3.9053 - coeff_determination: 0.9435\n",
      "Epoch 20/20\n",
      "39/39 [==============================] - 0s 2ms/step - loss: 3.8441 - coeff_determination: 0.9449\n",
      "13/13 [==============================] - 0s 2ms/step - loss: 5.6644 - coeff_determination: 0.9263\n"
     ]
    },
    {
     "data": {
      "text/plain": [
       "[5.664446830749512, 0.9262592792510986]"
      ]
     },
     "execution_count": 15,
     "metadata": {},
     "output_type": "execute_result"
    }
   ],
   "source": [
    "import tensorflow.keras.backend as kb\n",
    "\n",
    "# Keras doesn't include R Squared metrics out of the box, so we have to create\n",
    "# our own.\n",
    "# This function is direct implementation of the equation \n",
    "# given in the lecture slides\n",
    "def coeff_determination(y_true, y_pred):\n",
    "    ss_res =  kb.sum(kb.square( y_true-y_pred ))\n",
    "    ss_tot = kb.sum(kb.square( y_true - kb.mean(y_true) ) ) \n",
    "    return ( 1 - ss_res/(ss_tot + kb.epsilon()) )\n",
    "\n",
    "import tensorflow as tf\n",
    "from tensorflow.keras.models import Sequential\n",
    "from tensorflow.keras.layers import Dense, Normalization\n",
    "\n",
    "# Create a normalization layer with the approprate input shape\n",
    "normalize = Normalization(input_shape=[154,])\n",
    "# Fit it to our training data. This is the same as happening in our \n",
    "# sklearn MLP regressor\n",
    "normalize.adapt(features_train)\n",
    "\n",
    "# Create our network. The top layer is the normilation layer, Then a fully connected layer with the same\n",
    "# input size. Then a fully connected hidden layer with 100 neurons. Finally, a single output neuron with \n",
    "# activation function\n",
    "keras = Sequential([normalize, Dense(154, activation='relu'),Dense(100, activation='relu'), Dense(1)])\n",
    "# Specify the loss function (MSE) and the metrics to use [R Squared]\n",
    "keras.compile(loss='mean_squared_error', metrics=[coeff_determination])\n",
    "# Train our network with 20 iterations through our dataset\n",
    "keras.fit(x=features_train, y=targets_train,epochs=20)\n",
    "\n",
    "# Evaluate the performance of the network on test data. This will print both MSE and R Squared\n",
    "keras.evaluate(x=features_test, y=targets_test,)"
   ]
  }
 ],
 "metadata": {
  "kernelspec": {
   "display_name": "Python 3",
   "language": "python",
   "name": "python3"
  },
  "language_info": {
   "codemirror_mode": {
    "name": "ipython",
    "version": 3
   },
   "file_extension": ".py",
   "mimetype": "text/x-python",
   "name": "python",
   "nbconvert_exporter": "python",
   "pygments_lexer": "ipython3",
   "version": "3.7.12"
  },
  "papermill": {
   "default_parameters": {},
   "duration": 31.833002,
   "end_time": "2022-11-14T18:54:26.483693",
   "environment_variables": {},
   "exception": null,
   "input_path": "__notebook__.ipynb",
   "output_path": "__notebook__.ipynb",
   "parameters": {},
   "start_time": "2022-11-14T18:53:54.650691",
   "version": "2.3.4"
  }
 },
 "nbformat": 4,
 "nbformat_minor": 5
}
