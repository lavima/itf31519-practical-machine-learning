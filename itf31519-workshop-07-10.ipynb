{
 "cells": [
  {
   "cell_type": "code",
   "execution_count": 1,
   "id": "1e7a09be",
   "metadata": {
    "_cell_guid": "b1076dfc-b9ad-4769-8c92-a6c4dae69d19",
    "_uuid": "8f2839f25d086af736a60e9eeb907d3b93b6e0e5",
    "execution": {
     "iopub.execute_input": "2022-10-08T12:42:22.433849Z",
     "iopub.status.busy": "2022-10-08T12:42:22.432750Z",
     "iopub.status.idle": "2022-10-08T12:42:22.453875Z",
     "shell.execute_reply": "2022-10-08T12:42:22.452665Z"
    },
    "papermill": {
     "duration": 0.031936,
     "end_time": "2022-10-08T12:42:22.456776",
     "exception": false,
     "start_time": "2022-10-08T12:42:22.424840",
     "status": "completed"
    },
    "tags": []
   },
   "outputs": [
    {
     "name": "stdout",
     "output_type": "stream",
     "text": [
      "/kaggle/input/red-wine-quality-cortez-et-al-2009/winequality-red.csv\n"
     ]
    }
   ],
   "source": [
    "# This Python 3 environment comes with many helpful analytics libraries installed\n",
    "# It is defined by the kaggle/python Docker image: https://github.com/kaggle/docker-python\n",
    "# For example, here's several helpful packages to load\n",
    "\n",
    "import numpy as np # linear algebra\n",
    "import pandas as pd # data processing, CSV file I/O (e.g. pd.read_csv)\n",
    "\n",
    "# Input data files are available in the read-only \"../input/\" directory\n",
    "# For example, running this (by clicking run or pressing Shift+Enter) will list all files under the input directory\n",
    "\n",
    "import os\n",
    "for dirname, _, filenames in os.walk('/kaggle/input'):\n",
    "    for filename in filenames:\n",
    "        print(os.path.join(dirname, filename))\n",
    "\n",
    "# You can write up to 20GB to the current directory (/kaggle/working/) that gets preserved as output when you create a version using \"Save & Run All\" \n",
    "# You can also write temporary files to /kaggle/temp/, but they won't be saved outside of the current session"
   ]
  },
  {
   "cell_type": "code",
   "execution_count": 2,
   "id": "03474ed6",
   "metadata": {
    "execution": {
     "iopub.execute_input": "2022-10-08T12:42:22.465829Z",
     "iopub.status.busy": "2022-10-08T12:42:22.464982Z",
     "iopub.status.idle": "2022-10-08T12:42:23.623549Z",
     "shell.execute_reply": "2022-10-08T12:42:23.622317Z"
    },
    "papermill": {
     "duration": 1.16592,
     "end_time": "2022-10-08T12:42:23.626231",
     "exception": false,
     "start_time": "2022-10-08T12:42:22.460311",
     "status": "completed"
    },
    "tags": []
   },
   "outputs": [],
   "source": [
    "# Load dataset\n",
    "dataset = pd.read_csv('/kaggle/input/red-wine-quality-cortez-et-al-2009/winequality-red.csv')\n",
    "\n",
    "\n",
    "from sklearn.model_selection import train_test_split\n",
    "\n",
    "# Split into training and test data (75/25)\n",
    "train_X, test_X, train_y, test_y = train_test_split(dataset.drop('quality', axis=1), dataset['quality'])\n"
   ]
  },
  {
   "cell_type": "code",
   "execution_count": 3,
   "id": "8cdeb04e",
   "metadata": {
    "execution": {
     "iopub.execute_input": "2022-10-08T12:42:23.634521Z",
     "iopub.status.busy": "2022-10-08T12:42:23.634088Z",
     "iopub.status.idle": "2022-10-08T12:43:34.937033Z",
     "shell.execute_reply": "2022-10-08T12:43:34.936113Z"
    },
    "papermill": {
     "duration": 71.312843,
     "end_time": "2022-10-08T12:43:34.942427",
     "exception": false,
     "start_time": "2022-10-08T12:42:23.629584",
     "status": "completed"
    },
    "tags": []
   },
   "outputs": [
    {
     "data": {
      "text/plain": [
       "GridSearchCV(estimator=GradientBoostingClassifier(),\n",
       "             param_grid={'learning_rate': [0.05, 0.1, 0.15],\n",
       "                         'n_estimators': [50, 100, 150]})"
      ]
     },
     "execution_count": 3,
     "metadata": {},
     "output_type": "execute_result"
    }
   ],
   "source": [
    "from sklearn.model_selection import GridSearchCV\n",
    "from sklearn.ensemble import GradientBoostingClassifier\n",
    "\n",
    "gb_param = {'learning_rate': [0.05, 0.1, 0.15], \n",
    "            'n_estimators': [50, 100, 150]}\n",
    "\n",
    "gb_grid = GridSearchCV(GradientBoostingClassifier(), gb_param)\n",
    "\n",
    "gb_grid.fit(train_X, train_y)"
   ]
  },
  {
   "cell_type": "code",
   "execution_count": 4,
   "id": "0d3b1c97",
   "metadata": {
    "execution": {
     "iopub.execute_input": "2022-10-08T12:43:34.951145Z",
     "iopub.status.busy": "2022-10-08T12:43:34.950536Z",
     "iopub.status.idle": "2022-10-08T12:43:34.981548Z",
     "shell.execute_reply": "2022-10-08T12:43:34.980401Z"
    },
    "papermill": {
     "duration": 0.038282,
     "end_time": "2022-10-08T12:43:34.984066",
     "exception": false,
     "start_time": "2022-10-08T12:43:34.945784",
     "status": "completed"
    },
    "tags": []
   },
   "outputs": [
    {
     "data": {
      "text/html": [
       "<div>\n",
       "<style scoped>\n",
       "    .dataframe tbody tr th:only-of-type {\n",
       "        vertical-align: middle;\n",
       "    }\n",
       "\n",
       "    .dataframe tbody tr th {\n",
       "        vertical-align: top;\n",
       "    }\n",
       "\n",
       "    .dataframe thead th {\n",
       "        text-align: right;\n",
       "    }\n",
       "</style>\n",
       "<table border=\"1\" class=\"dataframe\">\n",
       "  <thead>\n",
       "    <tr style=\"text-align: right;\">\n",
       "      <th></th>\n",
       "      <th>mean_fit_time</th>\n",
       "      <th>std_fit_time</th>\n",
       "      <th>mean_score_time</th>\n",
       "      <th>std_score_time</th>\n",
       "      <th>param_learning_rate</th>\n",
       "      <th>param_n_estimators</th>\n",
       "      <th>params</th>\n",
       "      <th>split0_test_score</th>\n",
       "      <th>split1_test_score</th>\n",
       "      <th>split2_test_score</th>\n",
       "      <th>split3_test_score</th>\n",
       "      <th>split4_test_score</th>\n",
       "      <th>mean_test_score</th>\n",
       "      <th>std_test_score</th>\n",
       "      <th>rank_test_score</th>\n",
       "    </tr>\n",
       "  </thead>\n",
       "  <tbody>\n",
       "    <tr>\n",
       "      <th>0</th>\n",
       "      <td>0.765184</td>\n",
       "      <td>0.013336</td>\n",
       "      <td>0.003754</td>\n",
       "      <td>0.000044</td>\n",
       "      <td>0.05</td>\n",
       "      <td>50</td>\n",
       "      <td>{'learning_rate': 0.05, 'n_estimators': 50}</td>\n",
       "      <td>0.629167</td>\n",
       "      <td>0.645833</td>\n",
       "      <td>0.604167</td>\n",
       "      <td>0.550000</td>\n",
       "      <td>0.619247</td>\n",
       "      <td>0.609683</td>\n",
       "      <td>0.032773</td>\n",
       "      <td>8</td>\n",
       "    </tr>\n",
       "    <tr>\n",
       "      <th>1</th>\n",
       "      <td>1.510462</td>\n",
       "      <td>0.006448</td>\n",
       "      <td>0.004861</td>\n",
       "      <td>0.000066</td>\n",
       "      <td>0.05</td>\n",
       "      <td>100</td>\n",
       "      <td>{'learning_rate': 0.05, 'n_estimators': 100}</td>\n",
       "      <td>0.633333</td>\n",
       "      <td>0.637500</td>\n",
       "      <td>0.579167</td>\n",
       "      <td>0.575000</td>\n",
       "      <td>0.606695</td>\n",
       "      <td>0.606339</td>\n",
       "      <td>0.026155</td>\n",
       "      <td>9</td>\n",
       "    </tr>\n",
       "    <tr>\n",
       "      <th>2</th>\n",
       "      <td>2.264960</td>\n",
       "      <td>0.008974</td>\n",
       "      <td>0.006103</td>\n",
       "      <td>0.000162</td>\n",
       "      <td>0.05</td>\n",
       "      <td>150</td>\n",
       "      <td>{'learning_rate': 0.05, 'n_estimators': 150}</td>\n",
       "      <td>0.645833</td>\n",
       "      <td>0.654167</td>\n",
       "      <td>0.587500</td>\n",
       "      <td>0.579167</td>\n",
       "      <td>0.606695</td>\n",
       "      <td>0.614672</td>\n",
       "      <td>0.030310</td>\n",
       "      <td>6</td>\n",
       "    </tr>\n",
       "    <tr>\n",
       "      <th>3</th>\n",
       "      <td>0.767624</td>\n",
       "      <td>0.015624</td>\n",
       "      <td>0.003623</td>\n",
       "      <td>0.000054</td>\n",
       "      <td>0.1</td>\n",
       "      <td>50</td>\n",
       "      <td>{'learning_rate': 0.1, 'n_estimators': 50}</td>\n",
       "      <td>0.658333</td>\n",
       "      <td>0.637500</td>\n",
       "      <td>0.575000</td>\n",
       "      <td>0.579167</td>\n",
       "      <td>0.602510</td>\n",
       "      <td>0.610502</td>\n",
       "      <td>0.032628</td>\n",
       "      <td>7</td>\n",
       "    </tr>\n",
       "    <tr>\n",
       "      <th>4</th>\n",
       "      <td>1.506898</td>\n",
       "      <td>0.006654</td>\n",
       "      <td>0.004810</td>\n",
       "      <td>0.000079</td>\n",
       "      <td>0.1</td>\n",
       "      <td>100</td>\n",
       "      <td>{'learning_rate': 0.1, 'n_estimators': 100}</td>\n",
       "      <td>0.641667</td>\n",
       "      <td>0.641667</td>\n",
       "      <td>0.595833</td>\n",
       "      <td>0.600000</td>\n",
       "      <td>0.627615</td>\n",
       "      <td>0.621356</td>\n",
       "      <td>0.019858</td>\n",
       "      <td>3</td>\n",
       "    </tr>\n",
       "    <tr>\n",
       "      <th>5</th>\n",
       "      <td>2.268805</td>\n",
       "      <td>0.010557</td>\n",
       "      <td>0.005987</td>\n",
       "      <td>0.000083</td>\n",
       "      <td>0.1</td>\n",
       "      <td>150</td>\n",
       "      <td>{'learning_rate': 0.1, 'n_estimators': 150}</td>\n",
       "      <td>0.658333</td>\n",
       "      <td>0.608333</td>\n",
       "      <td>0.620833</td>\n",
       "      <td>0.620833</td>\n",
       "      <td>0.644351</td>\n",
       "      <td>0.630537</td>\n",
       "      <td>0.018137</td>\n",
       "      <td>2</td>\n",
       "    </tr>\n",
       "    <tr>\n",
       "      <th>6</th>\n",
       "      <td>0.753912</td>\n",
       "      <td>0.001954</td>\n",
       "      <td>0.003631</td>\n",
       "      <td>0.000095</td>\n",
       "      <td>0.15</td>\n",
       "      <td>50</td>\n",
       "      <td>{'learning_rate': 0.15, 'n_estimators': 50}</td>\n",
       "      <td>0.654167</td>\n",
       "      <td>0.625000</td>\n",
       "      <td>0.587500</td>\n",
       "      <td>0.595833</td>\n",
       "      <td>0.610879</td>\n",
       "      <td>0.614676</td>\n",
       "      <td>0.023555</td>\n",
       "      <td>5</td>\n",
       "    </tr>\n",
       "    <tr>\n",
       "      <th>7</th>\n",
       "      <td>1.516934</td>\n",
       "      <td>0.019194</td>\n",
       "      <td>0.005181</td>\n",
       "      <td>0.000757</td>\n",
       "      <td>0.15</td>\n",
       "      <td>100</td>\n",
       "      <td>{'learning_rate': 0.15, 'n_estimators': 100}</td>\n",
       "      <td>0.637500</td>\n",
       "      <td>0.629167</td>\n",
       "      <td>0.579167</td>\n",
       "      <td>0.604167</td>\n",
       "      <td>0.644351</td>\n",
       "      <td>0.618870</td>\n",
       "      <td>0.024062</td>\n",
       "      <td>4</td>\n",
       "    </tr>\n",
       "    <tr>\n",
       "      <th>8</th>\n",
       "      <td>2.260840</td>\n",
       "      <td>0.008132</td>\n",
       "      <td>0.005988</td>\n",
       "      <td>0.000063</td>\n",
       "      <td>0.15</td>\n",
       "      <td>150</td>\n",
       "      <td>{'learning_rate': 0.15, 'n_estimators': 150}</td>\n",
       "      <td>0.675000</td>\n",
       "      <td>0.637500</td>\n",
       "      <td>0.608333</td>\n",
       "      <td>0.604167</td>\n",
       "      <td>0.648536</td>\n",
       "      <td>0.634707</td>\n",
       "      <td>0.026271</td>\n",
       "      <td>1</td>\n",
       "    </tr>\n",
       "  </tbody>\n",
       "</table>\n",
       "</div>"
      ],
      "text/plain": [
       "   mean_fit_time  std_fit_time  mean_score_time  std_score_time  \\\n",
       "0       0.765184      0.013336         0.003754        0.000044   \n",
       "1       1.510462      0.006448         0.004861        0.000066   \n",
       "2       2.264960      0.008974         0.006103        0.000162   \n",
       "3       0.767624      0.015624         0.003623        0.000054   \n",
       "4       1.506898      0.006654         0.004810        0.000079   \n",
       "5       2.268805      0.010557         0.005987        0.000083   \n",
       "6       0.753912      0.001954         0.003631        0.000095   \n",
       "7       1.516934      0.019194         0.005181        0.000757   \n",
       "8       2.260840      0.008132         0.005988        0.000063   \n",
       "\n",
       "  param_learning_rate param_n_estimators  \\\n",
       "0                0.05                 50   \n",
       "1                0.05                100   \n",
       "2                0.05                150   \n",
       "3                 0.1                 50   \n",
       "4                 0.1                100   \n",
       "5                 0.1                150   \n",
       "6                0.15                 50   \n",
       "7                0.15                100   \n",
       "8                0.15                150   \n",
       "\n",
       "                                         params  split0_test_score  \\\n",
       "0   {'learning_rate': 0.05, 'n_estimators': 50}           0.629167   \n",
       "1  {'learning_rate': 0.05, 'n_estimators': 100}           0.633333   \n",
       "2  {'learning_rate': 0.05, 'n_estimators': 150}           0.645833   \n",
       "3    {'learning_rate': 0.1, 'n_estimators': 50}           0.658333   \n",
       "4   {'learning_rate': 0.1, 'n_estimators': 100}           0.641667   \n",
       "5   {'learning_rate': 0.1, 'n_estimators': 150}           0.658333   \n",
       "6   {'learning_rate': 0.15, 'n_estimators': 50}           0.654167   \n",
       "7  {'learning_rate': 0.15, 'n_estimators': 100}           0.637500   \n",
       "8  {'learning_rate': 0.15, 'n_estimators': 150}           0.675000   \n",
       "\n",
       "   split1_test_score  split2_test_score  split3_test_score  split4_test_score  \\\n",
       "0           0.645833           0.604167           0.550000           0.619247   \n",
       "1           0.637500           0.579167           0.575000           0.606695   \n",
       "2           0.654167           0.587500           0.579167           0.606695   \n",
       "3           0.637500           0.575000           0.579167           0.602510   \n",
       "4           0.641667           0.595833           0.600000           0.627615   \n",
       "5           0.608333           0.620833           0.620833           0.644351   \n",
       "6           0.625000           0.587500           0.595833           0.610879   \n",
       "7           0.629167           0.579167           0.604167           0.644351   \n",
       "8           0.637500           0.608333           0.604167           0.648536   \n",
       "\n",
       "   mean_test_score  std_test_score  rank_test_score  \n",
       "0         0.609683        0.032773                8  \n",
       "1         0.606339        0.026155                9  \n",
       "2         0.614672        0.030310                6  \n",
       "3         0.610502        0.032628                7  \n",
       "4         0.621356        0.019858                3  \n",
       "5         0.630537        0.018137                2  \n",
       "6         0.614676        0.023555                5  \n",
       "7         0.618870        0.024062                4  \n",
       "8         0.634707        0.026271                1  "
      ]
     },
     "execution_count": 4,
     "metadata": {},
     "output_type": "execute_result"
    }
   ],
   "source": [
    "gb_results = pd.DataFrame(gb_grid.cv_results_)\n",
    "gb_results"
   ]
  },
  {
   "cell_type": "code",
   "execution_count": 5,
   "id": "ce6ccb39",
   "metadata": {
    "execution": {
     "iopub.execute_input": "2022-10-08T12:43:34.994064Z",
     "iopub.status.busy": "2022-10-08T12:43:34.993617Z",
     "iopub.status.idle": "2022-10-08T12:43:35.001342Z",
     "shell.execute_reply": "2022-10-08T12:43:35.000516Z"
    },
    "papermill": {
     "duration": 0.016009,
     "end_time": "2022-10-08T12:43:35.004069",
     "exception": false,
     "start_time": "2022-10-08T12:43:34.988060",
     "status": "completed"
    },
    "tags": []
   },
   "outputs": [
    {
     "data": {
      "text/plain": [
       "0    0.05\n",
       "1    0.05\n",
       "2    0.05\n",
       "3     0.1\n",
       "4     0.1\n",
       "5     0.1\n",
       "6    0.15\n",
       "7    0.15\n",
       "8    0.15\n",
       "Name: param_learning_rate, dtype: object"
      ]
     },
     "execution_count": 5,
     "metadata": {},
     "output_type": "execute_result"
    }
   ],
   "source": [
    "gb_results['param_learning_rate']"
   ]
  },
  {
   "cell_type": "code",
   "execution_count": 6,
   "id": "4eed415a",
   "metadata": {
    "execution": {
     "iopub.execute_input": "2022-10-08T12:43:35.013492Z",
     "iopub.status.busy": "2022-10-08T12:43:35.013082Z",
     "iopub.status.idle": "2022-10-08T12:43:35.021359Z",
     "shell.execute_reply": "2022-10-08T12:43:35.020191Z"
    },
    "papermill": {
     "duration": 0.01561,
     "end_time": "2022-10-08T12:43:35.023598",
     "exception": false,
     "start_time": "2022-10-08T12:43:35.007988",
     "status": "completed"
    },
    "tags": []
   },
   "outputs": [
    {
     "data": {
      "text/plain": [
       "0    0.609683\n",
       "1    0.606339\n",
       "2    0.614672\n",
       "3    0.610502\n",
       "4    0.621356\n",
       "5    0.630537\n",
       "6    0.614676\n",
       "7    0.618870\n",
       "8    0.634707\n",
       "Name: mean_test_score, dtype: float64"
      ]
     },
     "execution_count": 6,
     "metadata": {},
     "output_type": "execute_result"
    }
   ],
   "source": [
    "gb_results['mean_test_score']"
   ]
  },
  {
   "cell_type": "code",
   "execution_count": 7,
   "id": "6b996529",
   "metadata": {
    "execution": {
     "iopub.execute_input": "2022-10-08T12:43:35.034010Z",
     "iopub.status.busy": "2022-10-08T12:43:35.032937Z",
     "iopub.status.idle": "2022-10-08T12:43:35.281493Z",
     "shell.execute_reply": "2022-10-08T12:43:35.280241Z"
    },
    "papermill": {
     "duration": 0.256309,
     "end_time": "2022-10-08T12:43:35.283944",
     "exception": false,
     "start_time": "2022-10-08T12:43:35.027635",
     "status": "completed"
    },
    "tags": []
   },
   "outputs": [
    {
     "data": {
      "text/plain": [
       "<matplotlib.collections.PathCollection at 0x7f31c94604d0>"
      ]
     },
     "execution_count": 7,
     "metadata": {},
     "output_type": "execute_result"
    },
    {
     "data": {
      "image/png": "[encoded data removed]",
      "text/plain": [
       "<Figure size 432x288 with 1 Axes>"
      ]
     },
     "metadata": {
      "needs_background": "light"
     },
     "output_type": "display_data"
    }
   ],
   "source": [
    "import matplotlib.pyplot as plt\n",
    "\n",
    "plt.scatter(gb_results['param_learning_rate'], gb_results['mean_test_score'])"
   ]
  },
  {
   "cell_type": "code",
   "execution_count": 8,
   "id": "1f1a4192",
   "metadata": {
    "execution": {
     "iopub.execute_input": "2022-10-08T12:43:35.294526Z",
     "iopub.status.busy": "2022-10-08T12:43:35.294098Z",
     "iopub.status.idle": "2022-10-08T12:43:35.305245Z",
     "shell.execute_reply": "2022-10-08T12:43:35.304041Z"
    },
    "papermill": {
     "duration": 0.019347,
     "end_time": "2022-10-08T12:43:35.307737",
     "exception": false,
     "start_time": "2022-10-08T12:43:35.288390",
     "status": "completed"
    },
    "tags": []
   },
   "outputs": [
    {
     "data": {
      "text/plain": [
       "array([0.05000000000000001, 0.10000000000000002, 0.15], dtype=object)"
      ]
     },
     "execution_count": 8,
     "metadata": {},
     "output_type": "execute_result"
    }
   ],
   "source": [
    "mean_results = np.array_split(gb_results['mean_test_score'], 3)\n",
    "mean_results_averaged = np.average(mean_results, axis=1)\n",
    "\n",
    "x_values = np.average(np.array_split(gb_results['param_learning_rate'],3), axis=1)\n",
    "x_values"
   ]
  },
  {
   "cell_type": "code",
   "execution_count": 9,
   "id": "563cffd4",
   "metadata": {
    "execution": {
     "iopub.execute_input": "2022-10-08T12:43:35.319536Z",
     "iopub.status.busy": "2022-10-08T12:43:35.318523Z",
     "iopub.status.idle": "2022-10-08T12:43:35.515869Z",
     "shell.execute_reply": "2022-10-08T12:43:35.514617Z"
    },
    "papermill": {
     "duration": 0.206005,
     "end_time": "2022-10-08T12:43:35.518435",
     "exception": false,
     "start_time": "2022-10-08T12:43:35.312430",
     "status": "completed"
    },
    "tags": []
   },
   "outputs": [
    {
     "data": {
      "text/plain": [
       "[<matplotlib.lines.Line2D at 0x7f31c938b450>]"
      ]
     },
     "execution_count": 9,
     "metadata": {},
     "output_type": "execute_result"
    },
    {
     "data": {
      "image/png": "[encoded data removed]",
      "text/plain": [
       "<Figure size 432x288 with 1 Axes>"
      ]
     },
     "metadata": {
      "needs_background": "light"
     },
     "output_type": "display_data"
    }
   ],
   "source": [
    "plt.plot(x_values, mean_results_averaged)"
   ]
  }
 ],
 "metadata": {
  "kernelspec": {
   "display_name": "Python 3",
   "language": "python",
   "name": "python3"
  },
  "language_info": {
   "codemirror_mode": {
    "name": "ipython",
    "version": 3
   },
   "file_extension": ".py",
   "mimetype": "text/x-python",
   "name": "python",
   "nbconvert_exporter": "python",
   "pygments_lexer": "ipython3",
   "version": "3.7.12"
  },
  "papermill": {
   "default_parameters": {},
   "duration": 83.004083,
   "end_time": "2022-10-08T12:43:36.245228",
   "environment_variables": {},
   "exception": null,
   "input_path": "__notebook__.ipynb",
   "output_path": "__notebook__.ipynb",
   "parameters": {},
   "start_time": "2022-10-08T12:42:13.241145",
   "version": "2.3.4"
  }
 },
 "nbformat": 4,
 "nbformat_minor": 5
}
