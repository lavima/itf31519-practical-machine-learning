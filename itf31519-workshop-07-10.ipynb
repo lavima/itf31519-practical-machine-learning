{
 "cells": [
  {
   "cell_type": "code",
   "execution_count": 1,
   "id": "b6104541",
   "metadata": {
    "_cell_guid": "b1076dfc-b9ad-4769-8c92-a6c4dae69d19",
    "_uuid": "8f2839f25d086af736a60e9eeb907d3b93b6e0e5",
    "execution": {
     "iopub.execute_input": "2022-10-08T12:59:41.614865Z",
     "iopub.status.busy": "2022-10-08T12:59:41.613634Z",
     "iopub.status.idle": "2022-10-08T12:59:41.636597Z",
     "shell.execute_reply": "2022-10-08T12:59:41.635516Z"
    },
    "papermill": {
     "duration": 0.037026,
     "end_time": "2022-10-08T12:59:41.640520",
     "exception": false,
     "start_time": "2022-10-08T12:59:41.603494",
     "status": "completed"
    },
    "tags": []
   },
   "outputs": [
    {
     "name": "stdout",
     "output_type": "stream",
     "text": [
      "/kaggle/input/red-wine-quality-cortez-et-al-2009/winequality-red.csv\n"
     ]
    }
   ],
   "source": [
    "# This Python 3 environment comes with many helpful analytics libraries installed\n",
    "# It is defined by the kaggle/python Docker image: https://github.com/kaggle/docker-python\n",
    "# For example, here's several helpful packages to load\n",
    "\n",
    "import numpy as np # linear algebra\n",
    "import pandas as pd # data processing, CSV file I/O (e.g. pd.read_csv)\n",
    "\n",
    "# Input data files are available in the read-only \"../input/\" directory\n",
    "# For example, running this (by clicking run or pressing Shift+Enter) will list all files under the input directory\n",
    "\n",
    "import os\n",
    "for dirname, _, filenames in os.walk('/kaggle/input'):\n",
    "    for filename in filenames:\n",
    "        print(os.path.join(dirname, filename))\n",
    "\n",
    "# You can write up to 20GB to the current directory (/kaggle/working/) that gets preserved as output when you create a version using \"Save & Run All\" \n",
    "# You can also write temporary files to /kaggle/temp/, but they won't be saved outside of the current session"
   ]
  },
  {
   "cell_type": "code",
   "execution_count": 2,
   "id": "592b67a6",
   "metadata": {
    "execution": {
     "iopub.execute_input": "2022-10-08T12:59:41.650218Z",
     "iopub.status.busy": "2022-10-08T12:59:41.649372Z",
     "iopub.status.idle": "2022-10-08T12:59:42.920540Z",
     "shell.execute_reply": "2022-10-08T12:59:42.918887Z"
    },
    "papermill": {
     "duration": 1.279594,
     "end_time": "2022-10-08T12:59:42.923890",
     "exception": false,
     "start_time": "2022-10-08T12:59:41.644296",
     "status": "completed"
    },
    "tags": []
   },
   "outputs": [],
   "source": [
    "# Load dataset\n",
    "dataset = pd.read_csv('/kaggle/input/red-wine-quality-cortez-et-al-2009/winequality-red.csv')\n",
    "\n",
    "from sklearn.model_selection import train_test_split\n",
    "\n",
    "# Split into training and test data (75/25)\n",
    "train_X, test_X, train_y, test_y = train_test_split(dataset.drop('quality', axis=1), dataset['quality'])\n"
   ]
  },
  {
   "cell_type": "code",
   "execution_count": 3,
   "id": "0cff976f",
   "metadata": {
    "execution": {
     "iopub.execute_input": "2022-10-08T12:59:42.932932Z",
     "iopub.status.busy": "2022-10-08T12:59:42.932462Z",
     "iopub.status.idle": "2022-10-08T13:00:57.666051Z",
     "shell.execute_reply": "2022-10-08T13:00:57.664688Z"
    },
    "papermill": {
     "duration": 74.74221,
     "end_time": "2022-10-08T13:00:57.669842",
     "exception": false,
     "start_time": "2022-10-08T12:59:42.927632",
     "status": "completed"
    },
    "tags": []
   },
   "outputs": [
    {
     "data": {
      "text/plain": [
       "GridSearchCV(estimator=GradientBoostingClassifier(),\n",
       "             param_grid={'learning_rate': [0.05, 0.1, 0.15],\n",
       "                         'n_estimators': [50, 100, 150]})"
      ]
     },
     "execution_count": 3,
     "metadata": {},
     "output_type": "execute_result"
    }
   ],
   "source": [
    "from sklearn.model_selection import GridSearchCV\n",
    "from sklearn.ensemble import GradientBoostingClassifier\n",
    "\n",
    "# Create a dictionary with hyperparameter values we want to test\n",
    "gb_param = {'learning_rate': [0.05, 0.1, 0.15], # The \"size\" of each boosting step\n",
    "            'n_estimators': [50, 100, 150]} # The number of gradient boosted trees to include in the ensemble\n",
    "\n",
    "# Create an gridsearch object for finding the best hyperparameter values \n",
    "# for a gradient boosting classifier and fit (train) it on the training data\n",
    "gb_grid = GridSearchCV(GradientBoostingClassifier(), gb_param)\n",
    "gb_grid.fit(train_X, train_y)\n",
    "\n",
    "# IMPORTANT: gb_grid will in addition to performing the grid search to find the \n",
    "# best values also retrain a model using the best found values. This is controlled \n",
    "# the refit parameter in GridSearchCV. gb_grid can be use to score and predict using\n",
    "# the retrained model."
   ]
  },
  {
   "cell_type": "code",
   "execution_count": 4,
   "id": "d088ea00",
   "metadata": {
    "execution": {
     "iopub.execute_input": "2022-10-08T13:00:57.678181Z",
     "iopub.status.busy": "2022-10-08T13:00:57.677765Z",
     "iopub.status.idle": "2022-10-08T13:00:57.711764Z",
     "shell.execute_reply": "2022-10-08T13:00:57.710525Z"
    },
    "papermill": {
     "duration": 0.04128,
     "end_time": "2022-10-08T13:00:57.714395",
     "exception": false,
     "start_time": "2022-10-08T13:00:57.673115",
     "status": "completed"
    },
    "tags": []
   },
   "outputs": [
    {
     "data": {
      "text/html": [
       "<div>\n",
       "<style scoped>\n",
       "    .dataframe tbody tr th:only-of-type {\n",
       "        vertical-align: middle;\n",
       "    }\n",
       "\n",
       "    .dataframe tbody tr th {\n",
       "        vertical-align: top;\n",
       "    }\n",
       "\n",
       "    .dataframe thead th {\n",
       "        text-align: right;\n",
       "    }\n",
       "</style>\n",
       "<table border=\"1\" class=\"dataframe\">\n",
       "  <thead>\n",
       "    <tr style=\"text-align: right;\">\n",
       "      <th></th>\n",
       "      <th>mean_fit_time</th>\n",
       "      <th>std_fit_time</th>\n",
       "      <th>mean_score_time</th>\n",
       "      <th>std_score_time</th>\n",
       "      <th>param_learning_rate</th>\n",
       "      <th>param_n_estimators</th>\n",
       "      <th>params</th>\n",
       "      <th>split0_test_score</th>\n",
       "      <th>split1_test_score</th>\n",
       "      <th>split2_test_score</th>\n",
       "      <th>split3_test_score</th>\n",
       "      <th>split4_test_score</th>\n",
       "      <th>mean_test_score</th>\n",
       "      <th>std_test_score</th>\n",
       "      <th>rank_test_score</th>\n",
       "    </tr>\n",
       "  </thead>\n",
       "  <tbody>\n",
       "    <tr>\n",
       "      <th>0</th>\n",
       "      <td>0.797261</td>\n",
       "      <td>0.009916</td>\n",
       "      <td>0.003858</td>\n",
       "      <td>0.000200</td>\n",
       "      <td>0.05</td>\n",
       "      <td>50</td>\n",
       "      <td>{'learning_rate': 0.05, 'n_estimators': 50}</td>\n",
       "      <td>0.625000</td>\n",
       "      <td>0.612500</td>\n",
       "      <td>0.658333</td>\n",
       "      <td>0.629167</td>\n",
       "      <td>0.615063</td>\n",
       "      <td>0.628013</td>\n",
       "      <td>0.016359</td>\n",
       "      <td>9</td>\n",
       "    </tr>\n",
       "    <tr>\n",
       "      <th>1</th>\n",
       "      <td>1.582131</td>\n",
       "      <td>0.013031</td>\n",
       "      <td>0.005111</td>\n",
       "      <td>0.000163</td>\n",
       "      <td>0.05</td>\n",
       "      <td>100</td>\n",
       "      <td>{'learning_rate': 0.05, 'n_estimators': 100}</td>\n",
       "      <td>0.616667</td>\n",
       "      <td>0.641667</td>\n",
       "      <td>0.654167</td>\n",
       "      <td>0.620833</td>\n",
       "      <td>0.635983</td>\n",
       "      <td>0.633863</td>\n",
       "      <td>0.013734</td>\n",
       "      <td>7</td>\n",
       "    </tr>\n",
       "    <tr>\n",
       "      <th>2</th>\n",
       "      <td>2.379804</td>\n",
       "      <td>0.021927</td>\n",
       "      <td>0.006237</td>\n",
       "      <td>0.000168</td>\n",
       "      <td>0.05</td>\n",
       "      <td>150</td>\n",
       "      <td>{'learning_rate': 0.05, 'n_estimators': 150}</td>\n",
       "      <td>0.629167</td>\n",
       "      <td>0.658333</td>\n",
       "      <td>0.670833</td>\n",
       "      <td>0.620833</td>\n",
       "      <td>0.644351</td>\n",
       "      <td>0.644704</td>\n",
       "      <td>0.018329</td>\n",
       "      <td>4</td>\n",
       "    </tr>\n",
       "    <tr>\n",
       "      <th>3</th>\n",
       "      <td>0.791710</td>\n",
       "      <td>0.004415</td>\n",
       "      <td>0.004140</td>\n",
       "      <td>0.000082</td>\n",
       "      <td>0.1</td>\n",
       "      <td>50</td>\n",
       "      <td>{'learning_rate': 0.1, 'n_estimators': 50}</td>\n",
       "      <td>0.616667</td>\n",
       "      <td>0.629167</td>\n",
       "      <td>0.679167</td>\n",
       "      <td>0.612500</td>\n",
       "      <td>0.619247</td>\n",
       "      <td>0.631349</td>\n",
       "      <td>0.024530</td>\n",
       "      <td>8</td>\n",
       "    </tr>\n",
       "    <tr>\n",
       "      <th>4</th>\n",
       "      <td>1.599082</td>\n",
       "      <td>0.047434</td>\n",
       "      <td>0.005170</td>\n",
       "      <td>0.000212</td>\n",
       "      <td>0.1</td>\n",
       "      <td>100</td>\n",
       "      <td>{'learning_rate': 0.1, 'n_estimators': 100}</td>\n",
       "      <td>0.604167</td>\n",
       "      <td>0.666667</td>\n",
       "      <td>0.675000</td>\n",
       "      <td>0.650000</td>\n",
       "      <td>0.648536</td>\n",
       "      <td>0.648874</td>\n",
       "      <td>0.024492</td>\n",
       "      <td>2</td>\n",
       "    </tr>\n",
       "    <tr>\n",
       "      <th>5</th>\n",
       "      <td>2.372215</td>\n",
       "      <td>0.011596</td>\n",
       "      <td>0.006196</td>\n",
       "      <td>0.000162</td>\n",
       "      <td>0.1</td>\n",
       "      <td>150</td>\n",
       "      <td>{'learning_rate': 0.1, 'n_estimators': 150}</td>\n",
       "      <td>0.625000</td>\n",
       "      <td>0.650000</td>\n",
       "      <td>0.687500</td>\n",
       "      <td>0.645833</td>\n",
       "      <td>0.627615</td>\n",
       "      <td>0.647190</td>\n",
       "      <td>0.022406</td>\n",
       "      <td>3</td>\n",
       "    </tr>\n",
       "    <tr>\n",
       "      <th>6</th>\n",
       "      <td>0.791381</td>\n",
       "      <td>0.005593</td>\n",
       "      <td>0.004064</td>\n",
       "      <td>0.000309</td>\n",
       "      <td>0.15</td>\n",
       "      <td>50</td>\n",
       "      <td>{'learning_rate': 0.15, 'n_estimators': 50}</td>\n",
       "      <td>0.595833</td>\n",
       "      <td>0.641667</td>\n",
       "      <td>0.662500</td>\n",
       "      <td>0.629167</td>\n",
       "      <td>0.652720</td>\n",
       "      <td>0.636377</td>\n",
       "      <td>0.023123</td>\n",
       "      <td>6</td>\n",
       "    </tr>\n",
       "    <tr>\n",
       "      <th>7</th>\n",
       "      <td>1.586721</td>\n",
       "      <td>0.012847</td>\n",
       "      <td>0.005166</td>\n",
       "      <td>0.000104</td>\n",
       "      <td>0.15</td>\n",
       "      <td>100</td>\n",
       "      <td>{'learning_rate': 0.15, 'n_estimators': 100}</td>\n",
       "      <td>0.600000</td>\n",
       "      <td>0.666667</td>\n",
       "      <td>0.662500</td>\n",
       "      <td>0.637500</td>\n",
       "      <td>0.640167</td>\n",
       "      <td>0.641367</td>\n",
       "      <td>0.023725</td>\n",
       "      <td>5</td>\n",
       "    </tr>\n",
       "    <tr>\n",
       "      <th>8</th>\n",
       "      <td>2.384712</td>\n",
       "      <td>0.021987</td>\n",
       "      <td>0.006406</td>\n",
       "      <td>0.000152</td>\n",
       "      <td>0.15</td>\n",
       "      <td>150</td>\n",
       "      <td>{'learning_rate': 0.15, 'n_estimators': 150}</td>\n",
       "      <td>0.612500</td>\n",
       "      <td>0.633333</td>\n",
       "      <td>0.687500</td>\n",
       "      <td>0.637500</td>\n",
       "      <td>0.690377</td>\n",
       "      <td>0.652242</td>\n",
       "      <td>0.031150</td>\n",
       "      <td>1</td>\n",
       "    </tr>\n",
       "  </tbody>\n",
       "</table>\n",
       "</div>"
      ],
      "text/plain": [
       "   mean_fit_time  std_fit_time  mean_score_time  std_score_time  \\\n",
       "0       0.797261      0.009916         0.003858        0.000200   \n",
       "1       1.582131      0.013031         0.005111        0.000163   \n",
       "2       2.379804      0.021927         0.006237        0.000168   \n",
       "3       0.791710      0.004415         0.004140        0.000082   \n",
       "4       1.599082      0.047434         0.005170        0.000212   \n",
       "5       2.372215      0.011596         0.006196        0.000162   \n",
       "6       0.791381      0.005593         0.004064        0.000309   \n",
       "7       1.586721      0.012847         0.005166        0.000104   \n",
       "8       2.384712      0.021987         0.006406        0.000152   \n",
       "\n",
       "  param_learning_rate param_n_estimators  \\\n",
       "0                0.05                 50   \n",
       "1                0.05                100   \n",
       "2                0.05                150   \n",
       "3                 0.1                 50   \n",
       "4                 0.1                100   \n",
       "5                 0.1                150   \n",
       "6                0.15                 50   \n",
       "7                0.15                100   \n",
       "8                0.15                150   \n",
       "\n",
       "                                         params  split0_test_score  \\\n",
       "0   {'learning_rate': 0.05, 'n_estimators': 50}           0.625000   \n",
       "1  {'learning_rate': 0.05, 'n_estimators': 100}           0.616667   \n",
       "2  {'learning_rate': 0.05, 'n_estimators': 150}           0.629167   \n",
       "3    {'learning_rate': 0.1, 'n_estimators': 50}           0.616667   \n",
       "4   {'learning_rate': 0.1, 'n_estimators': 100}           0.604167   \n",
       "5   {'learning_rate': 0.1, 'n_estimators': 150}           0.625000   \n",
       "6   {'learning_rate': 0.15, 'n_estimators': 50}           0.595833   \n",
       "7  {'learning_rate': 0.15, 'n_estimators': 100}           0.600000   \n",
       "8  {'learning_rate': 0.15, 'n_estimators': 150}           0.612500   \n",
       "\n",
       "   split1_test_score  split2_test_score  split3_test_score  split4_test_score  \\\n",
       "0           0.612500           0.658333           0.629167           0.615063   \n",
       "1           0.641667           0.654167           0.620833           0.635983   \n",
       "2           0.658333           0.670833           0.620833           0.644351   \n",
       "3           0.629167           0.679167           0.612500           0.619247   \n",
       "4           0.666667           0.675000           0.650000           0.648536   \n",
       "5           0.650000           0.687500           0.645833           0.627615   \n",
       "6           0.641667           0.662500           0.629167           0.652720   \n",
       "7           0.666667           0.662500           0.637500           0.640167   \n",
       "8           0.633333           0.687500           0.637500           0.690377   \n",
       "\n",
       "   mean_test_score  std_test_score  rank_test_score  \n",
       "0         0.628013        0.016359                9  \n",
       "1         0.633863        0.013734                7  \n",
       "2         0.644704        0.018329                4  \n",
       "3         0.631349        0.024530                8  \n",
       "4         0.648874        0.024492                2  \n",
       "5         0.647190        0.022406                3  \n",
       "6         0.636377        0.023123                6  \n",
       "7         0.641367        0.023725                5  \n",
       "8         0.652242        0.031150                1  "
      ]
     },
     "execution_count": 4,
     "metadata": {},
     "output_type": "execute_result"
    }
   ],
   "source": [
    "# Fetch cross-validation results into a pandas dataframe\n",
    "gb_results = pd.DataFrame(gb_grid.cv_results_)\n",
    "gb_results"
   ]
  },
  {
   "cell_type": "code",
   "execution_count": 5,
   "id": "4abf45c8",
   "metadata": {
    "execution": {
     "iopub.execute_input": "2022-10-08T13:00:57.724819Z",
     "iopub.status.busy": "2022-10-08T13:00:57.723676Z",
     "iopub.status.idle": "2022-10-08T13:00:57.731440Z",
     "shell.execute_reply": "2022-10-08T13:00:57.730578Z"
    },
    "papermill": {
     "duration": 0.014905,
     "end_time": "2022-10-08T13:00:57.733484",
     "exception": false,
     "start_time": "2022-10-08T13:00:57.718579",
     "status": "completed"
    },
    "tags": []
   },
   "outputs": [
    {
     "data": {
      "text/plain": [
       "0    0.05\n",
       "1    0.05\n",
       "2    0.05\n",
       "3     0.1\n",
       "4     0.1\n",
       "5     0.1\n",
       "6    0.15\n",
       "7    0.15\n",
       "8    0.15\n",
       "Name: param_learning_rate, dtype: object"
      ]
     },
     "execution_count": 5,
     "metadata": {},
     "output_type": "execute_result"
    }
   ],
   "source": [
    "# For debug purposes. These values will be our x values in the plot\n",
    "gb_results['param_learning_rate']"
   ]
  },
  {
   "cell_type": "code",
   "execution_count": 6,
   "id": "3e6b857b",
   "metadata": {
    "execution": {
     "iopub.execute_input": "2022-10-08T13:00:57.743348Z",
     "iopub.status.busy": "2022-10-08T13:00:57.742937Z",
     "iopub.status.idle": "2022-10-08T13:00:57.751417Z",
     "shell.execute_reply": "2022-10-08T13:00:57.750199Z"
    },
    "papermill": {
     "duration": 0.016339,
     "end_time": "2022-10-08T13:00:57.753797",
     "exception": false,
     "start_time": "2022-10-08T13:00:57.737458",
     "status": "completed"
    },
    "tags": []
   },
   "outputs": [
    {
     "data": {
      "text/plain": [
       "0    0.628013\n",
       "1    0.633863\n",
       "2    0.644704\n",
       "3    0.631349\n",
       "4    0.648874\n",
       "5    0.647190\n",
       "6    0.636377\n",
       "7    0.641367\n",
       "8    0.652242\n",
       "Name: mean_test_score, dtype: float64"
      ]
     },
     "execution_count": 6,
     "metadata": {},
     "output_type": "execute_result"
    }
   ],
   "source": [
    "# For debug purposes. These values will be our y values in the plot\n",
    "gb_results['mean_test_score']"
   ]
  },
  {
   "cell_type": "code",
   "execution_count": 7,
   "id": "fc65a556",
   "metadata": {
    "execution": {
     "iopub.execute_input": "2022-10-08T13:00:57.763686Z",
     "iopub.status.busy": "2022-10-08T13:00:57.763251Z",
     "iopub.status.idle": "2022-10-08T13:00:57.980268Z",
     "shell.execute_reply": "2022-10-08T13:00:57.978964Z"
    },
    "papermill": {
     "duration": 0.22501,
     "end_time": "2022-10-08T13:00:57.982789",
     "exception": false,
     "start_time": "2022-10-08T13:00:57.757779",
     "status": "completed"
    },
    "tags": []
   },
   "outputs": [
    {
     "data": {
      "text/plain": [
       "<matplotlib.collections.PathCollection at 0x7f2df61124d0>"
      ]
     },
     "execution_count": 7,
     "metadata": {},
     "output_type": "execute_result"
    },
    {
     "data": {
      "image/png": "[encoded data removed]",
      "text/plain": [
       "<Figure size 432x288 with 1 Axes>"
      ]
     },
     "metadata": {
      "needs_background": "light"
     },
     "output_type": "display_data"
    }
   ],
   "source": [
    "import matplotlib.pyplot as plt\n",
    "\n",
    "# Plot the values directly\n",
    "plt.scatter(gb_results['param_learning_rate'], gb_results['mean_test_score'])"
   ]
  },
  {
   "cell_type": "code",
   "execution_count": 8,
   "id": "c33bc161",
   "metadata": {
    "execution": {
     "iopub.execute_input": "2022-10-08T13:00:57.993221Z",
     "iopub.status.busy": "2022-10-08T13:00:57.992794Z",
     "iopub.status.idle": "2022-10-08T13:00:58.004498Z",
     "shell.execute_reply": "2022-10-08T13:00:58.003025Z"
    },
    "papermill": {
     "duration": 0.019757,
     "end_time": "2022-10-08T13:00:58.006984",
     "exception": false,
     "start_time": "2022-10-08T13:00:57.987227",
     "status": "completed"
    },
    "tags": []
   },
   "outputs": [
    {
     "data": {
      "text/plain": [
       "array([0.05000000000000001, 0.10000000000000002, 0.15], dtype=object)"
      ]
     },
     "execution_count": 8,
     "metadata": {},
     "output_type": "execute_result"
    }
   ],
   "source": [
    "# Find the average for each value of the learning_rate hyperparameter. We \n",
    "# have three results for each learning rate\n",
    "mean_results = np.array_split(gb_results['mean_test_score'], 3)\n",
    "mean_results_averaged = np.average(mean_results, axis=1)\n",
    "\n",
    "# Do the same for the values themselves. We could alternatively select one of\n",
    "# each value\n",
    "x_values = np.average(np.array_split(gb_results['param_learning_rate'],3), axis=1)\n",
    "x_values"
   ]
  },
  {
   "cell_type": "code",
   "execution_count": 9,
   "id": "e4419f8b",
   "metadata": {
    "execution": {
     "iopub.execute_input": "2022-10-08T13:00:58.017858Z",
     "iopub.status.busy": "2022-10-08T13:00:58.017457Z",
     "iopub.status.idle": "2022-10-08T13:00:58.167438Z",
     "shell.execute_reply": "2022-10-08T13:00:58.166323Z"
    },
    "papermill": {
     "duration": 0.158346,
     "end_time": "2022-10-08T13:00:58.169998",
     "exception": false,
     "start_time": "2022-10-08T13:00:58.011652",
     "status": "completed"
    },
    "tags": []
   },
   "outputs": [
    {
     "data": {
      "text/plain": [
       "[<matplotlib.lines.Line2D at 0x7f2df3fb7690>]"
      ]
     },
     "execution_count": 9,
     "metadata": {},
     "output_type": "execute_result"
    },
    {
     "data": {
      "image/png": "[encoded data removed]",
      "text/plain": [
       "<Figure size 432x288 with 1 Axes>"
      ]
     },
     "metadata": {
      "needs_background": "light"
     },
     "output_type": "display_data"
    }
   ],
   "source": [
    "# Plot the average performance for each learning rate value tested\n",
    "plt.plot(x_values, mean_results_averaged)"
   ]
  }
 ],
 "metadata": {
  "kernelspec": {
   "display_name": "Python 3",
   "language": "python",
   "name": "python3"
  },
  "language_info": {
   "codemirror_mode": {
    "name": "ipython",
    "version": 3
   },
   "file_extension": ".py",
   "mimetype": "text/x-python",
   "name": "python",
   "nbconvert_exporter": "python",
   "pygments_lexer": "ipython3",
   "version": "3.7.12"
  },
  "papermill": {
   "default_parameters": {},
   "duration": 87.104391,
   "end_time": "2022-10-08T13:00:59.200740",
   "environment_variables": {},
   "exception": null,
   "input_path": "__notebook__.ipynb",
   "output_path": "__notebook__.ipynb",
   "parameters": {},
   "start_time": "2022-10-08T12:59:32.096349",
   "version": "2.3.4"
  }
 },
 "nbformat": 4,
 "nbformat_minor": 5
}
