{
 "cells": [
  {
   "cell_type": "code",
   "execution_count": 1,
   "id": "f8fec8e1",
   "metadata": {
    "_cell_guid": "b1076dfc-b9ad-4769-8c92-a6c4dae69d19",
    "_uuid": "8f2839f25d086af736a60e9eeb907d3b93b6e0e5",
    "execution": {
     "iopub.execute_input": "2022-11-02T09:00:12.783554Z",
     "iopub.status.busy": "2022-11-02T09:00:12.782590Z",
     "iopub.status.idle": "2022-11-02T09:00:12.802844Z",
     "shell.execute_reply": "2022-11-02T09:00:12.801723Z"
    },
    "papermill": {
     "duration": 0.029731,
     "end_time": "2022-11-02T09:00:12.805257",
     "exception": false,
     "start_time": "2022-11-02T09:00:12.775526",
     "status": "completed"
    },
    "tags": []
   },
   "outputs": [
    {
     "name": "stdout",
     "output_type": "stream",
     "text": [
      "/kaggle/input/heart-failure-prediction/heart.csv\n"
     ]
    }
   ],
   "source": [
    "# This Python 3 environment comes with many helpful analytics libraries installed\n",
    "# It is defined by the kaggle/python Docker image: https://github.com/kaggle/docker-python\n",
    "# For example, here's several helpful packages to load\n",
    "\n",
    "import numpy as np # linear algebra\n",
    "import pandas as pd # data processing, CSV file I/O (e.g. pd.read_csv)\n",
    "\n",
    "# Input data files are available in the read-only \"../input/\" directory\n",
    "# For example, running this (by clicking run or pressing Shift+Enter) will list all files under the input directory\n",
    "\n",
    "import os\n",
    "for dirname, _, filenames in os.walk('/kaggle/input'):\n",
    "    for filename in filenames:\n",
    "        print(os.path.join(dirname, filename))\n",
    "\n",
    "# You can write up to 20GB to the current directory (/kaggle/working/) that gets preserved as output when you create a version using \"Save & Run All\" \n",
    "# You can also write temporary files to /kaggle/temp/, but they won't be saved outside of the current session"
   ]
  },
  {
   "cell_type": "code",
   "execution_count": 2,
   "id": "de43c75f",
   "metadata": {
    "execution": {
     "iopub.execute_input": "2022-11-02T09:00:12.815250Z",
     "iopub.status.busy": "2022-11-02T09:00:12.814677Z",
     "iopub.status.idle": "2022-11-02T09:00:12.859106Z",
     "shell.execute_reply": "2022-11-02T09:00:12.858028Z"
    },
    "papermill": {
     "duration": 0.051719,
     "end_time": "2022-11-02T09:00:12.861443",
     "exception": false,
     "start_time": "2022-11-02T09:00:12.809724",
     "status": "completed"
    },
    "tags": []
   },
   "outputs": [
    {
     "data": {
      "text/html": [
       "<div>\n",
       "<style scoped>\n",
       "    .dataframe tbody tr th:only-of-type {\n",
       "        vertical-align: middle;\n",
       "    }\n",
       "\n",
       "    .dataframe tbody tr th {\n",
       "        vertical-align: top;\n",
       "    }\n",
       "\n",
       "    .dataframe thead th {\n",
       "        text-align: right;\n",
       "    }\n",
       "</style>\n",
       "<table border=\"1\" class=\"dataframe\">\n",
       "  <thead>\n",
       "    <tr style=\"text-align: right;\">\n",
       "      <th></th>\n",
       "      <th>Age</th>\n",
       "      <th>Sex</th>\n",
       "      <th>ChestPainType</th>\n",
       "      <th>RestingBP</th>\n",
       "      <th>Cholesterol</th>\n",
       "      <th>FastingBS</th>\n",
       "      <th>RestingECG</th>\n",
       "      <th>MaxHR</th>\n",
       "      <th>ExerciseAngina</th>\n",
       "      <th>Oldpeak</th>\n",
       "      <th>ST_Slope</th>\n",
       "      <th>HeartDisease</th>\n",
       "    </tr>\n",
       "  </thead>\n",
       "  <tbody>\n",
       "    <tr>\n",
       "      <th>0</th>\n",
       "      <td>40</td>\n",
       "      <td>M</td>\n",
       "      <td>ATA</td>\n",
       "      <td>140</td>\n",
       "      <td>289</td>\n",
       "      <td>0</td>\n",
       "      <td>Normal</td>\n",
       "      <td>172</td>\n",
       "      <td>N</td>\n",
       "      <td>0.0</td>\n",
       "      <td>Up</td>\n",
       "      <td>0</td>\n",
       "    </tr>\n",
       "    <tr>\n",
       "      <th>1</th>\n",
       "      <td>49</td>\n",
       "      <td>F</td>\n",
       "      <td>NAP</td>\n",
       "      <td>160</td>\n",
       "      <td>180</td>\n",
       "      <td>0</td>\n",
       "      <td>Normal</td>\n",
       "      <td>156</td>\n",
       "      <td>N</td>\n",
       "      <td>1.0</td>\n",
       "      <td>Flat</td>\n",
       "      <td>1</td>\n",
       "    </tr>\n",
       "    <tr>\n",
       "      <th>2</th>\n",
       "      <td>37</td>\n",
       "      <td>M</td>\n",
       "      <td>ATA</td>\n",
       "      <td>130</td>\n",
       "      <td>283</td>\n",
       "      <td>0</td>\n",
       "      <td>ST</td>\n",
       "      <td>98</td>\n",
       "      <td>N</td>\n",
       "      <td>0.0</td>\n",
       "      <td>Up</td>\n",
       "      <td>0</td>\n",
       "    </tr>\n",
       "    <tr>\n",
       "      <th>3</th>\n",
       "      <td>48</td>\n",
       "      <td>F</td>\n",
       "      <td>ASY</td>\n",
       "      <td>138</td>\n",
       "      <td>214</td>\n",
       "      <td>0</td>\n",
       "      <td>Normal</td>\n",
       "      <td>108</td>\n",
       "      <td>Y</td>\n",
       "      <td>1.5</td>\n",
       "      <td>Flat</td>\n",
       "      <td>1</td>\n",
       "    </tr>\n",
       "    <tr>\n",
       "      <th>4</th>\n",
       "      <td>54</td>\n",
       "      <td>M</td>\n",
       "      <td>NAP</td>\n",
       "      <td>150</td>\n",
       "      <td>195</td>\n",
       "      <td>0</td>\n",
       "      <td>Normal</td>\n",
       "      <td>122</td>\n",
       "      <td>N</td>\n",
       "      <td>0.0</td>\n",
       "      <td>Up</td>\n",
       "      <td>0</td>\n",
       "    </tr>\n",
       "  </tbody>\n",
       "</table>\n",
       "</div>"
      ],
      "text/plain": [
       "   Age Sex ChestPainType  RestingBP  Cholesterol  FastingBS RestingECG  MaxHR  \\\n",
       "0   40   M           ATA        140          289          0     Normal    172   \n",
       "1   49   F           NAP        160          180          0     Normal    156   \n",
       "2   37   M           ATA        130          283          0         ST     98   \n",
       "3   48   F           ASY        138          214          0     Normal    108   \n",
       "4   54   M           NAP        150          195          0     Normal    122   \n",
       "\n",
       "  ExerciseAngina  Oldpeak ST_Slope  HeartDisease  \n",
       "0              N      0.0       Up             0  \n",
       "1              N      1.0     Flat             1  \n",
       "2              N      0.0       Up             0  \n",
       "3              Y      1.5     Flat             1  \n",
       "4              N      0.0       Up             0  "
      ]
     },
     "execution_count": 2,
     "metadata": {},
     "output_type": "execute_result"
    }
   ],
   "source": [
    "dataset = pd.read_csv('/kaggle/input/heart-failure-prediction/heart.csv')\n",
    "dataset.head()"
   ]
  },
  {
   "cell_type": "code",
   "execution_count": 3,
   "id": "d7205b57",
   "metadata": {
    "execution": {
     "iopub.execute_input": "2022-11-02T09:00:12.871098Z",
     "iopub.status.busy": "2022-11-02T09:00:12.870765Z",
     "iopub.status.idle": "2022-11-02T09:00:12.894092Z",
     "shell.execute_reply": "2022-11-02T09:00:12.892620Z"
    },
    "papermill": {
     "duration": 0.030639,
     "end_time": "2022-11-02T09:00:12.896370",
     "exception": false,
     "start_time": "2022-11-02T09:00:12.865731",
     "status": "completed"
    },
    "tags": []
   },
   "outputs": [
    {
     "name": "stdout",
     "output_type": "stream",
     "text": [
      "<class 'pandas.core.frame.DataFrame'>\n",
      "RangeIndex: 918 entries, 0 to 917\n",
      "Data columns (total 12 columns):\n",
      " #   Column          Non-Null Count  Dtype  \n",
      "---  ------          --------------  -----  \n",
      " 0   Age             918 non-null    int64  \n",
      " 1   Sex             918 non-null    object \n",
      " 2   ChestPainType   918 non-null    object \n",
      " 3   RestingBP       918 non-null    int64  \n",
      " 4   Cholesterol     918 non-null    int64  \n",
      " 5   FastingBS       918 non-null    int64  \n",
      " 6   RestingECG      918 non-null    object \n",
      " 7   MaxHR           918 non-null    int64  \n",
      " 8   ExerciseAngina  918 non-null    object \n",
      " 9   Oldpeak         918 non-null    float64\n",
      " 10  ST_Slope        918 non-null    object \n",
      " 11  HeartDisease    918 non-null    int64  \n",
      "dtypes: float64(1), int64(6), object(5)\n",
      "memory usage: 86.2+ KB\n"
     ]
    }
   ],
   "source": [
    "dataset.info()"
   ]
  },
  {
   "cell_type": "code",
   "execution_count": 4,
   "id": "9c2acdd6",
   "metadata": {
    "execution": {
     "iopub.execute_input": "2022-11-02T09:00:12.906214Z",
     "iopub.status.busy": "2022-11-02T09:00:12.905866Z",
     "iopub.status.idle": "2022-11-02T09:00:12.919104Z",
     "shell.execute_reply": "2022-11-02T09:00:12.918166Z"
    },
    "papermill": {
     "duration": 0.02055,
     "end_time": "2022-11-02T09:00:12.921204",
     "exception": false,
     "start_time": "2022-11-02T09:00:12.900654",
     "status": "completed"
    },
    "tags": []
   },
   "outputs": [
    {
     "data": {
      "text/html": [
       "<div>\n",
       "<style scoped>\n",
       "    .dataframe tbody tr th:only-of-type {\n",
       "        vertical-align: middle;\n",
       "    }\n",
       "\n",
       "    .dataframe tbody tr th {\n",
       "        vertical-align: top;\n",
       "    }\n",
       "\n",
       "    .dataframe thead th {\n",
       "        text-align: right;\n",
       "    }\n",
       "</style>\n",
       "<table border=\"1\" class=\"dataframe\">\n",
       "  <thead>\n",
       "    <tr style=\"text-align: right;\">\n",
       "      <th></th>\n",
       "      <th>0</th>\n",
       "      <th>1</th>\n",
       "    </tr>\n",
       "  </thead>\n",
       "  <tbody>\n",
       "    <tr>\n",
       "      <th>0</th>\n",
       "      <td>1</td>\n",
       "      <td>0</td>\n",
       "    </tr>\n",
       "    <tr>\n",
       "      <th>1</th>\n",
       "      <td>0</td>\n",
       "      <td>1</td>\n",
       "    </tr>\n",
       "    <tr>\n",
       "      <th>2</th>\n",
       "      <td>1</td>\n",
       "      <td>0</td>\n",
       "    </tr>\n",
       "    <tr>\n",
       "      <th>3</th>\n",
       "      <td>0</td>\n",
       "      <td>1</td>\n",
       "    </tr>\n",
       "    <tr>\n",
       "      <th>4</th>\n",
       "      <td>1</td>\n",
       "      <td>0</td>\n",
       "    </tr>\n",
       "  </tbody>\n",
       "</table>\n",
       "</div>"
      ],
      "text/plain": [
       "   0  1\n",
       "0  1  0\n",
       "1  0  1\n",
       "2  1  0\n",
       "3  0  1\n",
       "4  1  0"
      ]
     },
     "execution_count": 4,
     "metadata": {},
     "output_type": "execute_result"
    }
   ],
   "source": [
    "features = dataset.drop('HeartDisease',axis=1)\n",
    "targets = dataset['HeartDisease']\n",
    "\n",
    "targets_onehot = pd.get_dummies(targets)\n",
    "targets_onehot.head()"
   ]
  },
  {
   "cell_type": "code",
   "execution_count": 5,
   "id": "a369e141",
   "metadata": {
    "execution": {
     "iopub.execute_input": "2022-11-02T09:00:12.931152Z",
     "iopub.status.busy": "2022-11-02T09:00:12.930771Z",
     "iopub.status.idle": "2022-11-02T09:00:12.956116Z",
     "shell.execute_reply": "2022-11-02T09:00:12.954996Z"
    },
    "papermill": {
     "duration": 0.032734,
     "end_time": "2022-11-02T09:00:12.958339",
     "exception": false,
     "start_time": "2022-11-02T09:00:12.925605",
     "status": "completed"
    },
    "tags": []
   },
   "outputs": [
    {
     "data": {
      "text/html": [
       "<div>\n",
       "<style scoped>\n",
       "    .dataframe tbody tr th:only-of-type {\n",
       "        vertical-align: middle;\n",
       "    }\n",
       "\n",
       "    .dataframe tbody tr th {\n",
       "        vertical-align: top;\n",
       "    }\n",
       "\n",
       "    .dataframe thead th {\n",
       "        text-align: right;\n",
       "    }\n",
       "</style>\n",
       "<table border=\"1\" class=\"dataframe\">\n",
       "  <thead>\n",
       "    <tr style=\"text-align: right;\">\n",
       "      <th></th>\n",
       "      <th>Age</th>\n",
       "      <th>RestingBP</th>\n",
       "      <th>Cholesterol</th>\n",
       "      <th>FastingBS</th>\n",
       "      <th>MaxHR</th>\n",
       "      <th>Oldpeak</th>\n",
       "      <th>Sex_F</th>\n",
       "      <th>Sex_M</th>\n",
       "      <th>ChestPainType_ASY</th>\n",
       "      <th>ChestPainType_ATA</th>\n",
       "      <th>ChestPainType_NAP</th>\n",
       "      <th>ChestPainType_TA</th>\n",
       "      <th>RestingECG_LVH</th>\n",
       "      <th>RestingECG_Normal</th>\n",
       "      <th>RestingECG_ST</th>\n",
       "      <th>ExerciseAngina_N</th>\n",
       "      <th>ExerciseAngina_Y</th>\n",
       "      <th>ST_Slope_Down</th>\n",
       "      <th>ST_Slope_Flat</th>\n",
       "      <th>ST_Slope_Up</th>\n",
       "    </tr>\n",
       "  </thead>\n",
       "  <tbody>\n",
       "    <tr>\n",
       "      <th>0</th>\n",
       "      <td>40</td>\n",
       "      <td>140</td>\n",
       "      <td>289</td>\n",
       "      <td>0</td>\n",
       "      <td>172</td>\n",
       "      <td>0.0</td>\n",
       "      <td>0</td>\n",
       "      <td>1</td>\n",
       "      <td>0</td>\n",
       "      <td>1</td>\n",
       "      <td>0</td>\n",
       "      <td>0</td>\n",
       "      <td>0</td>\n",
       "      <td>1</td>\n",
       "      <td>0</td>\n",
       "      <td>1</td>\n",
       "      <td>0</td>\n",
       "      <td>0</td>\n",
       "      <td>0</td>\n",
       "      <td>1</td>\n",
       "    </tr>\n",
       "    <tr>\n",
       "      <th>1</th>\n",
       "      <td>49</td>\n",
       "      <td>160</td>\n",
       "      <td>180</td>\n",
       "      <td>0</td>\n",
       "      <td>156</td>\n",
       "      <td>1.0</td>\n",
       "      <td>1</td>\n",
       "      <td>0</td>\n",
       "      <td>0</td>\n",
       "      <td>0</td>\n",
       "      <td>1</td>\n",
       "      <td>0</td>\n",
       "      <td>0</td>\n",
       "      <td>1</td>\n",
       "      <td>0</td>\n",
       "      <td>1</td>\n",
       "      <td>0</td>\n",
       "      <td>0</td>\n",
       "      <td>1</td>\n",
       "      <td>0</td>\n",
       "    </tr>\n",
       "    <tr>\n",
       "      <th>2</th>\n",
       "      <td>37</td>\n",
       "      <td>130</td>\n",
       "      <td>283</td>\n",
       "      <td>0</td>\n",
       "      <td>98</td>\n",
       "      <td>0.0</td>\n",
       "      <td>0</td>\n",
       "      <td>1</td>\n",
       "      <td>0</td>\n",
       "      <td>1</td>\n",
       "      <td>0</td>\n",
       "      <td>0</td>\n",
       "      <td>0</td>\n",
       "      <td>0</td>\n",
       "      <td>1</td>\n",
       "      <td>1</td>\n",
       "      <td>0</td>\n",
       "      <td>0</td>\n",
       "      <td>0</td>\n",
       "      <td>1</td>\n",
       "    </tr>\n",
       "    <tr>\n",
       "      <th>3</th>\n",
       "      <td>48</td>\n",
       "      <td>138</td>\n",
       "      <td>214</td>\n",
       "      <td>0</td>\n",
       "      <td>108</td>\n",
       "      <td>1.5</td>\n",
       "      <td>1</td>\n",
       "      <td>0</td>\n",
       "      <td>1</td>\n",
       "      <td>0</td>\n",
       "      <td>0</td>\n",
       "      <td>0</td>\n",
       "      <td>0</td>\n",
       "      <td>1</td>\n",
       "      <td>0</td>\n",
       "      <td>0</td>\n",
       "      <td>1</td>\n",
       "      <td>0</td>\n",
       "      <td>1</td>\n",
       "      <td>0</td>\n",
       "    </tr>\n",
       "    <tr>\n",
       "      <th>4</th>\n",
       "      <td>54</td>\n",
       "      <td>150</td>\n",
       "      <td>195</td>\n",
       "      <td>0</td>\n",
       "      <td>122</td>\n",
       "      <td>0.0</td>\n",
       "      <td>0</td>\n",
       "      <td>1</td>\n",
       "      <td>0</td>\n",
       "      <td>0</td>\n",
       "      <td>1</td>\n",
       "      <td>0</td>\n",
       "      <td>0</td>\n",
       "      <td>1</td>\n",
       "      <td>0</td>\n",
       "      <td>1</td>\n",
       "      <td>0</td>\n",
       "      <td>0</td>\n",
       "      <td>0</td>\n",
       "      <td>1</td>\n",
       "    </tr>\n",
       "  </tbody>\n",
       "</table>\n",
       "</div>"
      ],
      "text/plain": [
       "   Age  RestingBP  Cholesterol  FastingBS  MaxHR  Oldpeak  Sex_F  Sex_M  \\\n",
       "0   40        140          289          0    172      0.0      0      1   \n",
       "1   49        160          180          0    156      1.0      1      0   \n",
       "2   37        130          283          0     98      0.0      0      1   \n",
       "3   48        138          214          0    108      1.5      1      0   \n",
       "4   54        150          195          0    122      0.0      0      1   \n",
       "\n",
       "   ChestPainType_ASY  ChestPainType_ATA  ChestPainType_NAP  ChestPainType_TA  \\\n",
       "0                  0                  1                  0                 0   \n",
       "1                  0                  0                  1                 0   \n",
       "2                  0                  1                  0                 0   \n",
       "3                  1                  0                  0                 0   \n",
       "4                  0                  0                  1                 0   \n",
       "\n",
       "   RestingECG_LVH  RestingECG_Normal  RestingECG_ST  ExerciseAngina_N  \\\n",
       "0               0                  1              0                 1   \n",
       "1               0                  1              0                 1   \n",
       "2               0                  0              1                 1   \n",
       "3               0                  1              0                 0   \n",
       "4               0                  1              0                 1   \n",
       "\n",
       "   ExerciseAngina_Y  ST_Slope_Down  ST_Slope_Flat  ST_Slope_Up  \n",
       "0                 0              0              0            1  \n",
       "1                 0              0              1            0  \n",
       "2                 0              0              0            1  \n",
       "3                 1              0              1            0  \n",
       "4                 0              0              0            1  "
      ]
     },
     "execution_count": 5,
     "metadata": {},
     "output_type": "execute_result"
    }
   ],
   "source": [
    "features_onehot = pd.get_dummies(features)\n",
    "features_onehot.head()"
   ]
  },
  {
   "cell_type": "code",
   "execution_count": 6,
   "id": "e6eca18e",
   "metadata": {
    "execution": {
     "iopub.execute_input": "2022-11-02T09:00:12.969278Z",
     "iopub.status.busy": "2022-11-02T09:00:12.968780Z",
     "iopub.status.idle": "2022-11-02T09:00:12.984940Z",
     "shell.execute_reply": "2022-11-02T09:00:12.983633Z"
    },
    "papermill": {
     "duration": 0.024767,
     "end_time": "2022-11-02T09:00:12.987849",
     "exception": false,
     "start_time": "2022-11-02T09:00:12.963082",
     "status": "completed"
    },
    "tags": []
   },
   "outputs": [
    {
     "name": "stdout",
     "output_type": "stream",
     "text": [
      "<class 'pandas.core.frame.DataFrame'>\n",
      "RangeIndex: 918 entries, 0 to 917\n",
      "Data columns (total 20 columns):\n",
      " #   Column             Non-Null Count  Dtype  \n",
      "---  ------             --------------  -----  \n",
      " 0   Age                918 non-null    float32\n",
      " 1   RestingBP          918 non-null    float32\n",
      " 2   Cholesterol        918 non-null    float32\n",
      " 3   FastingBS          918 non-null    float32\n",
      " 4   MaxHR              918 non-null    float32\n",
      " 5   Oldpeak            918 non-null    float32\n",
      " 6   Sex_F              918 non-null    float32\n",
      " 7   Sex_M              918 non-null    float32\n",
      " 8   ChestPainType_ASY  918 non-null    float32\n",
      " 9   ChestPainType_ATA  918 non-null    float32\n",
      " 10  ChestPainType_NAP  918 non-null    float32\n",
      " 11  ChestPainType_TA   918 non-null    float32\n",
      " 12  RestingECG_LVH     918 non-null    float32\n",
      " 13  RestingECG_Normal  918 non-null    float32\n",
      " 14  RestingECG_ST      918 non-null    float32\n",
      " 15  ExerciseAngina_N   918 non-null    float32\n",
      " 16  ExerciseAngina_Y   918 non-null    float32\n",
      " 17  ST_Slope_Down      918 non-null    float32\n",
      " 18  ST_Slope_Flat      918 non-null    float32\n",
      " 19  ST_Slope_Up        918 non-null    float32\n",
      "dtypes: float32(20)\n",
      "memory usage: 71.8 KB\n"
     ]
    }
   ],
   "source": [
    "targets_onehot = targets_onehot.astype('float32')\n",
    "features_onehot = features_onehot.astype('float32')\n",
    "\n",
    "features_onehot.info()"
   ]
  },
  {
   "cell_type": "code",
   "execution_count": 7,
   "id": "02dcba3e",
   "metadata": {
    "execution": {
     "iopub.execute_input": "2022-11-02T09:00:12.998798Z",
     "iopub.status.busy": "2022-11-02T09:00:12.998474Z",
     "iopub.status.idle": "2022-11-02T09:00:14.022561Z",
     "shell.execute_reply": "2022-11-02T09:00:14.021143Z"
    },
    "papermill": {
     "duration": 1.032038,
     "end_time": "2022-11-02T09:00:14.024944",
     "exception": false,
     "start_time": "2022-11-02T09:00:12.992906",
     "status": "completed"
    },
    "tags": []
   },
   "outputs": [
    {
     "data": {
      "text/plain": [
       "0    1  \n",
       "0.0  1.0    457\n",
       "1.0  0.0    369\n",
       "dtype: int64"
      ]
     },
     "execution_count": 7,
     "metadata": {},
     "output_type": "execute_result"
    }
   ],
   "source": [
    "from sklearn.model_selection import train_test_split\n",
    "\n",
    "train_features, test_features, train_targets, test_targets = train_test_split(features_onehot, targets_onehot, test_size=0.1, stratify=targets)\n",
    "train_targets.value_counts()"
   ]
  },
  {
   "cell_type": "code",
   "execution_count": 8,
   "id": "62ef5fe5",
   "metadata": {
    "execution": {
     "iopub.execute_input": "2022-11-02T09:00:14.036238Z",
     "iopub.status.busy": "2022-11-02T09:00:14.035868Z",
     "iopub.status.idle": "2022-11-02T09:00:14.046603Z",
     "shell.execute_reply": "2022-11-02T09:00:14.045508Z"
    },
    "papermill": {
     "duration": 0.018785,
     "end_time": "2022-11-02T09:00:14.048722",
     "exception": false,
     "start_time": "2022-11-02T09:00:14.029937",
     "status": "completed"
    },
    "tags": []
   },
   "outputs": [
    {
     "data": {
      "text/plain": [
       "0    1  \n",
       "0.0  1.0    51\n",
       "1.0  0.0    41\n",
       "dtype: int64"
      ]
     },
     "execution_count": 8,
     "metadata": {},
     "output_type": "execute_result"
    }
   ],
   "source": [
    "test_targets.value_counts()"
   ]
  },
  {
   "cell_type": "code",
   "execution_count": 9,
   "id": "2c3f22bd",
   "metadata": {
    "execution": {
     "iopub.execute_input": "2022-11-02T09:00:14.059840Z",
     "iopub.status.busy": "2022-11-02T09:00:14.059509Z",
     "iopub.status.idle": "2022-11-02T09:00:18.677159Z",
     "shell.execute_reply": "2022-11-02T09:00:18.676081Z"
    },
    "papermill": {
     "duration": 4.625895,
     "end_time": "2022-11-02T09:00:18.679485",
     "exception": false,
     "start_time": "2022-11-02T09:00:14.053590",
     "status": "completed"
    },
    "tags": []
   },
   "outputs": [
    {
     "name": "stderr",
     "output_type": "stream",
     "text": [
      "2022-11-02 09:00:18.659469: I tensorflow/core/common_runtime/process_util.cc:146] Creating new thread pool with default inter op setting: 2. Tune using inter_op_parallelism_threads for best performance.\n"
     ]
    }
   ],
   "source": [
    "import tensorflow as tf\n",
    "\n",
    "train_features_tensor = tf.convert_to_tensor(train_features)\n",
    "test_features_tensor = tf.convert_to_tensor(test_features)\n",
    "train_targets_tensor = tf.convert_to_tensor(train_targets)\n",
    "test_targets_tensor = tf.convert_to_tensor(test_targets)"
   ]
  },
  {
   "cell_type": "code",
   "execution_count": 10,
   "id": "6ad4bddd",
   "metadata": {
    "execution": {
     "iopub.execute_input": "2022-11-02T09:00:18.691501Z",
     "iopub.status.busy": "2022-11-02T09:00:18.690740Z",
     "iopub.status.idle": "2022-11-02T09:00:18.696507Z",
     "shell.execute_reply": "2022-11-02T09:00:18.695732Z"
    },
    "papermill": {
     "duration": 0.013853,
     "end_time": "2022-11-02T09:00:18.698486",
     "exception": false,
     "start_time": "2022-11-02T09:00:18.684633",
     "status": "completed"
    },
    "tags": []
   },
   "outputs": [
    {
     "data": {
      "text/plain": [
       "(826, 2)"
      ]
     },
     "execution_count": 10,
     "metadata": {},
     "output_type": "execute_result"
    }
   ],
   "source": [
    "train_features.shape\n",
    "train_targets.shape"
   ]
  },
  {
   "cell_type": "code",
   "execution_count": 11,
   "id": "60f06edd",
   "metadata": {
    "execution": {
     "iopub.execute_input": "2022-11-02T09:00:18.709897Z",
     "iopub.status.busy": "2022-11-02T09:00:18.709344Z",
     "iopub.status.idle": "2022-11-02T09:00:19.833071Z",
     "shell.execute_reply": "2022-11-02T09:00:19.831946Z"
    },
    "papermill": {
     "duration": 1.132318,
     "end_time": "2022-11-02T09:00:19.835771",
     "exception": false,
     "start_time": "2022-11-02T09:00:18.703453",
     "status": "completed"
    },
    "tags": []
   },
   "outputs": [],
   "source": [
    "from tensorflow.keras import Sequential\n",
    "from tensorflow.keras.layers import Dense\n",
    "\n",
    "model = Sequential([\n",
    "    Dense(20, activation='sigmoid'),\n",
    "    Dense(10, activation='sigmoid'),\n",
    "    Dense(2, activation='sigmoid')\n",
    "])\n",
    "model.compile(optimizer='adam', loss='categorical_crossentropy', metrics=['accuracy'])"
   ]
  },
  {
   "cell_type": "code",
   "execution_count": 12,
   "id": "b524695b",
   "metadata": {
    "execution": {
     "iopub.execute_input": "2022-11-02T09:00:19.847718Z",
     "iopub.status.busy": "2022-11-02T09:00:19.847357Z",
     "iopub.status.idle": "2022-11-02T09:00:21.584040Z",
     "shell.execute_reply": "2022-11-02T09:00:21.582954Z"
    },
    "papermill": {
     "duration": 1.74513,
     "end_time": "2022-11-02T09:00:21.586365",
     "exception": false,
     "start_time": "2022-11-02T09:00:19.841235",
     "status": "completed"
    },
    "tags": []
   },
   "outputs": [
    {
     "name": "stderr",
     "output_type": "stream",
     "text": [
      "2022-11-02 09:00:19.928246: I tensorflow/compiler/mlir/mlir_graph_optimization_pass.cc:185] None of the MLIR Optimization Passes are enabled (registered 2)\n"
     ]
    },
    {
     "name": "stdout",
     "output_type": "stream",
     "text": [
      "Epoch 1/10\n",
      "83/83 [==============================] - 1s 1ms/step - loss: 0.7046 - accuracy: 0.5533\n",
      "Epoch 2/10\n",
      "83/83 [==============================] - 0s 1ms/step - loss: 0.6530 - accuracy: 0.6429\n",
      "Epoch 3/10\n",
      "83/83 [==============================] - 0s 1ms/step - loss: 0.6321 - accuracy: 0.6731\n",
      "Epoch 4/10\n",
      "83/83 [==============================] - 0s 1ms/step - loss: 0.6041 - accuracy: 0.7155\n",
      "Epoch 5/10\n",
      "83/83 [==============================] - 0s 1ms/step - loss: 0.5856 - accuracy: 0.7107\n",
      "Epoch 6/10\n",
      "83/83 [==============================] - 0s 1ms/step - loss: 0.5764 - accuracy: 0.7300\n",
      "Epoch 7/10\n",
      "83/83 [==============================] - 0s 1ms/step - loss: 0.5698 - accuracy: 0.7167\n",
      "Epoch 8/10\n",
      "83/83 [==============================] - 0s 1ms/step - loss: 0.5538 - accuracy: 0.7288\n",
      "Epoch 9/10\n",
      "83/83 [==============================] - 0s 1ms/step - loss: 0.5486 - accuracy: 0.7409\n",
      "Epoch 10/10\n",
      "83/83 [==============================] - 0s 1ms/step - loss: 0.5390 - accuracy: 0.7409\n"
     ]
    },
    {
     "data": {
      "text/plain": [
       "<keras.callbacks.History at 0x7f9754403b10>"
      ]
     },
     "execution_count": 12,
     "metadata": {},
     "output_type": "execute_result"
    }
   ],
   "source": [
    "model.fit(train_features_tensor, train_targets_tensor, epochs=10, batch_size=10, )"
   ]
  },
  {
   "cell_type": "code",
   "execution_count": 13,
   "id": "c9c3aa51",
   "metadata": {
    "execution": {
     "iopub.execute_input": "2022-11-02T09:00:21.602569Z",
     "iopub.status.busy": "2022-11-02T09:00:21.602207Z",
     "iopub.status.idle": "2022-11-02T09:00:21.833721Z",
     "shell.execute_reply": "2022-11-02T09:00:21.832894Z"
    },
    "papermill": {
     "duration": 0.241801,
     "end_time": "2022-11-02T09:00:21.835671",
     "exception": false,
     "start_time": "2022-11-02T09:00:21.593870",
     "status": "completed"
    },
    "tags": []
   },
   "outputs": [
    {
     "name": "stdout",
     "output_type": "stream",
     "text": [
      "3/3 [==============================] - 0s 3ms/step - loss: 0.5355 - accuracy: 0.7065\n"
     ]
    },
    {
     "data": {
      "text/plain": [
       "[0.5355165600776672, 0.70652174949646]"
      ]
     },
     "execution_count": 13,
     "metadata": {},
     "output_type": "execute_result"
    }
   ],
   "source": [
    "model.evaluate(test_features_tensor, test_targets_tensor)"
   ]
  }
 ],
 "metadata": {
  "kernelspec": {
   "display_name": "Python 3",
   "language": "python",
   "name": "python3"
  },
  "language_info": {
   "codemirror_mode": {
    "name": "ipython",
    "version": 3
   },
   "file_extension": ".py",
   "mimetype": "text/x-python",
   "name": "python",
   "nbconvert_exporter": "python",
   "pygments_lexer": "ipython3",
   "version": "3.7.12"
  },
  "papermill": {
   "default_parameters": {},
   "duration": 20.095614,
   "end_time": "2022-11-02T09:00:24.796711",
   "environment_variables": {},
   "exception": null,
   "input_path": "__notebook__.ipynb",
   "output_path": "__notebook__.ipynb",
   "parameters": {},
   "start_time": "2022-11-02T09:00:04.701097",
   "version": "2.3.4"
  }
 },
 "nbformat": 4,
 "nbformat_minor": 5
}
