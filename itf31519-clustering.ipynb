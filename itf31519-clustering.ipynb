{
 "cells": [
  {
   "cell_type": "code",
   "execution_count": 1,
   "id": "d816f1ee",
   "metadata": {
    "_cell_guid": "b1076dfc-b9ad-4769-8c92-a6c4dae69d19",
    "_uuid": "8f2839f25d086af736a60e9eeb907d3b93b6e0e5",
    "execution": {
     "iopub.execute_input": "2022-10-11T08:08:36.856827Z",
     "iopub.status.busy": "2022-10-11T08:08:36.856318Z",
     "iopub.status.idle": "2022-10-11T08:08:36.874472Z",
     "shell.execute_reply": "2022-10-11T08:08:36.873223Z"
    },
    "papermill": {
     "duration": 0.025771,
     "end_time": "2022-10-11T08:08:36.877044",
     "exception": false,
     "start_time": "2022-10-11T08:08:36.851273",
     "status": "completed"
    },
    "tags": []
   },
   "outputs": [
    {
     "name": "stdout",
     "output_type": "stream",
     "text": [
      "/kaggle/input/uci-wine/wine.data\n"
     ]
    }
   ],
   "source": [
    "# This Python 3 environment comes with many helpful analytics libraries installed\n",
    "# It is defined by the kaggle/python Docker image: https://github.com/kaggle/docker-python\n",
    "# For example, here's several helpful packages to load\n",
    "\n",
    "import numpy as np # linear algebra\n",
    "import pandas as pd # data processing, CSV file I/O (e.g. pd.read_csv)\n",
    "\n",
    "# Input data files are available in the read-only \"../input/\" directory\n",
    "# For example, running this (by clicking run or pressing Shift+Enter) will list all files under the input directory\n",
    "\n",
    "import os\n",
    "for dirname, _, filenames in os.walk('/kaggle/input'):\n",
    "    for filename in filenames:\n",
    "        print(os.path.join(dirname, filename))\n",
    "\n",
    "# You can write up to 20GB to the current directory (/kaggle/working/) that gets preserved as output when you create a version using \"Save & Run All\" \n",
    "# You can also write temporary files to /kaggle/temp/, but they won't be saved outside of the current session"
   ]
  },
  {
   "cell_type": "code",
   "execution_count": 2,
   "id": "c766da68",
   "metadata": {
    "execution": {
     "iopub.execute_input": "2022-10-11T08:08:36.883858Z",
     "iopub.status.busy": "2022-10-11T08:08:36.883464Z",
     "iopub.status.idle": "2022-10-11T08:08:36.944737Z",
     "shell.execute_reply": "2022-10-11T08:08:36.943714Z"
    },
    "papermill": {
     "duration": 0.067397,
     "end_time": "2022-10-11T08:08:36.947269",
     "exception": false,
     "start_time": "2022-10-11T08:08:36.879872",
     "status": "completed"
    },
    "tags": []
   },
   "outputs": [
    {
     "data": {
      "text/html": [
       "<div>\n",
       "<style scoped>\n",
       "    .dataframe tbody tr th:only-of-type {\n",
       "        vertical-align: middle;\n",
       "    }\n",
       "\n",
       "    .dataframe tbody tr th {\n",
       "        vertical-align: top;\n",
       "    }\n",
       "\n",
       "    .dataframe thead th {\n",
       "        text-align: right;\n",
       "    }\n",
       "</style>\n",
       "<table border=\"1\" class=\"dataframe\">\n",
       "  <thead>\n",
       "    <tr style=\"text-align: right;\">\n",
       "      <th></th>\n",
       "      <th>Alcohol</th>\n",
       "      <th>Malic acid</th>\n",
       "      <th>Ash</th>\n",
       "      <th>Alcalinity of ash</th>\n",
       "      <th>Magnesium</th>\n",
       "      <th>Total phenols</th>\n",
       "      <th>Flavanoids</th>\n",
       "      <th>Nonflavanoid phenols</th>\n",
       "      <th>Proanthocyanins</th>\n",
       "      <th>Color intensity</th>\n",
       "      <th>Hue</th>\n",
       "      <th>OD280/OD315 of diluted wines</th>\n",
       "      <th>Proline</th>\n",
       "    </tr>\n",
       "  </thead>\n",
       "  <tbody>\n",
       "    <tr>\n",
       "      <th>0</th>\n",
       "      <td>14.23</td>\n",
       "      <td>1.71</td>\n",
       "      <td>2.43</td>\n",
       "      <td>15.6</td>\n",
       "      <td>127</td>\n",
       "      <td>2.80</td>\n",
       "      <td>3.06</td>\n",
       "      <td>0.28</td>\n",
       "      <td>2.29</td>\n",
       "      <td>5.64</td>\n",
       "      <td>1.04</td>\n",
       "      <td>3.92</td>\n",
       "      <td>1065</td>\n",
       "    </tr>\n",
       "    <tr>\n",
       "      <th>1</th>\n",
       "      <td>13.20</td>\n",
       "      <td>1.78</td>\n",
       "      <td>2.14</td>\n",
       "      <td>11.2</td>\n",
       "      <td>100</td>\n",
       "      <td>2.65</td>\n",
       "      <td>2.76</td>\n",
       "      <td>0.26</td>\n",
       "      <td>1.28</td>\n",
       "      <td>4.38</td>\n",
       "      <td>1.05</td>\n",
       "      <td>3.40</td>\n",
       "      <td>1050</td>\n",
       "    </tr>\n",
       "    <tr>\n",
       "      <th>2</th>\n",
       "      <td>13.16</td>\n",
       "      <td>2.36</td>\n",
       "      <td>2.67</td>\n",
       "      <td>18.6</td>\n",
       "      <td>101</td>\n",
       "      <td>2.80</td>\n",
       "      <td>3.24</td>\n",
       "      <td>0.30</td>\n",
       "      <td>2.81</td>\n",
       "      <td>5.68</td>\n",
       "      <td>1.03</td>\n",
       "      <td>3.17</td>\n",
       "      <td>1185</td>\n",
       "    </tr>\n",
       "    <tr>\n",
       "      <th>3</th>\n",
       "      <td>14.37</td>\n",
       "      <td>1.95</td>\n",
       "      <td>2.50</td>\n",
       "      <td>16.8</td>\n",
       "      <td>113</td>\n",
       "      <td>3.85</td>\n",
       "      <td>3.49</td>\n",
       "      <td>0.24</td>\n",
       "      <td>2.18</td>\n",
       "      <td>7.80</td>\n",
       "      <td>0.86</td>\n",
       "      <td>3.45</td>\n",
       "      <td>1480</td>\n",
       "    </tr>\n",
       "    <tr>\n",
       "      <th>4</th>\n",
       "      <td>13.24</td>\n",
       "      <td>2.59</td>\n",
       "      <td>2.87</td>\n",
       "      <td>21.0</td>\n",
       "      <td>118</td>\n",
       "      <td>2.80</td>\n",
       "      <td>2.69</td>\n",
       "      <td>0.39</td>\n",
       "      <td>1.82</td>\n",
       "      <td>4.32</td>\n",
       "      <td>1.04</td>\n",
       "      <td>2.93</td>\n",
       "      <td>735</td>\n",
       "    </tr>\n",
       "  </tbody>\n",
       "</table>\n",
       "</div>"
      ],
      "text/plain": [
       "   Alcohol  Malic acid   Ash  Alcalinity of ash  Magnesium  Total phenols  \\\n",
       "0    14.23        1.71  2.43               15.6        127           2.80   \n",
       "1    13.20        1.78  2.14               11.2        100           2.65   \n",
       "2    13.16        2.36  2.67               18.6        101           2.80   \n",
       "3    14.37        1.95  2.50               16.8        113           3.85   \n",
       "4    13.24        2.59  2.87               21.0        118           2.80   \n",
       "\n",
       "   Flavanoids  Nonflavanoid phenols  Proanthocyanins  Color intensity   Hue  \\\n",
       "0        3.06                  0.28             2.29             5.64  1.04   \n",
       "1        2.76                  0.26             1.28             4.38  1.05   \n",
       "2        3.24                  0.30             2.81             5.68  1.03   \n",
       "3        3.49                  0.24             2.18             7.80  0.86   \n",
       "4        2.69                  0.39             1.82             4.32  1.04   \n",
       "\n",
       "   OD280/OD315 of diluted wines  Proline  \n",
       "0                          3.92     1065  \n",
       "1                          3.40     1050  \n",
       "2                          3.17     1185  \n",
       "3                          3.45     1480  \n",
       "4                          2.93      735  "
      ]
     },
     "execution_count": 2,
     "metadata": {},
     "output_type": "execute_result"
    }
   ],
   "source": [
    "uci_wine_names = ['Target',\n",
    "                  'Alcohol',\n",
    "                  'Malic acid',\n",
    "                  'Ash',\n",
    "                  'Alcalinity of ash',\n",
    "                  'Magnesium',\n",
    "                  'Total phenols',\n",
    "                  'Flavanoids',\n",
    "                  'Nonflavanoid phenols',\n",
    "                  'Proanthocyanins',\n",
    "                  'Color intensity',\n",
    "                  'Hue',\n",
    "                  'OD280/OD315 of diluted wines',\n",
    "                  'Proline']\n",
    "uci_wine = pd.read_csv('/kaggle/input/uci-wine/wine.data', header=None, names=uci_wine_names)\n",
    "uci_wine_unlabeled = uci_wine.drop('Target', axis=1)\n",
    "uci_wine_unlabeled.head()"
   ]
  },
  {
   "cell_type": "code",
   "execution_count": 3,
   "id": "9d94c2c4",
   "metadata": {
    "execution": {
     "iopub.execute_input": "2022-10-11T08:08:36.955125Z",
     "iopub.status.busy": "2022-10-11T08:08:36.954315Z",
     "iopub.status.idle": "2022-10-11T08:08:38.400289Z",
     "shell.execute_reply": "2022-10-11T08:08:38.399396Z"
    },
    "papermill": {
     "duration": 1.452854,
     "end_time": "2022-10-11T08:08:38.403046",
     "exception": false,
     "start_time": "2022-10-11T08:08:36.950192",
     "status": "completed"
    },
    "tags": []
   },
   "outputs": [
    {
     "data": {
      "text/plain": [
       "KMeans(n_clusters=3)"
      ]
     },
     "execution_count": 3,
     "metadata": {},
     "output_type": "execute_result"
    }
   ],
   "source": [
    "from sklearn.cluster import KMeans\n",
    "\n",
    "kmeans = KMeans(n_clusters=3)\n",
    "kmeans.fit(uci_wine_unlabeled)"
   ]
  },
  {
   "cell_type": "code",
   "execution_count": 4,
   "id": "69f8104b",
   "metadata": {
    "execution": {
     "iopub.execute_input": "2022-10-11T08:08:38.410954Z",
     "iopub.status.busy": "2022-10-11T08:08:38.410584Z",
     "iopub.status.idle": "2022-10-11T08:08:38.481927Z",
     "shell.execute_reply": "2022-10-11T08:08:38.480623Z"
    },
    "papermill": {
     "duration": 0.078531,
     "end_time": "2022-10-11T08:08:38.484829",
     "exception": false,
     "start_time": "2022-10-11T08:08:38.406298",
     "status": "completed"
    },
    "tags": []
   },
   "outputs": [],
   "source": [
    "#kmeans.labels_\n",
    "labels = kmeans.predict(uci_wine_unlabeled)\n",
    "\n",
    "uci_wine_labeled = uci_wine_unlabeled.copy()\n",
    "uci_wine_labeled['label'] = labels\n",
    "\n",
    "uci_wine_first = uci_wine_labeled[uci_wine_labeled['label']==0]\n",
    "uci_wine_second = uci_wine_labeled[uci_wine_labeled['label']==1]\n",
    "uci_wine_third = uci_wine_labeled[uci_wine_labeled['label']==2]"
   ]
  },
  {
   "cell_type": "code",
   "execution_count": 5,
   "id": "fb676d3a",
   "metadata": {
    "execution": {
     "iopub.execute_input": "2022-10-11T08:08:38.497371Z",
     "iopub.status.busy": "2022-10-11T08:08:38.496308Z",
     "iopub.status.idle": "2022-10-11T08:08:38.955846Z",
     "shell.execute_reply": "2022-10-11T08:08:38.954944Z"
    },
    "papermill": {
     "duration": 0.469759,
     "end_time": "2022-10-11T08:08:38.958135",
     "exception": false,
     "start_time": "2022-10-11T08:08:38.488376",
     "status": "completed"
    },
    "tags": []
   },
   "outputs": [
    {
     "data": {
      "image/png": "[encoded data removed]",
      "text/plain": [
       "<Figure size 432x288 with 1 Axes>"
      ]
     },
     "metadata": {
      "needs_background": "light"
     },
     "output_type": "display_data"
    }
   ],
   "source": [
    "import matplotlib.pyplot as plt\n",
    "fig, ax = plt.subplots(1,1)\n",
    "ax.scatter(uci_wine_first['Alcohol'], uci_wine_first['Ash'],c='red',label='first')\n",
    "ax.scatter(uci_wine_second['Alcohol'], uci_wine_second['Ash'],c='blue',label='second')\n",
    "ax.scatter(uci_wine_third['Alcohol'], uci_wine_third['Ash'],c='green',label='third')\n",
    "plt.legend()\n",
    "plt.tight_layout()\n",
    "plt.show()"
   ]
  }
 ],
 "metadata": {
  "kernelspec": {
   "display_name": "Python 3",
   "language": "python",
   "name": "python3"
  },
  "language_info": {
   "codemirror_mode": {
    "name": "ipython",
    "version": 3
   },
   "file_extension": ".py",
   "mimetype": "text/x-python",
   "name": "python",
   "nbconvert_exporter": "python",
   "pygments_lexer": "ipython3",
   "version": "3.7.12"
  },
  "papermill": {
   "default_parameters": {},
   "duration": 12.177063,
   "end_time": "2022-10-11T08:08:39.782661",
   "environment_variables": {},
   "exception": null,
   "input_path": "__notebook__.ipynb",
   "output_path": "__notebook__.ipynb",
   "parameters": {},
   "start_time": "2022-10-11T08:08:27.605598",
   "version": "2.3.4"
  }
 },
 "nbformat": 4,
 "nbformat_minor": 5
}
