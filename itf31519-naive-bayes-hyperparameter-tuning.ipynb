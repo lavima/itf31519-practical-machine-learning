{
 "cells": [
  {
   "cell_type": "code",
   "execution_count": 1,
   "id": "1f2db5ab",
   "metadata": {
    "_cell_guid": "b1076dfc-b9ad-4769-8c92-a6c4dae69d19",
    "_uuid": "8f2839f25d086af736a60e9eeb907d3b93b6e0e5",
    "execution": {
     "iopub.execute_input": "2022-09-20T13:41:20.120519Z",
     "iopub.status.busy": "2022-09-20T13:41:20.119937Z",
     "iopub.status.idle": "2022-09-20T13:41:20.142281Z",
     "shell.execute_reply": "2022-09-20T13:41:20.141170Z"
    },
    "papermill": {
     "duration": 0.031281,
     "end_time": "2022-09-20T13:41:20.144946",
     "exception": false,
     "start_time": "2022-09-20T13:41:20.113665",
     "status": "completed"
    },
    "tags": []
   },
   "outputs": [
    {
     "name": "stdout",
     "output_type": "stream",
     "text": [
      "/kaggle/input/playtennis3/dataset.csv\n",
      "/kaggle/input/uci-wine/wine.data\n"
     ]
    }
   ],
   "source": [
    "# This Python 3 environment comes with many helpful analytics libraries installed\n",
    "# It is defined by the kaggle/python Docker image: https://github.com/kaggle/docker-python\n",
    "# For example, here's several helpful packages to load\n",
    "\n",
    "import numpy as np # linear algebra\n",
    "import pandas as pd # data processing, CSV file I/O (e.g. pd.read_csv)\n",
    "\n",
    "# Input data files are available in the read-only \"../input/\" directory\n",
    "# For example, running this (by clicking run or pressing Shift+Enter) will list all files under the input directory\n",
    "\n",
    "import os\n",
    "for dirname, _, filenames in os.walk('/kaggle/input'):\n",
    "    for filename in filenames:\n",
    "        print(os.path.join(dirname, filename))\n",
    "\n",
    "# You can write up to 20GB to the current directory (/kaggle/working/) that gets preserved as output when you create a version using \"Save & Run All\" \n",
    "# You can also write temporary files to /kaggle/temp/, but they won't be saved outside of the current session"
   ]
  },
  {
   "cell_type": "code",
   "execution_count": 2,
   "id": "b6d2792b",
   "metadata": {
    "execution": {
     "iopub.execute_input": "2022-09-20T13:41:20.153035Z",
     "iopub.status.busy": "2022-09-20T13:41:20.152126Z",
     "iopub.status.idle": "2022-09-20T13:41:20.204842Z",
     "shell.execute_reply": "2022-09-20T13:41:20.203531Z"
    },
    "papermill": {
     "duration": 0.059512,
     "end_time": "2022-09-20T13:41:20.207705",
     "exception": false,
     "start_time": "2022-09-20T13:41:20.148193",
     "status": "completed"
    },
    "tags": []
   },
   "outputs": [
    {
     "data": {
      "text/html": [
       "<div>\n",
       "<style scoped>\n",
       "    .dataframe tbody tr th:only-of-type {\n",
       "        vertical-align: middle;\n",
       "    }\n",
       "\n",
       "    .dataframe tbody tr th {\n",
       "        vertical-align: top;\n",
       "    }\n",
       "\n",
       "    .dataframe thead th {\n",
       "        text-align: right;\n",
       "    }\n",
       "</style>\n",
       "<table border=\"1\" class=\"dataframe\">\n",
       "  <thead>\n",
       "    <tr style=\"text-align: right;\">\n",
       "      <th></th>\n",
       "      <th>Outlook</th>\n",
       "      <th>Temperature</th>\n",
       "      <th>Humidity</th>\n",
       "      <th>Wind</th>\n",
       "      <th>Play?</th>\n",
       "    </tr>\n",
       "  </thead>\n",
       "  <tbody>\n",
       "    <tr>\n",
       "      <th>0</th>\n",
       "      <td>Sunny</td>\n",
       "      <td>Hot</td>\n",
       "      <td>High</td>\n",
       "      <td>Weak</td>\n",
       "      <td>No</td>\n",
       "    </tr>\n",
       "    <tr>\n",
       "      <th>1</th>\n",
       "      <td>Sunny</td>\n",
       "      <td>Hot</td>\n",
       "      <td>High</td>\n",
       "      <td>Strong</td>\n",
       "      <td>No</td>\n",
       "    </tr>\n",
       "    <tr>\n",
       "      <th>2</th>\n",
       "      <td>Overcast</td>\n",
       "      <td>Hot</td>\n",
       "      <td>High</td>\n",
       "      <td>Weak</td>\n",
       "      <td>Yes</td>\n",
       "    </tr>\n",
       "    <tr>\n",
       "      <th>3</th>\n",
       "      <td>Rain</td>\n",
       "      <td>Cool</td>\n",
       "      <td>Normal</td>\n",
       "      <td>Weak</td>\n",
       "      <td>Yes</td>\n",
       "    </tr>\n",
       "    <tr>\n",
       "      <th>4</th>\n",
       "      <td>Rain</td>\n",
       "      <td>Mild</td>\n",
       "      <td>High</td>\n",
       "      <td>Weak</td>\n",
       "      <td>Yes</td>\n",
       "    </tr>\n",
       "  </tbody>\n",
       "</table>\n",
       "</div>"
      ],
      "text/plain": [
       "    Outlook Temperature Humidity    Wind Play?\n",
       "0     Sunny         Hot     High    Weak    No\n",
       "1     Sunny         Hot     High  Strong    No\n",
       "2  Overcast         Hot     High    Weak   Yes\n",
       "3      Rain        Cool   Normal    Weak   Yes\n",
       "4      Rain        Mild     High    Weak   Yes"
      ]
     },
     "execution_count": 2,
     "metadata": {},
     "output_type": "execute_result"
    }
   ],
   "source": [
    "# Load the play tennis dataset\n",
    "play_tennis = pd.read_csv('/kaggle/input/playtennis3/dataset.csv')\n",
    "\n",
    "# Convert the entire dataframe to categorical type\n",
    "play_tennis = play_tennis.astype('category')\n",
    "\n",
    "# Show the first instances\n",
    "play_tennis.head()"
   ]
  },
  {
   "cell_type": "code",
   "execution_count": 3,
   "id": "f513f2a5",
   "metadata": {
    "execution": {
     "iopub.execute_input": "2022-09-20T13:41:20.216407Z",
     "iopub.status.busy": "2022-09-20T13:41:20.215851Z",
     "iopub.status.idle": "2022-09-20T13:41:21.412772Z",
     "shell.execute_reply": "2022-09-20T13:41:21.411635Z"
    },
    "papermill": {
     "duration": 1.204728,
     "end_time": "2022-09-20T13:41:21.415736",
     "exception": false,
     "start_time": "2022-09-20T13:41:20.211008",
     "status": "completed"
    },
    "tags": []
   },
   "outputs": [],
   "source": [
    "from sklearn.preprocessing import OrdinalEncoder\n",
    "\n",
    "# Encode dataset using OrdinalEncoder (converts to integers). This is done \n",
    "# on the entire dataset to ensure that all classes are seen\n",
    "play_tennis_encoded = pd.DataFrame(OrdinalEncoder().fit_transform(play_tennis))\n",
    "\n",
    "# Split into training and test \n",
    "pt_train = play_tennis_encoded.iloc[0:-1]\n",
    "pt_test = play_tennis_encoded.iloc[-1:]\n",
    "\n",
    "# Split features from targets for easy access\n",
    "pt_train_features = pt_train.iloc[:,0:3]\n",
    "pt_train_targets = pt_train.iloc[:,4]\n",
    "pt_test_features = pt_test.iloc[:,0:3]\n",
    "pt_test_targets = pt_test.iloc[:,4]"
   ]
  },
  {
   "cell_type": "code",
   "execution_count": 4,
   "id": "1d2d2502",
   "metadata": {
    "execution": {
     "iopub.execute_input": "2022-09-20T13:41:21.424481Z",
     "iopub.status.busy": "2022-09-20T13:41:21.423492Z",
     "iopub.status.idle": "2022-09-20T13:41:21.483387Z",
     "shell.execute_reply": "2022-09-20T13:41:21.482060Z"
    },
    "papermill": {
     "duration": 0.067009,
     "end_time": "2022-09-20T13:41:21.486026",
     "exception": false,
     "start_time": "2022-09-20T13:41:21.419017",
     "status": "completed"
    },
    "tags": []
   },
   "outputs": [
    {
     "data": {
      "text/plain": [
       "1.0"
      ]
     },
     "execution_count": 4,
     "metadata": {},
     "output_type": "execute_result"
    }
   ],
   "source": [
    "from sklearn.naive_bayes import CategoricalNB\n",
    "\n",
    "# Create a naive classifier for categorical data and fit it to our \n",
    "# training data\n",
    "categorical_nb = CategoricalNB()\n",
    "categorical_nb.fit(pt_train_features, pt_train_targets)\n",
    "\n",
    "# Score the classifier on our test data\n",
    "categorical_nb.score(pt_test_features, pt_test_targets)"
   ]
  },
  {
   "cell_type": "code",
   "execution_count": 5,
   "id": "2fd1da12",
   "metadata": {
    "execution": {
     "iopub.execute_input": "2022-09-20T13:41:21.495003Z",
     "iopub.status.busy": "2022-09-20T13:41:21.493785Z",
     "iopub.status.idle": "2022-09-20T13:41:21.526250Z",
     "shell.execute_reply": "2022-09-20T13:41:21.525102Z"
    },
    "papermill": {
     "duration": 0.04007,
     "end_time": "2022-09-20T13:41:21.529351",
     "exception": false,
     "start_time": "2022-09-20T13:41:21.489281",
     "status": "completed"
    },
    "tags": []
   },
   "outputs": [],
   "source": [
    "# Load the UCI wine dataset. \n",
    "uci_wine = pd.read_csv('/kaggle/input/uci-wine/wine.data',header=None)\n",
    "uci_wine[0] = uci_wine[0].astype('category')\n",
    "\n",
    "# Perform stratified sampling 80/20 split\n",
    "uci_wine_train = uci_wine.groupby(0, group_keys=False).apply(lambda group: group.sample(frac=0.8))\n",
    "uci_wine_test = uci_wine.drop(uci_wine_train.index)\n",
    "\n",
    "# Split into features and ground thruths/target values\n",
    "uw_train_targets = uci_wine_train[0]\n",
    "uw_train_features = uci_wine_train.drop(0, axis=1)\n",
    "uw_test_targets = uci_wine_test[0]\n",
    "uw_test_features = uci_wine_test.drop(0, axis=1)"
   ]
  },
  {
   "cell_type": "code",
   "execution_count": 6,
   "id": "1d5ea06e",
   "metadata": {
    "execution": {
     "iopub.execute_input": "2022-09-20T13:41:21.537897Z",
     "iopub.status.busy": "2022-09-20T13:41:21.537385Z",
     "iopub.status.idle": "2022-09-20T13:41:21.555926Z",
     "shell.execute_reply": "2022-09-20T13:41:21.554673Z"
    },
    "papermill": {
     "duration": 0.025791,
     "end_time": "2022-09-20T13:41:21.558596",
     "exception": false,
     "start_time": "2022-09-20T13:41:21.532805",
     "status": "completed"
    },
    "tags": []
   },
   "outputs": [
    {
     "data": {
      "text/plain": [
       "(0.9929577464788732, 0.9444444444444444)"
      ]
     },
     "execution_count": 6,
     "metadata": {},
     "output_type": "execute_result"
    }
   ],
   "source": [
    "from sklearn.naive_bayes import GaussianNB\n",
    "\n",
    "gaussian_nb = GaussianNB()\n",
    "gaussian_nb.fit(uw_train_features, uw_train_targets)\n",
    "\n",
    "(gaussian_nb.score(uw_train_features, uw_train_targets), gaussian_nb.score(uw_test_features, uw_test_targets))"
   ]
  }
 ],
 "metadata": {
  "kernelspec": {
   "display_name": "Python 3",
   "language": "python",
   "name": "python3"
  },
  "language_info": {
   "codemirror_mode": {
    "name": "ipython",
    "version": 3
   },
   "file_extension": ".py",
   "mimetype": "text/x-python",
   "name": "python",
   "nbconvert_exporter": "python",
   "pygments_lexer": "ipython3",
   "version": "3.7.12"
  },
  "papermill": {
   "default_parameters": {},
   "duration": 12.30104,
   "end_time": "2022-09-20T13:41:22.588440",
   "environment_variables": {},
   "exception": null,
   "input_path": "__notebook__.ipynb",
   "output_path": "__notebook__.ipynb",
   "parameters": {},
   "start_time": "2022-09-20T13:41:10.287400",
   "version": "2.3.4"
  }
 },
 "nbformat": 4,
 "nbformat_minor": 5
}
