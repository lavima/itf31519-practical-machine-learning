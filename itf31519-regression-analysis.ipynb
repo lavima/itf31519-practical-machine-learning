{
 "cells": [
  {
   "cell_type": "code",
   "execution_count": 1,
   "id": "064f24c0",
   "metadata": {
    "_cell_guid": "b1076dfc-b9ad-4769-8c92-a6c4dae69d19",
    "_uuid": "8f2839f25d086af736a60e9eeb907d3b93b6e0e5",
    "execution": {
     "iopub.execute_input": "2022-11-09T08:21:22.523772Z",
     "iopub.status.busy": "2022-11-09T08:21:22.523249Z",
     "iopub.status.idle": "2022-11-09T08:21:22.543034Z",
     "shell.execute_reply": "2022-11-09T08:21:22.541771Z"
    },
    "papermill": {
     "duration": 0.029939,
     "end_time": "2022-11-09T08:21:22.546242",
     "exception": false,
     "start_time": "2022-11-09T08:21:22.516303",
     "status": "completed"
    },
    "tags": []
   },
   "outputs": [
    {
     "name": "stdout",
     "output_type": "stream",
     "text": [
      "/kaggle/input/insurance/insurance.csv\n"
     ]
    }
   ],
   "source": [
    "# This Python 3 environment comes with many helpful analytics libraries installed\n",
    "# It is defined by the kaggle/python Docker image: https://github.com/kaggle/docker-python\n",
    "# For example, here's several helpful packages to load\n",
    "\n",
    "import numpy as np # linear algebra\n",
    "import pandas as pd # data processing, CSV file I/O (e.g. pd.read_csv)\n",
    "\n",
    "# Input data files are available in the read-only \"../input/\" directory\n",
    "# For example, running this (by clicking run or pressing Shift+Enter) will list all files under the input directory\n",
    "\n",
    "import os\n",
    "for dirname, _, filenames in os.walk('/kaggle/input'):\n",
    "    for filename in filenames:\n",
    "        print(os.path.join(dirname, filename))\n",
    "\n",
    "# You can write up to 20GB to the current directory (/kaggle/working/) that gets preserved as output when you create a version using \"Save & Run All\" \n",
    "# You can also write temporary files to /kaggle/temp/, but they won't be saved outside of the current session"
   ]
  },
  {
   "cell_type": "code",
   "execution_count": 2,
   "id": "711cc534",
   "metadata": {
    "execution": {
     "iopub.execute_input": "2022-11-09T08:21:22.556504Z",
     "iopub.status.busy": "2022-11-09T08:21:22.556075Z",
     "iopub.status.idle": "2022-11-09T08:21:22.603952Z",
     "shell.execute_reply": "2022-11-09T08:21:22.602874Z"
    },
    "papermill": {
     "duration": 0.056287,
     "end_time": "2022-11-09T08:21:22.607006",
     "exception": false,
     "start_time": "2022-11-09T08:21:22.550719",
     "status": "completed"
    },
    "tags": []
   },
   "outputs": [
    {
     "data": {
      "text/html": [
       "<div>\n",
       "<style scoped>\n",
       "    .dataframe tbody tr th:only-of-type {\n",
       "        vertical-align: middle;\n",
       "    }\n",
       "\n",
       "    .dataframe tbody tr th {\n",
       "        vertical-align: top;\n",
       "    }\n",
       "\n",
       "    .dataframe thead th {\n",
       "        text-align: right;\n",
       "    }\n",
       "</style>\n",
       "<table border=\"1\" class=\"dataframe\">\n",
       "  <thead>\n",
       "    <tr style=\"text-align: right;\">\n",
       "      <th></th>\n",
       "      <th>age</th>\n",
       "      <th>sex</th>\n",
       "      <th>bmi</th>\n",
       "      <th>children</th>\n",
       "      <th>smoker</th>\n",
       "      <th>region</th>\n",
       "      <th>charges</th>\n",
       "    </tr>\n",
       "  </thead>\n",
       "  <tbody>\n",
       "    <tr>\n",
       "      <th>0</th>\n",
       "      <td>19</td>\n",
       "      <td>female</td>\n",
       "      <td>27.900</td>\n",
       "      <td>0</td>\n",
       "      <td>yes</td>\n",
       "      <td>southwest</td>\n",
       "      <td>16884.92400</td>\n",
       "    </tr>\n",
       "    <tr>\n",
       "      <th>1</th>\n",
       "      <td>18</td>\n",
       "      <td>male</td>\n",
       "      <td>33.770</td>\n",
       "      <td>1</td>\n",
       "      <td>no</td>\n",
       "      <td>southeast</td>\n",
       "      <td>1725.55230</td>\n",
       "    </tr>\n",
       "    <tr>\n",
       "      <th>2</th>\n",
       "      <td>28</td>\n",
       "      <td>male</td>\n",
       "      <td>33.000</td>\n",
       "      <td>3</td>\n",
       "      <td>no</td>\n",
       "      <td>southeast</td>\n",
       "      <td>4449.46200</td>\n",
       "    </tr>\n",
       "    <tr>\n",
       "      <th>3</th>\n",
       "      <td>33</td>\n",
       "      <td>male</td>\n",
       "      <td>22.705</td>\n",
       "      <td>0</td>\n",
       "      <td>no</td>\n",
       "      <td>northwest</td>\n",
       "      <td>21984.47061</td>\n",
       "    </tr>\n",
       "    <tr>\n",
       "      <th>4</th>\n",
       "      <td>32</td>\n",
       "      <td>male</td>\n",
       "      <td>28.880</td>\n",
       "      <td>0</td>\n",
       "      <td>no</td>\n",
       "      <td>northwest</td>\n",
       "      <td>3866.85520</td>\n",
       "    </tr>\n",
       "  </tbody>\n",
       "</table>\n",
       "</div>"
      ],
      "text/plain": [
       "   age     sex     bmi  children smoker     region      charges\n",
       "0   19  female  27.900         0    yes  southwest  16884.92400\n",
       "1   18    male  33.770         1     no  southeast   1725.55230\n",
       "2   28    male  33.000         3     no  southeast   4449.46200\n",
       "3   33    male  22.705         0     no  northwest  21984.47061\n",
       "4   32    male  28.880         0     no  northwest   3866.85520"
      ]
     },
     "execution_count": 2,
     "metadata": {},
     "output_type": "execute_result"
    }
   ],
   "source": [
    "# Load the dataset\n",
    "dataset = pd.read_csv('/kaggle/input/insurance/insurance.csv')\n",
    "# Show first 5 rows\n",
    "dataset.head()"
   ]
  },
  {
   "cell_type": "code",
   "execution_count": 3,
   "id": "c968b905",
   "metadata": {
    "execution": {
     "iopub.execute_input": "2022-11-09T08:21:22.618897Z",
     "iopub.status.busy": "2022-11-09T08:21:22.618063Z",
     "iopub.status.idle": "2022-11-09T08:21:22.648345Z",
     "shell.execute_reply": "2022-11-09T08:21:22.646333Z"
    },
    "papermill": {
     "duration": 0.039301,
     "end_time": "2022-11-09T08:21:22.651391",
     "exception": false,
     "start_time": "2022-11-09T08:21:22.612090",
     "status": "completed"
    },
    "tags": []
   },
   "outputs": [
    {
     "name": "stdout",
     "output_type": "stream",
     "text": [
      "<class 'pandas.core.frame.DataFrame'>\n",
      "RangeIndex: 1338 entries, 0 to 1337\n",
      "Data columns (total 7 columns):\n",
      " #   Column    Non-Null Count  Dtype  \n",
      "---  ------    --------------  -----  \n",
      " 0   age       1338 non-null   int64  \n",
      " 1   sex       1338 non-null   object \n",
      " 2   bmi       1338 non-null   float64\n",
      " 3   children  1338 non-null   int64  \n",
      " 4   smoker    1338 non-null   object \n",
      " 5   region    1338 non-null   object \n",
      " 6   charges   1338 non-null   float64\n",
      "dtypes: float64(2), int64(2), object(3)\n",
      "memory usage: 73.3+ KB\n"
     ]
    }
   ],
   "source": [
    "# Show types of data\n",
    "dataset.info()"
   ]
  },
  {
   "cell_type": "code",
   "execution_count": 4,
   "id": "2aa884e2",
   "metadata": {
    "execution": {
     "iopub.execute_input": "2022-11-09T08:21:22.662064Z",
     "iopub.status.busy": "2022-11-09T08:21:22.661540Z",
     "iopub.status.idle": "2022-11-09T08:21:23.950296Z",
     "shell.execute_reply": "2022-11-09T08:21:23.948532Z"
    },
    "papermill": {
     "duration": 1.297378,
     "end_time": "2022-11-09T08:21:23.953235",
     "exception": false,
     "start_time": "2022-11-09T08:21:22.655857",
     "status": "completed"
    },
    "tags": []
   },
   "outputs": [],
   "source": [
    "# Split into input and output\n",
    "features = dataset.drop('charges',axis=1)\n",
    "targets = dataset['charges']\n",
    "\n",
    "# Encode categorical data using one-hot encoding\n",
    "encoded_features = pd.get_dummies(features)\n",
    "\n",
    "from sklearn.model_selection import train_test_split\n",
    "\n",
    "# Split into train and test data (0.75/0.25)\n",
    "train_features, test_features, train_targets, test_targets = train_test_split(encoded_features, targets)"
   ]
  },
  {
   "cell_type": "code",
   "execution_count": 5,
   "id": "fc336b80",
   "metadata": {
    "execution": {
     "iopub.execute_input": "2022-11-09T08:21:23.963896Z",
     "iopub.status.busy": "2022-11-09T08:21:23.963429Z",
     "iopub.status.idle": "2022-11-09T08:21:23.978678Z",
     "shell.execute_reply": "2022-11-09T08:21:23.977503Z"
    },
    "papermill": {
     "duration": 0.023633,
     "end_time": "2022-11-09T08:21:23.981259",
     "exception": false,
     "start_time": "2022-11-09T08:21:23.957626",
     "status": "completed"
    },
    "tags": []
   },
   "outputs": [
    {
     "data": {
      "text/html": [
       "<div>\n",
       "<style scoped>\n",
       "    .dataframe tbody tr th:only-of-type {\n",
       "        vertical-align: middle;\n",
       "    }\n",
       "\n",
       "    .dataframe tbody tr th {\n",
       "        vertical-align: top;\n",
       "    }\n",
       "\n",
       "    .dataframe thead th {\n",
       "        text-align: right;\n",
       "    }\n",
       "</style>\n",
       "<table border=\"1\" class=\"dataframe\">\n",
       "  <thead>\n",
       "    <tr style=\"text-align: right;\">\n",
       "      <th></th>\n",
       "      <th>age</th>\n",
       "      <th>bmi</th>\n",
       "      <th>children</th>\n",
       "      <th>sex_female</th>\n",
       "      <th>sex_male</th>\n",
       "      <th>smoker_no</th>\n",
       "      <th>smoker_yes</th>\n",
       "      <th>region_northeast</th>\n",
       "      <th>region_northwest</th>\n",
       "      <th>region_southeast</th>\n",
       "      <th>region_southwest</th>\n",
       "    </tr>\n",
       "  </thead>\n",
       "  <tbody>\n",
       "    <tr>\n",
       "      <th>64</th>\n",
       "      <td>20</td>\n",
       "      <td>22.420</td>\n",
       "      <td>0</td>\n",
       "      <td>1</td>\n",
       "      <td>0</td>\n",
       "      <td>0</td>\n",
       "      <td>1</td>\n",
       "      <td>0</td>\n",
       "      <td>1</td>\n",
       "      <td>0</td>\n",
       "      <td>0</td>\n",
       "    </tr>\n",
       "    <tr>\n",
       "      <th>680</th>\n",
       "      <td>21</td>\n",
       "      <td>17.400</td>\n",
       "      <td>1</td>\n",
       "      <td>1</td>\n",
       "      <td>0</td>\n",
       "      <td>1</td>\n",
       "      <td>0</td>\n",
       "      <td>0</td>\n",
       "      <td>0</td>\n",
       "      <td>0</td>\n",
       "      <td>1</td>\n",
       "    </tr>\n",
       "    <tr>\n",
       "      <th>1237</th>\n",
       "      <td>58</td>\n",
       "      <td>28.215</td>\n",
       "      <td>0</td>\n",
       "      <td>1</td>\n",
       "      <td>0</td>\n",
       "      <td>1</td>\n",
       "      <td>0</td>\n",
       "      <td>0</td>\n",
       "      <td>1</td>\n",
       "      <td>0</td>\n",
       "      <td>0</td>\n",
       "    </tr>\n",
       "    <tr>\n",
       "      <th>572</th>\n",
       "      <td>30</td>\n",
       "      <td>43.120</td>\n",
       "      <td>2</td>\n",
       "      <td>1</td>\n",
       "      <td>0</td>\n",
       "      <td>1</td>\n",
       "      <td>0</td>\n",
       "      <td>0</td>\n",
       "      <td>0</td>\n",
       "      <td>1</td>\n",
       "      <td>0</td>\n",
       "    </tr>\n",
       "    <tr>\n",
       "      <th>462</th>\n",
       "      <td>62</td>\n",
       "      <td>38.095</td>\n",
       "      <td>2</td>\n",
       "      <td>1</td>\n",
       "      <td>0</td>\n",
       "      <td>1</td>\n",
       "      <td>0</td>\n",
       "      <td>1</td>\n",
       "      <td>0</td>\n",
       "      <td>0</td>\n",
       "      <td>0</td>\n",
       "    </tr>\n",
       "  </tbody>\n",
       "</table>\n",
       "</div>"
      ],
      "text/plain": [
       "      age     bmi  children  sex_female  sex_male  smoker_no  smoker_yes  \\\n",
       "64     20  22.420         0           1         0          0           1   \n",
       "680    21  17.400         1           1         0          1           0   \n",
       "1237   58  28.215         0           1         0          1           0   \n",
       "572    30  43.120         2           1         0          1           0   \n",
       "462    62  38.095         2           1         0          1           0   \n",
       "\n",
       "      region_northeast  region_northwest  region_southeast  region_southwest  \n",
       "64                   0                 1                 0                 0  \n",
       "680                  0                 0                 0                 1  \n",
       "1237                 0                 1                 0                 0  \n",
       "572                  0                 0                 1                 0  \n",
       "462                  1                 0                 0                 0  "
      ]
     },
     "execution_count": 5,
     "metadata": {},
     "output_type": "execute_result"
    }
   ],
   "source": [
    "# Show train inputs \n",
    "train_features.head()"
   ]
  },
  {
   "cell_type": "code",
   "execution_count": 6,
   "id": "78cf523c",
   "metadata": {
    "execution": {
     "iopub.execute_input": "2022-11-09T08:21:23.992782Z",
     "iopub.status.busy": "2022-11-09T08:21:23.992374Z",
     "iopub.status.idle": "2022-11-09T08:21:24.006551Z",
     "shell.execute_reply": "2022-11-09T08:21:24.004975Z"
    },
    "papermill": {
     "duration": 0.023117,
     "end_time": "2022-11-09T08:21:24.009270",
     "exception": false,
     "start_time": "2022-11-09T08:21:23.986153",
     "status": "completed"
    },
    "tags": []
   },
   "outputs": [
    {
     "name": "stdout",
     "output_type": "stream",
     "text": [
      "<class 'pandas.core.frame.DataFrame'>\n",
      "RangeIndex: 1338 entries, 0 to 1337\n",
      "Data columns (total 11 columns):\n",
      " #   Column            Non-Null Count  Dtype  \n",
      "---  ------            --------------  -----  \n",
      " 0   age               1338 non-null   int64  \n",
      " 1   bmi               1338 non-null   float64\n",
      " 2   children          1338 non-null   int64  \n",
      " 3   sex_female        1338 non-null   uint8  \n",
      " 4   sex_male          1338 non-null   uint8  \n",
      " 5   smoker_no         1338 non-null   uint8  \n",
      " 6   smoker_yes        1338 non-null   uint8  \n",
      " 7   region_northeast  1338 non-null   uint8  \n",
      " 8   region_northwest  1338 non-null   uint8  \n",
      " 9   region_southeast  1338 non-null   uint8  \n",
      " 10  region_southwest  1338 non-null   uint8  \n",
      "dtypes: float64(1), int64(2), uint8(8)\n",
      "memory usage: 41.9 KB\n"
     ]
    }
   ],
   "source": [
    "# Show encoding\n",
    "encoded_features.info()"
   ]
  },
  {
   "cell_type": "code",
   "execution_count": 7,
   "id": "f253c6fe",
   "metadata": {
    "execution": {
     "iopub.execute_input": "2022-11-09T08:21:24.020558Z",
     "iopub.status.busy": "2022-11-09T08:21:24.019748Z",
     "iopub.status.idle": "2022-11-09T08:21:24.128823Z",
     "shell.execute_reply": "2022-11-09T08:21:24.127163Z"
    },
    "papermill": {
     "duration": 0.118339,
     "end_time": "2022-11-09T08:21:24.132321",
     "exception": false,
     "start_time": "2022-11-09T08:21:24.013982",
     "status": "completed"
    },
    "tags": []
   },
   "outputs": [
    {
     "data": {
      "text/plain": [
       "LinearRegression()"
      ]
     },
     "execution_count": 7,
     "metadata": {},
     "output_type": "execute_result"
    }
   ],
   "source": [
    "from sklearn.linear_model import LinearRegression\n",
    "\n",
    "linear = LinearRegression()\n",
    "linear.fit(encoded_features, targets)"
   ]
  },
  {
   "cell_type": "code",
   "execution_count": 8,
   "id": "335ea548",
   "metadata": {
    "execution": {
     "iopub.execute_input": "2022-11-09T08:21:24.150348Z",
     "iopub.status.busy": "2022-11-09T08:21:24.149158Z",
     "iopub.status.idle": "2022-11-09T08:21:24.170079Z",
     "shell.execute_reply": "2022-11-09T08:21:24.168710Z"
    },
    "papermill": {
     "duration": 0.033456,
     "end_time": "2022-11-09T08:21:24.173282",
     "exception": false,
     "start_time": "2022-11-09T08:21:24.139826",
     "status": "completed"
    },
    "tags": []
   },
   "outputs": [
    {
     "data": {
      "text/plain": [
       "(0.7491218307206247, 0.7564684222431983)"
      ]
     },
     "execution_count": 8,
     "metadata": {},
     "output_type": "execute_result"
    }
   ],
   "source": [
    "# Calculate and show the performance for training and test data \n",
    "(linear.score(train_features, train_targets), linear.score(test_features, test_targets))"
   ]
  },
  {
   "cell_type": "code",
   "execution_count": 9,
   "id": "7824db70",
   "metadata": {
    "execution": {
     "iopub.execute_input": "2022-11-09T08:21:24.205867Z",
     "iopub.status.busy": "2022-11-09T08:21:24.205313Z",
     "iopub.status.idle": "2022-11-09T08:21:24.308680Z",
     "shell.execute_reply": "2022-11-09T08:21:24.307648Z"
    },
    "papermill": {
     "duration": 0.121553,
     "end_time": "2022-11-09T08:21:24.311239",
     "exception": false,
     "start_time": "2022-11-09T08:21:24.189686",
     "status": "completed"
    },
    "tags": []
   },
   "outputs": [
    {
     "data": {
      "text/plain": [
       "DecisionTreeRegressor(max_depth=4)"
      ]
     },
     "execution_count": 9,
     "metadata": {},
     "output_type": "execute_result"
    }
   ],
   "source": [
    "from sklearn.tree import DecisionTreeRegressor\n",
    "\n",
    "# Create regression model with max depth 4 and fit it to our training data\n",
    "tree = DecisionTreeRegressor(max_depth=4)\n",
    "tree.fit(encoded_features, targets)"
   ]
  },
  {
   "cell_type": "code",
   "execution_count": 10,
   "id": "9eb6ea40",
   "metadata": {
    "execution": {
     "iopub.execute_input": "2022-11-09T08:21:24.323757Z",
     "iopub.status.busy": "2022-11-09T08:21:24.323107Z",
     "iopub.status.idle": "2022-11-09T08:21:24.335681Z",
     "shell.execute_reply": "2022-11-09T08:21:24.333829Z"
    },
    "papermill": {
     "duration": 0.022144,
     "end_time": "2022-11-09T08:21:24.338645",
     "exception": false,
     "start_time": "2022-11-09T08:21:24.316501",
     "status": "completed"
    },
    "tags": []
   },
   "outputs": [
    {
     "data": {
      "text/plain": [
       "(0.8710045504187671, 0.8595408164112714)"
      ]
     },
     "execution_count": 10,
     "metadata": {},
     "output_type": "execute_result"
    }
   ],
   "source": [
    "# Calculate and show the performance for training and test data \n",
    "(tree.score(train_features, train_targets), tree.score(test_features, test_targets))"
   ]
  },
  {
   "cell_type": "code",
   "execution_count": 11,
   "id": "eaddc931",
   "metadata": {
    "execution": {
     "iopub.execute_input": "2022-11-09T08:21:24.351722Z",
     "iopub.status.busy": "2022-11-09T08:21:24.350975Z",
     "iopub.status.idle": "2022-11-09T08:21:25.948767Z",
     "shell.execute_reply": "2022-11-09T08:21:25.947519Z"
    },
    "papermill": {
     "duration": 1.607565,
     "end_time": "2022-11-09T08:21:25.951549",
     "exception": false,
     "start_time": "2022-11-09T08:21:24.343984",
     "status": "completed"
    },
    "tags": []
   },
   "outputs": [
    {
     "data": {
      "image/png": "[encoded data removed]",
      "text/plain": [
       "<Figure size 720x720 with 1 Axes>"
      ]
     },
     "metadata": {
      "needs_background": "light"
     },
     "output_type": "display_data"
    }
   ],
   "source": [
    "import matplotlib.pyplot as plt\n",
    "from sklearn.tree import plot_tree\n",
    "\n",
    "# Show our decision tree\n",
    "plt.figure(figsize=(10,10))\n",
    "plot_tree(tree,fontsize=10)\n",
    "plt.show()\n"
   ]
  },
  {
   "cell_type": "code",
   "execution_count": 12,
   "id": "fab170e4",
   "metadata": {
    "execution": {
     "iopub.execute_input": "2022-11-09T08:21:25.967051Z",
     "iopub.status.busy": "2022-11-09T08:21:25.965680Z",
     "iopub.status.idle": "2022-11-09T08:21:25.983551Z",
     "shell.execute_reply": "2022-11-09T08:21:25.982047Z"
    },
    "papermill": {
     "duration": 0.028939,
     "end_time": "2022-11-09T08:21:25.986628",
     "exception": false,
     "start_time": "2022-11-09T08:21:25.957689",
     "status": "completed"
    },
    "tags": []
   },
   "outputs": [
    {
     "data": {
      "text/html": [
       "<div>\n",
       "<style scoped>\n",
       "    .dataframe tbody tr th:only-of-type {\n",
       "        vertical-align: middle;\n",
       "    }\n",
       "\n",
       "    .dataframe tbody tr th {\n",
       "        vertical-align: top;\n",
       "    }\n",
       "\n",
       "    .dataframe thead th {\n",
       "        text-align: right;\n",
       "    }\n",
       "</style>\n",
       "<table border=\"1\" class=\"dataframe\">\n",
       "  <thead>\n",
       "    <tr style=\"text-align: right;\">\n",
       "      <th></th>\n",
       "      <th>age</th>\n",
       "      <th>bmi</th>\n",
       "      <th>children</th>\n",
       "      <th>sex_female</th>\n",
       "      <th>sex_male</th>\n",
       "      <th>smoker_no</th>\n",
       "      <th>smoker_yes</th>\n",
       "      <th>region_northeast</th>\n",
       "      <th>region_northwest</th>\n",
       "      <th>region_southeast</th>\n",
       "      <th>region_southwest</th>\n",
       "    </tr>\n",
       "  </thead>\n",
       "  <tbody>\n",
       "    <tr>\n",
       "      <th>0</th>\n",
       "      <td>19</td>\n",
       "      <td>27.900</td>\n",
       "      <td>0</td>\n",
       "      <td>1</td>\n",
       "      <td>0</td>\n",
       "      <td>0</td>\n",
       "      <td>1</td>\n",
       "      <td>0</td>\n",
       "      <td>0</td>\n",
       "      <td>0</td>\n",
       "      <td>1</td>\n",
       "    </tr>\n",
       "    <tr>\n",
       "      <th>1</th>\n",
       "      <td>18</td>\n",
       "      <td>33.770</td>\n",
       "      <td>1</td>\n",
       "      <td>0</td>\n",
       "      <td>1</td>\n",
       "      <td>1</td>\n",
       "      <td>0</td>\n",
       "      <td>0</td>\n",
       "      <td>0</td>\n",
       "      <td>1</td>\n",
       "      <td>0</td>\n",
       "    </tr>\n",
       "    <tr>\n",
       "      <th>2</th>\n",
       "      <td>28</td>\n",
       "      <td>33.000</td>\n",
       "      <td>3</td>\n",
       "      <td>0</td>\n",
       "      <td>1</td>\n",
       "      <td>1</td>\n",
       "      <td>0</td>\n",
       "      <td>0</td>\n",
       "      <td>0</td>\n",
       "      <td>1</td>\n",
       "      <td>0</td>\n",
       "    </tr>\n",
       "    <tr>\n",
       "      <th>3</th>\n",
       "      <td>33</td>\n",
       "      <td>22.705</td>\n",
       "      <td>0</td>\n",
       "      <td>0</td>\n",
       "      <td>1</td>\n",
       "      <td>1</td>\n",
       "      <td>0</td>\n",
       "      <td>0</td>\n",
       "      <td>1</td>\n",
       "      <td>0</td>\n",
       "      <td>0</td>\n",
       "    </tr>\n",
       "    <tr>\n",
       "      <th>4</th>\n",
       "      <td>32</td>\n",
       "      <td>28.880</td>\n",
       "      <td>0</td>\n",
       "      <td>0</td>\n",
       "      <td>1</td>\n",
       "      <td>1</td>\n",
       "      <td>0</td>\n",
       "      <td>0</td>\n",
       "      <td>1</td>\n",
       "      <td>0</td>\n",
       "      <td>0</td>\n",
       "    </tr>\n",
       "  </tbody>\n",
       "</table>\n",
       "</div>"
      ],
      "text/plain": [
       "   age     bmi  children  sex_female  sex_male  smoker_no  smoker_yes  \\\n",
       "0   19  27.900         0           1         0          0           1   \n",
       "1   18  33.770         1           0         1          1           0   \n",
       "2   28  33.000         3           0         1          1           0   \n",
       "3   33  22.705         0           0         1          1           0   \n",
       "4   32  28.880         0           0         1          1           0   \n",
       "\n",
       "   region_northeast  region_northwest  region_southeast  region_southwest  \n",
       "0                 0                 0                 0                 1  \n",
       "1                 0                 0                 1                 0  \n",
       "2                 0                 0                 1                 0  \n",
       "3                 0                 1                 0                 0  \n",
       "4                 0                 1                 0                 0  "
      ]
     },
     "execution_count": 12,
     "metadata": {},
     "output_type": "execute_result"
    }
   ],
   "source": [
    "encoded_features.head()"
   ]
  }
 ],
 "metadata": {
  "kernelspec": {
   "display_name": "Python 3",
   "language": "python",
   "name": "python3"
  },
  "language_info": {
   "codemirror_mode": {
    "name": "ipython",
    "version": 3
   },
   "file_extension": ".py",
   "mimetype": "text/x-python",
   "name": "python",
   "nbconvert_exporter": "python",
   "pygments_lexer": "ipython3",
   "version": "3.7.12"
  },
  "papermill": {
   "default_parameters": {},
   "duration": 13.799255,
   "end_time": "2022-11-09T08:21:26.820156",
   "environment_variables": {},
   "exception": null,
   "input_path": "__notebook__.ipynb",
   "output_path": "__notebook__.ipynb",
   "parameters": {},
   "start_time": "2022-11-09T08:21:13.020901",
   "version": "2.3.4"
  }
 },
 "nbformat": 4,
 "nbformat_minor": 5
}
