{
 "cells": [
  {
   "cell_type": "code",
   "execution_count": 1,
   "id": "9ada1d89",
   "metadata": {
    "_cell_guid": "b1076dfc-b9ad-4769-8c92-a6c4dae69d19",
    "_uuid": "8f2839f25d086af736a60e9eeb907d3b93b6e0e5",
    "execution": {
     "iopub.execute_input": "2022-10-21T08:12:25.208497Z",
     "iopub.status.busy": "2022-10-21T08:12:25.207844Z",
     "iopub.status.idle": "2022-10-21T08:12:25.222476Z",
     "shell.execute_reply": "2022-10-21T08:12:25.221487Z"
    },
    "papermill": {
     "duration": 0.023853,
     "end_time": "2022-10-21T08:12:25.225203",
     "exception": false,
     "start_time": "2022-10-21T08:12:25.201350",
     "status": "completed"
    },
    "tags": []
   },
   "outputs": [],
   "source": [
    "# This Python 3 environment comes with many helpful analytics libraries installed\n",
    "# It is defined by the kaggle/python Docker image: https://github.com/kaggle/docker-python\n",
    "# For example, here's several helpful packages to load\n",
    "\n",
    "import numpy as np # linear algebra\n",
    "import pandas as pd # data processing, CSV file I/O (e.g. pd.read_csv)\n",
    "\n",
    "# Input data files are available in the read-only \"../input/\" directory\n",
    "# For example, running this (by clicking run or pressing Shift+Enter) will list all files under the input directory\n",
    "\n",
    "import os\n",
    "for dirname, _, filenames in os.walk('/kaggle/input'):\n",
    "    for filename in filenames:\n",
    "        print(os.path.join(dirname, filename))\n",
    "\n",
    "# You can write up to 20GB to the current directory (/kaggle/working/) that gets preserved as output when you create a version using \"Save & Run All\" \n",
    "# You can also write temporary files to /kaggle/temp/, but they won't be saved outside of the current session"
   ]
  },
  {
   "cell_type": "code",
   "execution_count": 2,
   "id": "d08e87eb",
   "metadata": {
    "execution": {
     "iopub.execute_input": "2022-10-21T08:12:25.233561Z",
     "iopub.status.busy": "2022-10-21T08:12:25.233197Z",
     "iopub.status.idle": "2022-10-21T08:12:26.439337Z",
     "shell.execute_reply": "2022-10-21T08:12:26.438454Z"
    },
    "papermill": {
     "duration": 1.213186,
     "end_time": "2022-10-21T08:12:26.441929",
     "exception": false,
     "start_time": "2022-10-21T08:12:25.228743",
     "status": "completed"
    },
    "tags": []
   },
   "outputs": [
    {
     "data": {
      "text/plain": [
       "0    0\n",
       "1    0\n",
       "2    0\n",
       "3    0\n",
       "4    0\n",
       "Name: target, dtype: int64"
      ]
     },
     "execution_count": 2,
     "metadata": {},
     "output_type": "execute_result"
    }
   ],
   "source": [
    "from sklearn.datasets import load_iris\n",
    "\n",
    "iris = load_iris(as_frame=True)\n",
    "iris['data'].head()\n",
    "iris['target'].head()\n"
   ]
  },
  {
   "cell_type": "code",
   "execution_count": 3,
   "id": "447f543d",
   "metadata": {
    "execution": {
     "iopub.execute_input": "2022-10-21T08:12:26.451277Z",
     "iopub.status.busy": "2022-10-21T08:12:26.450314Z",
     "iopub.status.idle": "2022-10-21T08:12:26.528765Z",
     "shell.execute_reply": "2022-10-21T08:12:26.527640Z"
    },
    "papermill": {
     "duration": 0.086092,
     "end_time": "2022-10-21T08:12:26.531606",
     "exception": false,
     "start_time": "2022-10-21T08:12:26.445514",
     "status": "completed"
    },
    "tags": []
   },
   "outputs": [
    {
     "data": {
      "text/plain": [
       "147    2\n",
       "1      0\n",
       "15     0\n",
       "56     1\n",
       "111    2\n",
       "      ..\n",
       "125    2\n",
       "77     1\n",
       "127    2\n",
       "62     1\n",
       "37     0\n",
       "Name: target, Length: 120, dtype: int64"
      ]
     },
     "execution_count": 3,
     "metadata": {},
     "output_type": "execute_result"
    }
   ],
   "source": [
    "from sklearn.model_selection import train_test_split\n",
    "\n",
    "iris_train_data, iris_test_data, iris_train_targets, iris_test_targets = train_test_split(iris['data'], iris['target'], test_size=0.2, stratify=iris['target'])\n",
    "iris_train_targets"
   ]
  },
  {
   "cell_type": "code",
   "execution_count": 4,
   "id": "5fd99f91",
   "metadata": {
    "execution": {
     "iopub.execute_input": "2022-10-21T08:12:26.540676Z",
     "iopub.status.busy": "2022-10-21T08:12:26.540273Z",
     "iopub.status.idle": "2022-10-21T08:12:26.805500Z",
     "shell.execute_reply": "2022-10-21T08:12:26.804466Z"
    },
    "papermill": {
     "duration": 0.272829,
     "end_time": "2022-10-21T08:12:26.808302",
     "exception": false,
     "start_time": "2022-10-21T08:12:26.535473",
     "status": "completed"
    },
    "tags": []
   },
   "outputs": [
    {
     "data": {
      "text/plain": [
       "KMeans(n_clusters=3)"
      ]
     },
     "execution_count": 4,
     "metadata": {},
     "output_type": "execute_result"
    }
   ],
   "source": [
    "from sklearn.cluster import KMeans\n",
    "\n",
    "kmeans = KMeans(n_clusters=3)\n",
    "kmeans.fit(iris_train_data)"
   ]
  },
  {
   "cell_type": "code",
   "execution_count": 5,
   "id": "bc2e1853",
   "metadata": {
    "execution": {
     "iopub.execute_input": "2022-10-21T08:12:26.818636Z",
     "iopub.status.busy": "2022-10-21T08:12:26.818191Z",
     "iopub.status.idle": "2022-10-21T08:12:26.850964Z",
     "shell.execute_reply": "2022-10-21T08:12:26.849710Z"
    },
    "papermill": {
     "duration": 0.04072,
     "end_time": "2022-10-21T08:12:26.853511",
     "exception": false,
     "start_time": "2022-10-21T08:12:26.812791",
     "status": "completed"
    },
    "tags": []
   },
   "outputs": [
    {
     "data": {
      "text/plain": [
       "AgglomerativeClustering(n_clusters=3)"
      ]
     },
     "execution_count": 5,
     "metadata": {},
     "output_type": "execute_result"
    }
   ],
   "source": [
    "from sklearn.cluster import AgglomerativeClustering\n",
    "\n",
    "agglomerative = AgglomerativeClustering(n_clusters=3)\n",
    "agglomerative.fit(iris_train_data)"
   ]
  },
  {
   "cell_type": "code",
   "execution_count": 6,
   "id": "9bd624bf",
   "metadata": {
    "execution": {
     "iopub.execute_input": "2022-10-21T08:12:26.863539Z",
     "iopub.status.busy": "2022-10-21T08:12:26.863135Z",
     "iopub.status.idle": "2022-10-21T08:12:26.881542Z",
     "shell.execute_reply": "2022-10-21T08:12:26.879931Z"
    },
    "papermill": {
     "duration": 0.028604,
     "end_time": "2022-10-21T08:12:26.886174",
     "exception": false,
     "start_time": "2022-10-21T08:12:26.857570",
     "status": "completed"
    },
    "tags": []
   },
   "outputs": [
    {
     "data": {
      "text/plain": [
       "0.5601927661614644"
      ]
     },
     "execution_count": 6,
     "metadata": {},
     "output_type": "execute_result"
    }
   ],
   "source": [
    "from sklearn.metrics import silhouette_score\n",
    "\n",
    "kmeans_silhouette = silhouette_score(iris_train_data, kmeans.labels_)\n",
    "kmeans_silhouette"
   ]
  },
  {
   "cell_type": "code",
   "execution_count": 7,
   "id": "8bcd4f55",
   "metadata": {
    "execution": {
     "iopub.execute_input": "2022-10-21T08:12:26.909627Z",
     "iopub.status.busy": "2022-10-21T08:12:26.908924Z",
     "iopub.status.idle": "2022-10-21T08:12:26.932803Z",
     "shell.execute_reply": "2022-10-21T08:12:26.931274Z"
    },
    "papermill": {
     "duration": 0.040899,
     "end_time": "2022-10-21T08:12:26.937543",
     "exception": false,
     "start_time": "2022-10-21T08:12:26.896644",
     "status": "completed"
    },
    "tags": []
   },
   "outputs": [
    {
     "data": {
      "text/plain": [
       "0.5616872839187859"
      ]
     },
     "execution_count": 7,
     "metadata": {},
     "output_type": "execute_result"
    }
   ],
   "source": [
    "agglomerative_silhouette = silhouette_score(iris_train_data, agglomerative.labels_)\n",
    "agglomerative_silhouette"
   ]
  },
  {
   "cell_type": "code",
   "execution_count": 8,
   "id": "966445fb",
   "metadata": {
    "execution": {
     "iopub.execute_input": "2022-10-21T08:12:26.960239Z",
     "iopub.status.busy": "2022-10-21T08:12:26.959490Z",
     "iopub.status.idle": "2022-10-21T08:12:27.095281Z",
     "shell.execute_reply": "2022-10-21T08:12:27.093393Z"
    },
    "papermill": {
     "duration": 0.152148,
     "end_time": "2022-10-21T08:12:27.100130",
     "exception": false,
     "start_time": "2022-10-21T08:12:26.947982",
     "status": "completed"
    },
    "tags": []
   },
   "outputs": [
    {
     "data": {
      "text/plain": [
       "(0.8857142857142857, 0.8780112044817927)"
      ]
     },
     "execution_count": 8,
     "metadata": {},
     "output_type": "execute_result"
    }
   ],
   "source": [
    "from sklearn.metrics import rand_score\n",
    "\n",
    "kmeans_rand = rand_score(kmeans.predict(iris_train_data), iris_train_targets)\n",
    "agglomerative_rand = rand_score(agglomerative.labels_, iris_train_targets)\n",
    "\n",
    "(kmeans_rand, agglomerative_rand)"
   ]
  },
  {
   "cell_type": "code",
   "execution_count": 9,
   "id": "24cc3118",
   "metadata": {
    "execution": {
     "iopub.execute_input": "2022-10-21T08:12:27.133616Z",
     "iopub.status.busy": "2022-10-21T08:12:27.132544Z",
     "iopub.status.idle": "2022-10-21T08:12:27.151933Z",
     "shell.execute_reply": "2022-10-21T08:12:27.151031Z"
    },
    "papermill": {
     "duration": 0.04161,
     "end_time": "2022-10-21T08:12:27.154932",
     "exception": false,
     "start_time": "2022-10-21T08:12:27.113322",
     "status": "completed"
    },
    "tags": []
   },
   "outputs": [
    {
     "data": {
      "text/plain": [
       "0.8528735632183908"
      ]
     },
     "execution_count": 9,
     "metadata": {},
     "output_type": "execute_result"
    }
   ],
   "source": [
    "kmeans_rand = rand_score(kmeans.predict(iris_test_data), iris_test_targets)\n",
    "kmeans_rand"
   ]
  },
  {
   "cell_type": "code",
   "execution_count": 10,
   "id": "9298b895",
   "metadata": {
    "execution": {
     "iopub.execute_input": "2022-10-21T08:12:27.165983Z",
     "iopub.status.busy": "2022-10-21T08:12:27.165566Z",
     "iopub.status.idle": "2022-10-21T08:12:27.251271Z",
     "shell.execute_reply": "2022-10-21T08:12:27.249913Z"
    },
    "papermill": {
     "duration": 0.094355,
     "end_time": "2022-10-21T08:12:27.254323",
     "exception": false,
     "start_time": "2022-10-21T08:12:27.159968",
     "status": "completed"
    },
    "tags": []
   },
   "outputs": [
    {
     "data": {
      "text/plain": [
       "0.8827586206896552"
      ]
     },
     "execution_count": 10,
     "metadata": {},
     "output_type": "execute_result"
    }
   ],
   "source": [
    "agglomerative_predictions = []\n",
    "for i in range(len(iris_test_targets)):\n",
    "    augmented_data = iris_train_data.append(iris_test_data.iloc[[i]])\n",
    "    \n",
    "    agglo = AgglomerativeClustering(n_clusters=3)\n",
    "    agglo.fit(augmented_data)\n",
    "    \n",
    "    agglomerative_predictions.append(agglo.labels_[-1])\n",
    "agglomerative_rand = rand_score(agglomerative_predictions, iris_test_targets)\n",
    "agglomerative_rand"
   ]
  }
 ],
 "metadata": {
  "kernelspec": {
   "display_name": "Python 3",
   "language": "python",
   "name": "python3"
  },
  "language_info": {
   "codemirror_mode": {
    "name": "ipython",
    "version": 3
   },
   "file_extension": ".py",
   "mimetype": "text/x-python",
   "name": "python",
   "nbconvert_exporter": "python",
   "pygments_lexer": "ipython3",
   "version": "3.7.12"
  },
  "papermill": {
   "default_parameters": {},
   "duration": 11.822855,
   "end_time": "2022-10-21T08:12:28.087503",
   "environment_variables": {},
   "exception": null,
   "input_path": "__notebook__.ipynb",
   "output_path": "__notebook__.ipynb",
   "parameters": {},
   "start_time": "2022-10-21T08:12:16.264648",
   "version": "2.3.4"
  }
 },
 "nbformat": 4,
 "nbformat_minor": 5
}
